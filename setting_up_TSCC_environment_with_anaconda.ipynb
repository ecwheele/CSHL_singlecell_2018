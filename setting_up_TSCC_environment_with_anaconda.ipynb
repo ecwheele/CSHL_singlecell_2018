{
 "cells": [
  {
   "cell_type": "markdown",
   "metadata": {},
   "source": [
    "# Instructions for downloading and installing anaconda"
   ]
  },
  {
   "cell_type": "markdown",
   "metadata": {},
   "source": [
    "# TSCC\n",
    "TSCC houses our 640-core supercomputer as part of a condo resource sharing system which allows other researchers (including bioinformaticians from other labs) to use our portion for their jobs (with an 8 hour time limit) which allows us to use their portions when we need extra computing power. In this course, we will be using TSCC to store and process our single-cell datasets."
   ]
  },
  {
   "cell_type": "markdown",
   "metadata": {},
   "source": [
    "# First steps"
   ]
  },
  {
   "cell_type": "markdown",
   "metadata": {},
   "source": [
    "Your first login session should include some of the following commands, which will familiarize you with the cluster, teach you how to do some useful tasks on the queue, and help you set up a common directory structure shared by everyone in the lab. "
   ]
  },
  {
   "cell_type": "markdown",
   "metadata": {},
   "source": [
    "### First, login to TSCC:\n",
    "\n",
    "```ssh YOUR_TSCC_USERNAME@tscc-login2.sdsc.edu```\n",
    "\n",
    "TSCC has two login nodes, login1 and login2 for load-balancing (i.e. so if you just log on to tscc.sdsc.edu, it’ll choose whichever login node is less occupied. We’re logging in to a specific node because then we’ll always have our screen session on the same node) This is logging specifically on to login2. You can do login1 if you like, as well, to balance it out :)"
   ]
  },
  {
   "cell_type": "markdown",
   "metadata": {},
   "source": [
    "### Download and install anaconda:\n",
    "\n",
    "Download the Anaconda Python/R package manager using wget (web-get). The link below is from the Anaconda downloads page.\n",
    "\n",
    "(Anaconda2 for python 2.7): ```wget https://repo.anaconda.com/archive/Anaconda2-5.2.0-Linux-x86_64.sh```\n",
    "\n",
    "##### Note: You may also see references to \"Anaconda3\", which uses Python3 by default. We'll be using Anaconda2, which provides Python2, however we can still leverage conda to create environments with Python3. In other words, even though we'll be using Anaconda2, we will still be able to use both Python2 and Python3.\n",
    "\n",
    "(Anaconda3 for python 3.6): ```https://repo.anaconda.com/archive/Anaconda3-5.2.0-Linux-x86_64.sh```\n",
    "\n",
    "To install Anaconda2, run the shell script with bash (this will take some time). It will ask you a bunch of questions, but we'll be okay using the defaults for al (just press enter):\n",
    "\n",
    "```bash Anaconda2-5.2.0-Linux-x86_64.sh```\n",
    "\n",
    "To activate Anaconda2, source your .bashrc:\n",
    "\n",
    "```source ~/.bashrc```\n",
    "\n",
    "Make sure your Python is pointed to the Anaconda python with:\n",
    "\n",
    "```which python```\n",
    "\n",
    "The output should look something like:\n",
    "\n",
    "```~/anaconda2/bin/python```"
   ]
  },
  {
   "cell_type": "markdown",
   "metadata": {},
   "source": [
    "### Create a virtual environment on TSCC\n",
    "\n",
    "Virtual environments are isolated programming environments that allow users to install packages specific to individual projects, without worrying about compatability among dependency issues. For example, if you were working on **Project A** which requires Package **V1.0**, but also working on **Project B** which requires Package **V2.0**, you could create two environments and work on both without worrying about any version conflicts.\n",
    "\n",
    "There are a few ways to create virtual environments, but the easiest way for us to just use conda:\n",
    "\n",
    "```bash\n",
    "conda create --name $USER python=2.7 numpy pandas scipy scikit-learn matplotlib seaborn\n",
    "```\n",
    "\n",
    "which creates a conda environment using **$USER** (your username) as a name, and with the following packages installed:\n",
    "- **python** (version 2.7)\n",
    "- **numpy, pandas, scipy, scikit-learn, matplotlib, seaborn** (any versions that are compatible with each other)"
   ]
  },
  {
   "cell_type": "markdown",
   "metadata": {},
   "source": [
    "### Creating virtual environments for packages required for this course\n",
    "We will be using several packages each with its own set of dependencies, so let's create two more environments:\n",
    "\n",
    "Copy/paste this code to create an environment called \"Python2-single-cell\". This (yada yada):\n",
    "```bash\n",
    "conda create -y -n Python2-single-cell \n",
    "source activate Python2-single-cell\n",
    "conda install -y -c ...\n",
    "```\n",
    "\n",
    "\n",
    "Copy/paste this code to create an environment called \"R-single-cell\". This not only creates and activates our environment, but also uses 3 [channels](https://conda.io/docs/glossary.html#channels) (anaconda, r, conda-forge) to install some packages into our environment:\n",
    "\n",
    "```bash\n",
    "conda create -y -n R-single-cell \n",
    "source activate R-single-cell\n",
    "conda install -y -c anaconda gcc=4.8.5 jupyter=1.0.0\n",
    "conda install -y -c r r-base=3.4.1\n",
    "conda install -y -c conda-forge libjpeg-turbo=1.5 zeromq=4.2.5\n",
    "```"
   ]
  },
  {
   "cell_type": "markdown",
   "metadata": {},
   "source": [
    "### Dependency hell\n",
    "While conda does its best to manage packages/dependencies, there may be bugs. Unfortunately in this case, there is an error in the specific C library that is softlinked, as well as a path to an environment variable that needs to be linked. We'll need to fix this, and to do so, run through the steps very carefully:\n",
    "\n",
    "Set some variables in shell\n",
    "```bash\n",
    "ENVNAME=R-single-cell\n",
    "ANACONDAENV=/home/ucsd-trainXY/anaconda2/envs # replace 'ucsd-trainXY' with your username\n",
    "```\n",
    "\n",
    "Copy and run the following block of code, which:\n",
    "- Changes directory to where the problem library is\n",
    "- Moves the softlink somewhere else (just in case)\n",
    "- Softlinks the appropriate library files (libstdc++.so.6.0.24 -> ./libstdc++.so, libstdc++.so.6.0.24 -> ./libstdc++.so.6)\n",
    "\n",
    "```bash\n",
    "cd ${ANACONDAENV}/${ENVNAME}/lib;\n",
    "\n",
    "mv libstdc++.so ./libstdc++.so-bak;\n",
    "mv libstdc++.so.6 ./libstdc++.so.6-bak;\n",
    "\n",
    "ln -s libstdc++.so.6.0.24 ./libstdc++.so;\n",
    "ln -s libstdc++.so.6.0.24 ./libstdc++.so.6;\n",
    "```"
   ]
  },
  {
   "cell_type": "markdown",
   "metadata": {},
   "source": [
    "### Installing Seurat inside R\n",
    "\n",
    "The next step is to install the proper package dependencies required by Seurat. First, however, let's make sure we're using the correct R (that was installed from the r conda channel above):\n",
    "```bash\n",
    "which R\n",
    "```\n",
    "\n",
    "You should see:\n",
    "```bash\n",
    "~/anaconda2/envs/seurat/bin/R\n",
    "```\n",
    "\n",
    "Run R inside your terminal by typing: \n",
    "```bash\n",
    "R\n",
    "```\n",
    "\n",
    "You should see:\n",
    "```R\n",
    "R version 3.4.1 (2017-06-30) -- \"Single Candle\"\n",
    "Copyright (C) 2017 The R Foundation for Statistical Computing\n",
    "Platform: x86_64-pc-linux-gnu (64-bit)\n",
    "\n",
    "R is free software and comes with ABSOLUTELY NO WARRANTY.\n",
    "You are welcome to redistribute it under certain conditions.\n",
    "Type 'license()' or 'licence()' for distribution details.\n",
    "\n",
    "  Natural language support but running in an English locale\n",
    "\n",
    "R is a collaborative project with many contributors.\n",
    "Type 'contributors()' for more information and\n",
    "'citation()' on how to cite R or R packages in publications.\n",
    "\n",
    "Type 'demo()' for some demos, 'help()' for on-line help, or\n",
    "'help.start()' for an HTML browser interface to help.\n",
    "Type 'q()' to quit R.\n",
    "\n",
    "> \n",
    "```\n",
    "\n",
    "First, let's install devtools, which is required by Seurat and also lets us specify specific versions of packages to install:\n",
    "```R\n",
    "install.packages('devtools') # Pick http and a region that's close to us\n",
    "```\n",
    "\n",
    "Next, install stringi:\n",
    "```R\n",
    "install.packages(\"stringi\", configure.args=c(\"--disable-cxx11\"), repos=\"https://cran.rstudio.com\")\n",
    "```\n",
    "\n",
    "After installing these packages, you should be able to run this entire block of code without any problems:\n",
    "```R\n",
    "devtools::install_version(\"uuid\",\"0.1-2\")\n",
    "devtools::install_version(\"repr\",\"0.15.0\")\n",
    "devtools::install_version(\"IRdisplay\",\"0.5.0\")\n",
    "devtools::install_version(\"evaluate\",\"0.10.1\")\n",
    "devtools::install_version(\"crayon\",\"1.3.4\")\n",
    "devtools::install_version(\"digest\",\"0.6.15\")\n",
    "devtools::install_version(\"curl\",\"3.2\")\n",
    "devtools::install_version(\"lubridate\",\"1.7.4\")\n",
    "devtools::install_version(\"Rcpp\",\"0.12.17\")\n",
    "devtools::install_version(\"httpuv\", \"1.3.5\") # current version breaks\n",
    "devtools::install_version(\"shiny\", \"1.0.5\") # current shiny requires httpuv 1.4.3\n",
    "devtools::install_version(\"pillar\", \"1.2.1\") # current pull looks for nonexist 1.2.2\n",
    "devtools::install_version(\"CVST\", \"0.2\") # current pull looks for nonexist\n",
    "devtools::install_version(\"DRR\", \"0.0.3\")\n",
    "devtools::install_version(\"dimRed\", \"0.1.0\")\n",
    "devtools::install_version(\"Hmisc\", \"4.1-1\")\n",
    "devtools::install_version(\"htmlTable\", \"1.11.1\") # current pull references nonexist\n",
    "devtools::install_version(\"recipes\", \"0.1.2\")\n",
    "devtools::install_version(\"tibble\", \"1.4.2\")\n",
    "devtools::install_version(\"ggplot2\", \"2.2.1\")\n",
    "devtools::install_version(\"crosstalk\", \"1.0.0\")\n",
    "devtools::install_version(\"plotly\", \"4.7.1\")\n",
    "devtools::install_version(\"caret\", \"6.0-78\") # current pull references nonexist\n",
    "devtools::install_version(\"Seurat\",\"2.3.1\")\n",
    "devtools::install_version(\"pbdZMQ\",\"0.3-3\")\n",
    "```"
   ]
  },
  {
   "cell_type": "markdown",
   "metadata": {},
   "source": [
    "### Installing DESeq2 inside R\n",
    "Sometimes, we can leverage a package manager called bioconductor to help us install packages (we would have done this for Seurat if Seurat were part of bioconductor). Fortunately, DESeq2 can be installed in this manner:\n",
    "\n",
    "Run this inside R\n",
    "```R\n",
    "source(\"https://bioconductor.org/biocLite.R\")\n",
    "biocLite(\"DESeq2\")  # upgrade all should be fine, otherwise upgrade none\n",
    "```"
   ]
  },
  {
   "cell_type": "markdown",
   "metadata": {},
   "source": [
    "### Making Seurat and DESeq available in your jupyter notebook\n",
    "We can load and use these packages inside the terminal as-is, however it's nice to be able to view things like plots and stuff inside Jupyter. Let's run the appropriate commands inside R, which installs IRKernel, and registers our environment (single-cell) to our Jupyter installation:\n",
    "\n",
    "```R\n",
    "options(unzip = 'internal')\n",
    "devtools::install_github('IRkernel/IRkernel')\n",
    "IRkernel::installspec(name = 'single-cell', displayname = 'single-cell')\n",
    "```"
   ]
  },
  {
   "cell_type": "code",
   "execution_count": null,
   "metadata": {},
   "outputs": [],
   "source": []
  }
 ],
 "metadata": {
  "kernelspec": {
   "display_name": "Python 2",
   "language": "python",
   "name": "python2"
  },
  "language_info": {
   "codemirror_mode": {
    "name": "ipython",
    "version": 2
   },
   "file_extension": ".py",
   "mimetype": "text/x-python",
   "name": "python",
   "nbconvert_exporter": "python",
   "pygments_lexer": "ipython2",
   "version": "2.7.15"
  }
 },
 "nbformat": 4,
 "nbformat_minor": 2
}
