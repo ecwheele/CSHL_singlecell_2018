{
 "cells": [
  {
   "cell_type": "markdown",
   "metadata": {},
   "source": [
    "**Import python packages that we will use for analysis**\n",
    "\n",
    "When we import a package as something else, that is creating a shortcut for us to easily call the package. For example, import pandas as pd will allow us to type pd when calling a pandas function rather than pandas. "
   ]
  },
  {
   "cell_type": "code",
   "execution_count": 1,
   "metadata": {},
   "outputs": [],
   "source": [
    "import pandas as pd\n",
    "import seaborn as sns\n",
    "import os\n",
    "\n",
    "# Let's us import sparse matrices\n",
    "import scipy.io\n",
    "import scipy.sparse\n",
    "import csv\n",
    "\n",
    "# \"from\" lets us import only a part of that package rather than the entire thing. \n",
    "# We only need the pyplot section of matplotlib so we are only importing that.\n",
    "from matplotlib import pyplot as plt\n",
    "\n",
    "# In order for plots to appear in the notebook we need this:\n",
    "%matplotlib inline"
   ]
  },
  {
   "cell_type": "markdown",
   "metadata": {},
   "source": [
    "**Define the directory where the data is located**\n",
    "\n",
    "- We are going to store this directory as a variable input_dir.\n",
    "- Let's also define an output directory where we'll be saving our outputs from this step (output_dir)"
   ]
  },
  {
   "cell_type": "code",
   "execution_count": 2,
   "metadata": {},
   "outputs": [],
   "source": [
    "input_dir = 'inputs/'\n",
    "output_dir = 'outputs/'"
   ]
  },
  {
   "cell_type": "markdown",
   "metadata": {},
   "source": [
    "**Combining strings**\n",
    "\n",
    "To get the full name of the file to read in, we need the directory plus the filename.\n",
    "\n",
    "Combine two strings together in python with the +"
   ]
  },
  {
   "cell_type": "code",
   "execution_count": 3,
   "metadata": {},
   "outputs": [
    {
     "name": "stdout",
     "output_type": "stream",
     "text": [
      "inputs/filtered_gene_bc_matrices/mm10/matrix.mtx\n"
     ]
    }
   ],
   "source": [
    "fn = input_dir + \"filtered_gene_bc_matrices\" + \"/\" + \"mm10\" + \"/\" + \"matrix.mtx\"  # works \n",
    "fn = os.path.join(input_dir, \"filtered_gene_bc_matrices\", \"mm10\", \"matrix.mtx\")  # works better (on some machines, trailing slash is not guaranteed to exist)\n",
    "\n",
    "print(fn)"
   ]
  },
  {
   "cell_type": "markdown",
   "metadata": {},
   "source": [
    "Here we combined a variable and a string. Why did this work? \n",
    "\n",
    "Because the variable data_dir is a placeholder for another string (the full path to the directory).\n",
    "\n",
    "We will use this method to read in the csv file using the pandas command read_csv"
   ]
  },
  {
   "cell_type": "markdown",
   "metadata": {},
   "source": [
    "**Load in data with pandas**\n",
    "\n",
    "To call a function from a package, write that package name followed by a period.\n",
    "<b>Tab</b> after the period to see all the functions that are available to you. "
   ]
  },
  {
   "cell_type": "raw",
   "metadata": {},
   "source": [
    "pd."
   ]
  },
  {
   "cell_type": "markdown",
   "metadata": {},
   "source": [
    "# Reading in counts files as MTX:\n",
    "- \"Dependency hell\" - need to move /home/bay001/anaconda2/envs/brian/lib/libstdc++.so.6 softlink"
   ]
  },
  {
   "cell_type": "code",
   "execution_count": 4,
   "metadata": {},
   "outputs": [
    {
     "data": {
      "text/html": [
       "<div>\n",
       "<style scoped>\n",
       "    .dataframe tbody tr th:only-of-type {\n",
       "        vertical-align: middle;\n",
       "    }\n",
       "\n",
       "    .dataframe tbody tr th {\n",
       "        vertical-align: top;\n",
       "    }\n",
       "\n",
       "    .dataframe thead th {\n",
       "        text-align: right;\n",
       "    }\n",
       "</style>\n",
       "<table border=\"1\" class=\"dataframe\">\n",
       "  <thead>\n",
       "    <tr style=\"text-align: right;\">\n",
       "      <th></th>\n",
       "      <th>AAACATTGTTTGGG-1</th>\n",
       "      <th>AAACCGTGCCAAGT-1</th>\n",
       "      <th>AAACGCACAGCCTA-1</th>\n",
       "      <th>AAACGCACCAGATC-1</th>\n",
       "      <th>AAACGCACCGCCTT-1</th>\n",
       "      <th>AAACGCACCGTAGT-1</th>\n",
       "      <th>AAACGGCTGATAGA-1</th>\n",
       "      <th>AAACTTGAAGAGTA-1</th>\n",
       "      <th>AAACTTGACCACAA-1</th>\n",
       "      <th>AAAGACGATTGTCT-1</th>\n",
       "      <th>...</th>\n",
       "      <th>TTTAGGCTCTCTTA-1</th>\n",
       "      <th>TTTAGGCTGTATCG-1</th>\n",
       "      <th>TTTCACGAAGTGTC-1</th>\n",
       "      <th>TTTCACGACACACA-1</th>\n",
       "      <th>TTTCACGAGAGGCA-1</th>\n",
       "      <th>TTTCAGTGGCGAAG-1</th>\n",
       "      <th>TTTCCAGAACGCTA-1</th>\n",
       "      <th>TTTCCAGATGCAAC-1</th>\n",
       "      <th>TTTCGAACTACTGG-1</th>\n",
       "      <th>TTTCTACTTCACCC-1</th>\n",
       "    </tr>\n",
       "  </thead>\n",
       "  <tbody>\n",
       "    <tr>\n",
       "      <th>ENSMUSG00000051951</th>\n",
       "      <td>0</td>\n",
       "      <td>0</td>\n",
       "      <td>0</td>\n",
       "      <td>0</td>\n",
       "      <td>0</td>\n",
       "      <td>0</td>\n",
       "      <td>0</td>\n",
       "      <td>0</td>\n",
       "      <td>0</td>\n",
       "      <td>0</td>\n",
       "      <td>...</td>\n",
       "      <td>0</td>\n",
       "      <td>0</td>\n",
       "      <td>0</td>\n",
       "      <td>0</td>\n",
       "      <td>0</td>\n",
       "      <td>0</td>\n",
       "      <td>0</td>\n",
       "      <td>0</td>\n",
       "      <td>0</td>\n",
       "      <td>0</td>\n",
       "    </tr>\n",
       "    <tr>\n",
       "      <th>ENSMUSG00000089699</th>\n",
       "      <td>0</td>\n",
       "      <td>0</td>\n",
       "      <td>0</td>\n",
       "      <td>0</td>\n",
       "      <td>0</td>\n",
       "      <td>0</td>\n",
       "      <td>0</td>\n",
       "      <td>0</td>\n",
       "      <td>0</td>\n",
       "      <td>0</td>\n",
       "      <td>...</td>\n",
       "      <td>0</td>\n",
       "      <td>0</td>\n",
       "      <td>0</td>\n",
       "      <td>0</td>\n",
       "      <td>0</td>\n",
       "      <td>0</td>\n",
       "      <td>0</td>\n",
       "      <td>0</td>\n",
       "      <td>0</td>\n",
       "      <td>0</td>\n",
       "    </tr>\n",
       "    <tr>\n",
       "      <th>ENSMUSG00000102343</th>\n",
       "      <td>0</td>\n",
       "      <td>0</td>\n",
       "      <td>0</td>\n",
       "      <td>0</td>\n",
       "      <td>0</td>\n",
       "      <td>0</td>\n",
       "      <td>0</td>\n",
       "      <td>0</td>\n",
       "      <td>0</td>\n",
       "      <td>0</td>\n",
       "      <td>...</td>\n",
       "      <td>0</td>\n",
       "      <td>0</td>\n",
       "      <td>0</td>\n",
       "      <td>0</td>\n",
       "      <td>0</td>\n",
       "      <td>0</td>\n",
       "      <td>0</td>\n",
       "      <td>0</td>\n",
       "      <td>0</td>\n",
       "      <td>0</td>\n",
       "    </tr>\n",
       "    <tr>\n",
       "      <th>ENSMUSG00000025900</th>\n",
       "      <td>0</td>\n",
       "      <td>0</td>\n",
       "      <td>0</td>\n",
       "      <td>0</td>\n",
       "      <td>0</td>\n",
       "      <td>0</td>\n",
       "      <td>0</td>\n",
       "      <td>0</td>\n",
       "      <td>0</td>\n",
       "      <td>0</td>\n",
       "      <td>...</td>\n",
       "      <td>0</td>\n",
       "      <td>0</td>\n",
       "      <td>0</td>\n",
       "      <td>0</td>\n",
       "      <td>0</td>\n",
       "      <td>0</td>\n",
       "      <td>0</td>\n",
       "      <td>0</td>\n",
       "      <td>0</td>\n",
       "      <td>0</td>\n",
       "    </tr>\n",
       "    <tr>\n",
       "      <th>ENSMUSG00000109048</th>\n",
       "      <td>0</td>\n",
       "      <td>0</td>\n",
       "      <td>0</td>\n",
       "      <td>0</td>\n",
       "      <td>0</td>\n",
       "      <td>0</td>\n",
       "      <td>0</td>\n",
       "      <td>0</td>\n",
       "      <td>0</td>\n",
       "      <td>0</td>\n",
       "      <td>...</td>\n",
       "      <td>0</td>\n",
       "      <td>0</td>\n",
       "      <td>0</td>\n",
       "      <td>0</td>\n",
       "      <td>0</td>\n",
       "      <td>0</td>\n",
       "      <td>0</td>\n",
       "      <td>0</td>\n",
       "      <td>0</td>\n",
       "      <td>0</td>\n",
       "    </tr>\n",
       "  </tbody>\n",
       "</table>\n",
       "<p>5 rows × 1660 columns</p>\n",
       "</div>"
      ],
      "text/plain": [
       "                    AAACATTGTTTGGG-1  AAACCGTGCCAAGT-1  AAACGCACAGCCTA-1  \\\n",
       "ENSMUSG00000051951                 0                 0                 0   \n",
       "ENSMUSG00000089699                 0                 0                 0   \n",
       "ENSMUSG00000102343                 0                 0                 0   \n",
       "ENSMUSG00000025900                 0                 0                 0   \n",
       "ENSMUSG00000109048                 0                 0                 0   \n",
       "\n",
       "                    AAACGCACCAGATC-1  AAACGCACCGCCTT-1  AAACGCACCGTAGT-1  \\\n",
       "ENSMUSG00000051951                 0                 0                 0   \n",
       "ENSMUSG00000089699                 0                 0                 0   \n",
       "ENSMUSG00000102343                 0                 0                 0   \n",
       "ENSMUSG00000025900                 0                 0                 0   \n",
       "ENSMUSG00000109048                 0                 0                 0   \n",
       "\n",
       "                    AAACGGCTGATAGA-1  AAACTTGAAGAGTA-1  AAACTTGACCACAA-1  \\\n",
       "ENSMUSG00000051951                 0                 0                 0   \n",
       "ENSMUSG00000089699                 0                 0                 0   \n",
       "ENSMUSG00000102343                 0                 0                 0   \n",
       "ENSMUSG00000025900                 0                 0                 0   \n",
       "ENSMUSG00000109048                 0                 0                 0   \n",
       "\n",
       "                    AAAGACGATTGTCT-1        ...         TTTAGGCTCTCTTA-1  \\\n",
       "ENSMUSG00000051951                 0        ...                        0   \n",
       "ENSMUSG00000089699                 0        ...                        0   \n",
       "ENSMUSG00000102343                 0        ...                        0   \n",
       "ENSMUSG00000025900                 0        ...                        0   \n",
       "ENSMUSG00000109048                 0        ...                        0   \n",
       "\n",
       "                    TTTAGGCTGTATCG-1  TTTCACGAAGTGTC-1  TTTCACGACACACA-1  \\\n",
       "ENSMUSG00000051951                 0                 0                 0   \n",
       "ENSMUSG00000089699                 0                 0                 0   \n",
       "ENSMUSG00000102343                 0                 0                 0   \n",
       "ENSMUSG00000025900                 0                 0                 0   \n",
       "ENSMUSG00000109048                 0                 0                 0   \n",
       "\n",
       "                    TTTCACGAGAGGCA-1  TTTCAGTGGCGAAG-1  TTTCCAGAACGCTA-1  \\\n",
       "ENSMUSG00000051951                 0                 0                 0   \n",
       "ENSMUSG00000089699                 0                 0                 0   \n",
       "ENSMUSG00000102343                 0                 0                 0   \n",
       "ENSMUSG00000025900                 0                 0                 0   \n",
       "ENSMUSG00000109048                 0                 0                 0   \n",
       "\n",
       "                    TTTCCAGATGCAAC-1  TTTCGAACTACTGG-1  TTTCTACTTCACCC-1  \n",
       "ENSMUSG00000051951                 0                 0                 0  \n",
       "ENSMUSG00000089699                 0                 0                 0  \n",
       "ENSMUSG00000102343                 0                 0                 0  \n",
       "ENSMUSG00000025900                 0                 0                 0  \n",
       "ENSMUSG00000109048                 0                 0                 0  \n",
       "\n",
       "[5 rows x 1660 columns]"
      ]
     },
     "execution_count": 4,
     "metadata": {},
     "output_type": "execute_result"
    }
   ],
   "source": [
    "def read_mtx_as_dataframe(mtx_file, columns_file, rows_file):\n",
    "    \"\"\"\n",
    "    Reads a mtx file and returns a pandas dataframe.\n",
    "    \n",
    "    :param mtx_file: sparse matrix\n",
    "    :param columns_file: tab-separated file containing column names\n",
    "    :param rows_file: tab-separated file containing row names\n",
    "    \n",
    "    :return df: Pandas.DataFrame()\n",
    "    \"\"\"\n",
    "    mat = scipy.io.mmread(mtx_file)\n",
    "    columns = [\n",
    "        row[0] for row in csv.reader(open(columns_file), delimiter=\"\\t\")\n",
    "    ]\n",
    "    rows = [\n",
    "        row[0] for row in csv.reader(open(rows_file), delimiter=\"\\t\")\n",
    "    ]\n",
    "    df = pd.DataFrame(mat.todense(), columns=columns, index=rows)\n",
    "    return df\n",
    "\n",
    "mtx = os.path.join(input_dir, \"filtered_gene_bc_matrices\", \"mm10\", \"matrix.mtx\")\n",
    "genes = os.path.join(input_dir, \"filtered_gene_bc_matrices\", \"mm10\", \"genes.tsv\")\n",
    "barcodes = os.path.join(input_dir, \"filtered_gene_bc_matrices\", \"mm10\", \"barcodes.tsv\")\n",
    "\n",
    "raw_counts = read_mtx_as_dataframe(mtx_file=mtx, columns_file=barcodes, rows_file=genes)\n",
    "raw_counts.head()"
   ]
  },
  {
   "cell_type": "markdown",
   "metadata": {},
   "source": [
    "# Reading in counts files as CSV or TSV:"
   ]
  },
  {
   "cell_type": "markdown",
   "metadata": {},
   "source": [
    "Sometimes, we may receive counts matrices in a friendlier tab-separated file. You may use the **pd.read_csv()** or **pd.read_table()** function to read in the file.\n",
    "\n",
    "We are going to use the read_csv function to load in the data. When you call a function, initiate it with a parenthesis and then include all your arguments inside that parenthesis. Here, we need to give the filename and set the index as the first column. Shift tab tab inside of the parenthesis will bring up the help manual for the function."
   ]
  },
  {
   "cell_type": "code",
   "execution_count": null,
   "metadata": {},
   "outputs": [],
   "source": [
    "#Store the dataframe with the name raw_counts\n",
    "raw_counts = pd.read_csv(os.path.join(input_dir, \"batch1_counts.csv\"), index_col=0)\n",
    "\n",
    "#Print the size of the dataframe (number of rows and columns)\n",
    "print(raw_counts.shape)\n",
    "\n",
    "#look at the first 5 rows\n",
    "raw_counts.head()"
   ]
  },
  {
   "cell_type": "markdown",
   "metadata": {},
   "source": [
    "**Select genes for analysis**\n",
    "\n",
    "There is A LOT of dropout in single cell data. Current rough estimates are that only ~10% of the transcriptome is acutally measured in each single cell. Therefore, it is important to only keep the genes for analysis that were detected in enough cells for us to gain meaningful information about them. A commonly used cutoff is to keep genes that were detected with at lest 1 UMI count in 10% of cells. Let's subset this dataframe for only those genes."
   ]
  },
  {
   "cell_type": "code",
   "execution_count": 5,
   "metadata": {},
   "outputs": [
    {
     "data": {
      "text/html": [
       "<div>\n",
       "<style scoped>\n",
       "    .dataframe tbody tr th:only-of-type {\n",
       "        vertical-align: middle;\n",
       "    }\n",
       "\n",
       "    .dataframe tbody tr th {\n",
       "        vertical-align: top;\n",
       "    }\n",
       "\n",
       "    .dataframe thead th {\n",
       "        text-align: right;\n",
       "    }\n",
       "</style>\n",
       "<table border=\"1\" class=\"dataframe\">\n",
       "  <thead>\n",
       "    <tr style=\"text-align: right;\">\n",
       "      <th></th>\n",
       "      <th>AAACATTGTTTGGG-1</th>\n",
       "      <th>AAACCGTGCCAAGT-1</th>\n",
       "      <th>AAACGCACAGCCTA-1</th>\n",
       "      <th>AAACGCACCAGATC-1</th>\n",
       "      <th>AAACGCACCGCCTT-1</th>\n",
       "      <th>AAACGCACCGTAGT-1</th>\n",
       "      <th>AAACGGCTGATAGA-1</th>\n",
       "      <th>AAACTTGAAGAGTA-1</th>\n",
       "      <th>AAACTTGACCACAA-1</th>\n",
       "      <th>AAAGACGATTGTCT-1</th>\n",
       "      <th>...</th>\n",
       "      <th>TTTAGGCTCTCTTA-1</th>\n",
       "      <th>TTTAGGCTGTATCG-1</th>\n",
       "      <th>TTTCACGAAGTGTC-1</th>\n",
       "      <th>TTTCACGACACACA-1</th>\n",
       "      <th>TTTCACGAGAGGCA-1</th>\n",
       "      <th>TTTCAGTGGCGAAG-1</th>\n",
       "      <th>TTTCCAGAACGCTA-1</th>\n",
       "      <th>TTTCCAGATGCAAC-1</th>\n",
       "      <th>TTTCGAACTACTGG-1</th>\n",
       "      <th>TTTCTACTTCACCC-1</th>\n",
       "    </tr>\n",
       "  </thead>\n",
       "  <tbody>\n",
       "    <tr>\n",
       "      <th>ENSMUSG00000051951</th>\n",
       "      <td>False</td>\n",
       "      <td>False</td>\n",
       "      <td>False</td>\n",
       "      <td>False</td>\n",
       "      <td>False</td>\n",
       "      <td>False</td>\n",
       "      <td>False</td>\n",
       "      <td>False</td>\n",
       "      <td>False</td>\n",
       "      <td>False</td>\n",
       "      <td>...</td>\n",
       "      <td>False</td>\n",
       "      <td>False</td>\n",
       "      <td>False</td>\n",
       "      <td>False</td>\n",
       "      <td>False</td>\n",
       "      <td>False</td>\n",
       "      <td>False</td>\n",
       "      <td>False</td>\n",
       "      <td>False</td>\n",
       "      <td>False</td>\n",
       "    </tr>\n",
       "    <tr>\n",
       "      <th>ENSMUSG00000089699</th>\n",
       "      <td>False</td>\n",
       "      <td>False</td>\n",
       "      <td>False</td>\n",
       "      <td>False</td>\n",
       "      <td>False</td>\n",
       "      <td>False</td>\n",
       "      <td>False</td>\n",
       "      <td>False</td>\n",
       "      <td>False</td>\n",
       "      <td>False</td>\n",
       "      <td>...</td>\n",
       "      <td>False</td>\n",
       "      <td>False</td>\n",
       "      <td>False</td>\n",
       "      <td>False</td>\n",
       "      <td>False</td>\n",
       "      <td>False</td>\n",
       "      <td>False</td>\n",
       "      <td>False</td>\n",
       "      <td>False</td>\n",
       "      <td>False</td>\n",
       "    </tr>\n",
       "    <tr>\n",
       "      <th>ENSMUSG00000102343</th>\n",
       "      <td>False</td>\n",
       "      <td>False</td>\n",
       "      <td>False</td>\n",
       "      <td>False</td>\n",
       "      <td>False</td>\n",
       "      <td>False</td>\n",
       "      <td>False</td>\n",
       "      <td>False</td>\n",
       "      <td>False</td>\n",
       "      <td>False</td>\n",
       "      <td>...</td>\n",
       "      <td>False</td>\n",
       "      <td>False</td>\n",
       "      <td>False</td>\n",
       "      <td>False</td>\n",
       "      <td>False</td>\n",
       "      <td>False</td>\n",
       "      <td>False</td>\n",
       "      <td>False</td>\n",
       "      <td>False</td>\n",
       "      <td>False</td>\n",
       "    </tr>\n",
       "    <tr>\n",
       "      <th>ENSMUSG00000025900</th>\n",
       "      <td>False</td>\n",
       "      <td>False</td>\n",
       "      <td>False</td>\n",
       "      <td>False</td>\n",
       "      <td>False</td>\n",
       "      <td>False</td>\n",
       "      <td>False</td>\n",
       "      <td>False</td>\n",
       "      <td>False</td>\n",
       "      <td>False</td>\n",
       "      <td>...</td>\n",
       "      <td>False</td>\n",
       "      <td>False</td>\n",
       "      <td>False</td>\n",
       "      <td>False</td>\n",
       "      <td>False</td>\n",
       "      <td>False</td>\n",
       "      <td>False</td>\n",
       "      <td>False</td>\n",
       "      <td>False</td>\n",
       "      <td>False</td>\n",
       "    </tr>\n",
       "    <tr>\n",
       "      <th>ENSMUSG00000109048</th>\n",
       "      <td>False</td>\n",
       "      <td>False</td>\n",
       "      <td>False</td>\n",
       "      <td>False</td>\n",
       "      <td>False</td>\n",
       "      <td>False</td>\n",
       "      <td>False</td>\n",
       "      <td>False</td>\n",
       "      <td>False</td>\n",
       "      <td>False</td>\n",
       "      <td>...</td>\n",
       "      <td>False</td>\n",
       "      <td>False</td>\n",
       "      <td>False</td>\n",
       "      <td>False</td>\n",
       "      <td>False</td>\n",
       "      <td>False</td>\n",
       "      <td>False</td>\n",
       "      <td>False</td>\n",
       "      <td>False</td>\n",
       "      <td>False</td>\n",
       "    </tr>\n",
       "  </tbody>\n",
       "</table>\n",
       "<p>5 rows × 1660 columns</p>\n",
       "</div>"
      ],
      "text/plain": [
       "                    AAACATTGTTTGGG-1  AAACCGTGCCAAGT-1  AAACGCACAGCCTA-1  \\\n",
       "ENSMUSG00000051951             False             False             False   \n",
       "ENSMUSG00000089699             False             False             False   \n",
       "ENSMUSG00000102343             False             False             False   \n",
       "ENSMUSG00000025900             False             False             False   \n",
       "ENSMUSG00000109048             False             False             False   \n",
       "\n",
       "                    AAACGCACCAGATC-1  AAACGCACCGCCTT-1  AAACGCACCGTAGT-1  \\\n",
       "ENSMUSG00000051951             False             False             False   \n",
       "ENSMUSG00000089699             False             False             False   \n",
       "ENSMUSG00000102343             False             False             False   \n",
       "ENSMUSG00000025900             False             False             False   \n",
       "ENSMUSG00000109048             False             False             False   \n",
       "\n",
       "                    AAACGGCTGATAGA-1  AAACTTGAAGAGTA-1  AAACTTGACCACAA-1  \\\n",
       "ENSMUSG00000051951             False             False             False   \n",
       "ENSMUSG00000089699             False             False             False   \n",
       "ENSMUSG00000102343             False             False             False   \n",
       "ENSMUSG00000025900             False             False             False   \n",
       "ENSMUSG00000109048             False             False             False   \n",
       "\n",
       "                    AAAGACGATTGTCT-1        ...         TTTAGGCTCTCTTA-1  \\\n",
       "ENSMUSG00000051951             False        ...                    False   \n",
       "ENSMUSG00000089699             False        ...                    False   \n",
       "ENSMUSG00000102343             False        ...                    False   \n",
       "ENSMUSG00000025900             False        ...                    False   \n",
       "ENSMUSG00000109048             False        ...                    False   \n",
       "\n",
       "                    TTTAGGCTGTATCG-1  TTTCACGAAGTGTC-1  TTTCACGACACACA-1  \\\n",
       "ENSMUSG00000051951             False             False             False   \n",
       "ENSMUSG00000089699             False             False             False   \n",
       "ENSMUSG00000102343             False             False             False   \n",
       "ENSMUSG00000025900             False             False             False   \n",
       "ENSMUSG00000109048             False             False             False   \n",
       "\n",
       "                    TTTCACGAGAGGCA-1  TTTCAGTGGCGAAG-1  TTTCCAGAACGCTA-1  \\\n",
       "ENSMUSG00000051951             False             False             False   \n",
       "ENSMUSG00000089699             False             False             False   \n",
       "ENSMUSG00000102343             False             False             False   \n",
       "ENSMUSG00000025900             False             False             False   \n",
       "ENSMUSG00000109048             False             False             False   \n",
       "\n",
       "                    TTTCCAGATGCAAC-1  TTTCGAACTACTGG-1  TTTCTACTTCACCC-1  \n",
       "ENSMUSG00000051951             False             False             False  \n",
       "ENSMUSG00000089699             False             False             False  \n",
       "ENSMUSG00000102343             False             False             False  \n",
       "ENSMUSG00000025900             False             False             False  \n",
       "ENSMUSG00000109048             False             False             False  \n",
       "\n",
       "[5 rows x 1660 columns]"
      ]
     },
     "execution_count": 5,
     "metadata": {},
     "output_type": "execute_result"
    }
   ],
   "source": [
    "# Is the UMI count greater than 0 (at least 1). \n",
    "# I am going to wrap thisthis function in head to make it easy to view the result\n",
    "\n",
    "(raw_counts > 0).head()"
   ]
  },
  {
   "cell_type": "markdown",
   "metadata": {},
   "source": [
    "Notice the result is a True/False (boolean) of whether or not the condition was satisfied. We are going to use .sum to count the number of True values in each row. The number of true values for each gene will tell us how many cells had a count of > 0 for that gene. "
   ]
  },
  {
   "cell_type": "code",
   "execution_count": 6,
   "metadata": {},
   "outputs": [
    {
     "data": {
      "text/plain": [
       "ENSMUSG00000051951    0\n",
       "ENSMUSG00000089699    0\n",
       "ENSMUSG00000102343    0\n",
       "ENSMUSG00000025900    0\n",
       "ENSMUSG00000109048    0\n",
       "dtype: int64"
      ]
     },
     "execution_count": 6,
     "metadata": {},
     "output_type": "execute_result"
    }
   ],
   "source": [
    "#Axis = 1 calculates the sum across the rows (genes) instead of columns (cells)\n",
    "#Again, using head to only look at the first 5 results. \n",
    "\n",
    "(raw_counts > 0).sum(axis=1).head()"
   ]
  },
  {
   "cell_type": "markdown",
   "metadata": {},
   "source": [
    "We are interested in genes that were detected in at least 10% of cells. So we need genes where the sum that we just calculated is at least 10% of the total number of cells we have. First lets get the number corresponding to 10% of the cells."
   ]
  },
  {
   "cell_type": "code",
   "execution_count": 7,
   "metadata": {},
   "outputs": [
    {
     "data": {
      "text/plain": [
       "166.0"
      ]
     },
     "execution_count": 7,
     "metadata": {},
     "output_type": "execute_result"
    }
   ],
   "source": [
    "#all the cell IDs are stored in the columns of our dataframe, \n",
    "#so we can get the total number of cells by finding the length of the columns\n",
    "\n",
    "num_cells = len(raw_counts.columns)\n",
    "0.1*num_cells"
   ]
  },
  {
   "cell_type": "code",
   "execution_count": 8,
   "metadata": {},
   "outputs": [
    {
     "data": {
      "text/plain": [
       "ENSMUSG00000051951    False\n",
       "ENSMUSG00000089699    False\n",
       "ENSMUSG00000102343    False\n",
       "ENSMUSG00000025900    False\n",
       "ENSMUSG00000109048    False\n",
       "dtype: bool"
      ]
     },
     "execution_count": 8,
     "metadata": {},
     "output_type": "execute_result"
    }
   ],
   "source": [
    "#now ask how many of those genes have a sum greater than 0.1% times the number of cells\n",
    "\n",
    "((raw_counts > 0).sum(axis=1) > 0.1*num_cells).head()"
   ]
  },
  {
   "cell_type": "code",
   "execution_count": 9,
   "metadata": {},
   "outputs": [
    {
     "data": {
      "text/plain": [
       "ENSMUSG00000051951    False\n",
       "ENSMUSG00000089699    False\n",
       "ENSMUSG00000102343    False\n",
       "ENSMUSG00000025900    False\n",
       "ENSMUSG00000109048    False\n",
       "dtype: bool"
      ]
     },
     "execution_count": 9,
     "metadata": {},
     "output_type": "execute_result"
    }
   ],
   "source": [
    "#We are going to store this boolean result as the variable genes_to_keep:\n",
    "\n",
    "genes_to_keep = (raw_counts > 0).sum(axis=1) > 0.1*num_cells\n",
    "genes_to_keep.head()"
   ]
  },
  {
   "cell_type": "markdown",
   "metadata": {},
   "source": [
    "Now subset the dataframe to only keep genes that have the True value. "
   ]
  },
  {
   "cell_type": "code",
   "execution_count": 10,
   "metadata": {},
   "outputs": [
    {
     "name": "stdout",
     "output_type": "stream",
     "text": [
      "(5069, 1660)\n"
     ]
    },
    {
     "data": {
      "text/html": [
       "<div>\n",
       "<style scoped>\n",
       "    .dataframe tbody tr th:only-of-type {\n",
       "        vertical-align: middle;\n",
       "    }\n",
       "\n",
       "    .dataframe tbody tr th {\n",
       "        vertical-align: top;\n",
       "    }\n",
       "\n",
       "    .dataframe thead th {\n",
       "        text-align: right;\n",
       "    }\n",
       "</style>\n",
       "<table border=\"1\" class=\"dataframe\">\n",
       "  <thead>\n",
       "    <tr style=\"text-align: right;\">\n",
       "      <th></th>\n",
       "      <th>AAACATTGTTTGGG-1</th>\n",
       "      <th>AAACCGTGCCAAGT-1</th>\n",
       "      <th>AAACGCACAGCCTA-1</th>\n",
       "      <th>AAACGCACCAGATC-1</th>\n",
       "      <th>AAACGCACCGCCTT-1</th>\n",
       "      <th>AAACGCACCGTAGT-1</th>\n",
       "      <th>AAACGGCTGATAGA-1</th>\n",
       "      <th>AAACTTGAAGAGTA-1</th>\n",
       "      <th>AAACTTGACCACAA-1</th>\n",
       "      <th>AAAGACGATTGTCT-1</th>\n",
       "      <th>...</th>\n",
       "      <th>TTTAGGCTCTCTTA-1</th>\n",
       "      <th>TTTAGGCTGTATCG-1</th>\n",
       "      <th>TTTCACGAAGTGTC-1</th>\n",
       "      <th>TTTCACGACACACA-1</th>\n",
       "      <th>TTTCACGAGAGGCA-1</th>\n",
       "      <th>TTTCAGTGGCGAAG-1</th>\n",
       "      <th>TTTCCAGAACGCTA-1</th>\n",
       "      <th>TTTCCAGATGCAAC-1</th>\n",
       "      <th>TTTCGAACTACTGG-1</th>\n",
       "      <th>TTTCTACTTCACCC-1</th>\n",
       "    </tr>\n",
       "  </thead>\n",
       "  <tbody>\n",
       "    <tr>\n",
       "      <th>ENSMUSG00000033845</th>\n",
       "      <td>2</td>\n",
       "      <td>1</td>\n",
       "      <td>2</td>\n",
       "      <td>2</td>\n",
       "      <td>0</td>\n",
       "      <td>4</td>\n",
       "      <td>0</td>\n",
       "      <td>1</td>\n",
       "      <td>4</td>\n",
       "      <td>0</td>\n",
       "      <td>...</td>\n",
       "      <td>1</td>\n",
       "      <td>0</td>\n",
       "      <td>1</td>\n",
       "      <td>0</td>\n",
       "      <td>4</td>\n",
       "      <td>0</td>\n",
       "      <td>2</td>\n",
       "      <td>3</td>\n",
       "      <td>0</td>\n",
       "      <td>3</td>\n",
       "    </tr>\n",
       "    <tr>\n",
       "      <th>ENSMUSG00000025903</th>\n",
       "      <td>2</td>\n",
       "      <td>0</td>\n",
       "      <td>0</td>\n",
       "      <td>1</td>\n",
       "      <td>0</td>\n",
       "      <td>0</td>\n",
       "      <td>0</td>\n",
       "      <td>0</td>\n",
       "      <td>1</td>\n",
       "      <td>0</td>\n",
       "      <td>...</td>\n",
       "      <td>0</td>\n",
       "      <td>0</td>\n",
       "      <td>1</td>\n",
       "      <td>0</td>\n",
       "      <td>0</td>\n",
       "      <td>0</td>\n",
       "      <td>3</td>\n",
       "      <td>0</td>\n",
       "      <td>0</td>\n",
       "      <td>3</td>\n",
       "    </tr>\n",
       "    <tr>\n",
       "      <th>ENSMUSG00000033813</th>\n",
       "      <td>0</td>\n",
       "      <td>0</td>\n",
       "      <td>0</td>\n",
       "      <td>0</td>\n",
       "      <td>0</td>\n",
       "      <td>0</td>\n",
       "      <td>0</td>\n",
       "      <td>0</td>\n",
       "      <td>1</td>\n",
       "      <td>0</td>\n",
       "      <td>...</td>\n",
       "      <td>0</td>\n",
       "      <td>0</td>\n",
       "      <td>0</td>\n",
       "      <td>0</td>\n",
       "      <td>0</td>\n",
       "      <td>1</td>\n",
       "      <td>0</td>\n",
       "      <td>2</td>\n",
       "      <td>0</td>\n",
       "      <td>1</td>\n",
       "    </tr>\n",
       "    <tr>\n",
       "      <th>ENSMUSG00000033793</th>\n",
       "      <td>0</td>\n",
       "      <td>0</td>\n",
       "      <td>0</td>\n",
       "      <td>0</td>\n",
       "      <td>0</td>\n",
       "      <td>0</td>\n",
       "      <td>0</td>\n",
       "      <td>0</td>\n",
       "      <td>0</td>\n",
       "      <td>0</td>\n",
       "      <td>...</td>\n",
       "      <td>0</td>\n",
       "      <td>0</td>\n",
       "      <td>0</td>\n",
       "      <td>0</td>\n",
       "      <td>0</td>\n",
       "      <td>0</td>\n",
       "      <td>0</td>\n",
       "      <td>0</td>\n",
       "      <td>0</td>\n",
       "      <td>0</td>\n",
       "    </tr>\n",
       "    <tr>\n",
       "      <th>ENSMUSG00000061024</th>\n",
       "      <td>0</td>\n",
       "      <td>2</td>\n",
       "      <td>0</td>\n",
       "      <td>2</td>\n",
       "      <td>2</td>\n",
       "      <td>0</td>\n",
       "      <td>0</td>\n",
       "      <td>0</td>\n",
       "      <td>2</td>\n",
       "      <td>0</td>\n",
       "      <td>...</td>\n",
       "      <td>1</td>\n",
       "      <td>0</td>\n",
       "      <td>1</td>\n",
       "      <td>0</td>\n",
       "      <td>0</td>\n",
       "      <td>0</td>\n",
       "      <td>1</td>\n",
       "      <td>1</td>\n",
       "      <td>2</td>\n",
       "      <td>0</td>\n",
       "    </tr>\n",
       "  </tbody>\n",
       "</table>\n",
       "<p>5 rows × 1660 columns</p>\n",
       "</div>"
      ],
      "text/plain": [
       "                    AAACATTGTTTGGG-1  AAACCGTGCCAAGT-1  AAACGCACAGCCTA-1  \\\n",
       "ENSMUSG00000033845                 2                 1                 2   \n",
       "ENSMUSG00000025903                 2                 0                 0   \n",
       "ENSMUSG00000033813                 0                 0                 0   \n",
       "ENSMUSG00000033793                 0                 0                 0   \n",
       "ENSMUSG00000061024                 0                 2                 0   \n",
       "\n",
       "                    AAACGCACCAGATC-1  AAACGCACCGCCTT-1  AAACGCACCGTAGT-1  \\\n",
       "ENSMUSG00000033845                 2                 0                 4   \n",
       "ENSMUSG00000025903                 1                 0                 0   \n",
       "ENSMUSG00000033813                 0                 0                 0   \n",
       "ENSMUSG00000033793                 0                 0                 0   \n",
       "ENSMUSG00000061024                 2                 2                 0   \n",
       "\n",
       "                    AAACGGCTGATAGA-1  AAACTTGAAGAGTA-1  AAACTTGACCACAA-1  \\\n",
       "ENSMUSG00000033845                 0                 1                 4   \n",
       "ENSMUSG00000025903                 0                 0                 1   \n",
       "ENSMUSG00000033813                 0                 0                 1   \n",
       "ENSMUSG00000033793                 0                 0                 0   \n",
       "ENSMUSG00000061024                 0                 0                 2   \n",
       "\n",
       "                    AAAGACGATTGTCT-1        ...         TTTAGGCTCTCTTA-1  \\\n",
       "ENSMUSG00000033845                 0        ...                        1   \n",
       "ENSMUSG00000025903                 0        ...                        0   \n",
       "ENSMUSG00000033813                 0        ...                        0   \n",
       "ENSMUSG00000033793                 0        ...                        0   \n",
       "ENSMUSG00000061024                 0        ...                        1   \n",
       "\n",
       "                    TTTAGGCTGTATCG-1  TTTCACGAAGTGTC-1  TTTCACGACACACA-1  \\\n",
       "ENSMUSG00000033845                 0                 1                 0   \n",
       "ENSMUSG00000025903                 0                 1                 0   \n",
       "ENSMUSG00000033813                 0                 0                 0   \n",
       "ENSMUSG00000033793                 0                 0                 0   \n",
       "ENSMUSG00000061024                 0                 1                 0   \n",
       "\n",
       "                    TTTCACGAGAGGCA-1  TTTCAGTGGCGAAG-1  TTTCCAGAACGCTA-1  \\\n",
       "ENSMUSG00000033845                 4                 0                 2   \n",
       "ENSMUSG00000025903                 0                 0                 3   \n",
       "ENSMUSG00000033813                 0                 1                 0   \n",
       "ENSMUSG00000033793                 0                 0                 0   \n",
       "ENSMUSG00000061024                 0                 0                 1   \n",
       "\n",
       "                    TTTCCAGATGCAAC-1  TTTCGAACTACTGG-1  TTTCTACTTCACCC-1  \n",
       "ENSMUSG00000033845                 3                 0                 3  \n",
       "ENSMUSG00000025903                 0                 0                 3  \n",
       "ENSMUSG00000033813                 2                 0                 1  \n",
       "ENSMUSG00000033793                 0                 0                 0  \n",
       "ENSMUSG00000061024                 1                 2                 0  \n",
       "\n",
       "[5 rows x 1660 columns]"
      ]
     },
     "execution_count": 10,
     "metadata": {},
     "output_type": "execute_result"
    }
   ],
   "source": [
    "counts_filtered = raw_counts.loc[genes_to_keep]\n",
    "\n",
    "#How many genes are we left with?\n",
    "print(counts_filtered.shape)\n",
    "counts_filtered.head()"
   ]
  },
  {
   "cell_type": "markdown",
   "metadata": {},
   "source": [
    "**How many UMIs are detected per cell?**\n",
    "\n",
    "In this dataframe, the number of UMIs detected is the sum of the columns. Remember we summed the rows before. How do you get the column sums? Change the axis level!"
   ]
  },
  {
   "cell_type": "code",
   "execution_count": 11,
   "metadata": {},
   "outputs": [
    {
     "data": {
      "text/plain": [
       "AAACATTGTTTGGG-1    6522\n",
       "AAACCGTGCCAAGT-1    3124\n",
       "AAACGCACAGCCTA-1    8209\n",
       "AAACGCACCAGATC-1    9067\n",
       "AAACGCACCGCCTT-1    7324\n",
       "dtype: int64"
      ]
     },
     "execution_count": 11,
     "metadata": {},
     "output_type": "execute_result"
    }
   ],
   "source": [
    "counts_filtered.sum(axis=0).head()"
   ]
  },
  {
   "cell_type": "markdown",
   "metadata": {},
   "source": [
    "Let's make a histogram of these counts so we can see how many UMIs are expressed in all of our cells."
   ]
  },
  {
   "cell_type": "code",
   "execution_count": 12,
   "metadata": {},
   "outputs": [
    {
     "data": {
      "image/png": "[encoded data removed]",
      "text/plain": [
       "<matplotlib.figure.Figure at 0x2b56a3d88fd0>"
      ]
     },
     "metadata": {},
     "output_type": "display_data"
    }
   ],
   "source": [
    "#make the background color white (default is grey)\n",
    "sns.set_style(\"whitegrid\")\n",
    "\n",
    "#Histogram of the sums we calculated above. Increase the number of bins for higher resolution.\n",
    "#What happens if you use different bin sizes? Try it out!\n",
    "plt.hist(counts_filtered.sum(axis=0), bins=50)\n",
    "\n",
    "#Give the plot an xlabel and a title\n",
    "plt.xlabel(\"number of UMIs per cell\")\n",
    "plt.title('histogram of UMI counts per cell')\n",
    "\n",
    "#This will prevent any text from being printed out other than your plot. \n",
    "#Sometimes these functions automatically print a lot of things that are annoying.\n",
    "plt.show()"
   ]
  },
  {
   "cell_type": "markdown",
   "metadata": {},
   "source": [
    "Do these counts look reasonable? Are there any cells that we should filter out? We can also display this as a boxplot. Or a voilinplot. Check out the code below."
   ]
  },
  {
   "cell_type": "code",
   "execution_count": 13,
   "metadata": {},
   "outputs": [
    {
     "data": {
      "text/plain": [
       "Text(0,0.5,'UMI counts per cell')"
      ]
     },
     "execution_count": 13,
     "metadata": {},
     "output_type": "execute_result"
    },
    {
     "data": {
      "image/png": "[encoded data removed]",
      "text/plain": [
       "<matplotlib.figure.Figure at 0x2b56a3e9ff98>"
      ]
     },
     "metadata": {},
     "output_type": "display_data"
    }
   ],
   "source": [
    "#Making axis labels with seaborn plots is a little different. \n",
    "#We are going to call the graph that we made g. then set_ylabel on g\n",
    "\n",
    "g = sns.boxplot(counts_filtered.sum(axis=0), orient='v')\n",
    "g.set_ylabel(\"UMI counts per cell\")"
   ]
  },
  {
   "cell_type": "code",
   "execution_count": 14,
   "metadata": {},
   "outputs": [
    {
     "data": {
      "text/plain": [
       "Text(0,0.5,'UMI counts per cell')"
      ]
     },
     "execution_count": 14,
     "metadata": {},
     "output_type": "execute_result"
    },
    {
     "data": {
      "image/png": "[encoded data removed]",
      "text/plain": [
       "<matplotlib.figure.Figure at 0x2b566c2da8d0>"
      ]
     },
     "metadata": {},
     "output_type": "display_data"
    }
   ],
   "source": [
    "g = sns.violinplot(counts_filtered.sum(axis=0), orient='v')\n",
    "g.set_ylabel(\"UMI counts per cell\")"
   ]
  },
  {
   "cell_type": "markdown",
   "metadata": {},
   "source": [
    "**Exercise**\n",
    "\n",
    "Make a histogram, boxplot, and violoinplot for the total counts measured for each gene (instead of cells). What do you notice? "
   ]
  },
  {
   "cell_type": "markdown",
   "metadata": {},
   "source": [
    "**Save Filtered DataFrame**\n",
    "\n",
    "Let's save this new matrix as counts_filtered so we can load it in later for downstream analyses. We will use the pandas function to_csv"
   ]
  },
  {
   "cell_type": "code",
   "execution_count": 15,
   "metadata": {},
   "outputs": [],
   "source": [
    "counts_filtered.to_csv(os.path.join(output_dir, \"counts_filtered.csv\"))"
   ]
  },
  {
   "cell_type": "code",
   "execution_count": null,
   "metadata": {},
   "outputs": [],
   "source": []
  }
 ],
 "metadata": {
  "kernelspec": {
   "display_name": "Python 3",
   "language": "python",
   "name": "python3"
  },
  "language_info": {
   "codemirror_mode": {
    "name": "ipython",
    "version": 3
   },
   "file_extension": ".py",
   "mimetype": "text/x-python",
   "name": "python",
   "nbconvert_exporter": "python",
   "pygments_lexer": "ipython3",
   "version": "3.6.3"
  }
 },
 "nbformat": 4,
 "nbformat_minor": 1
}
