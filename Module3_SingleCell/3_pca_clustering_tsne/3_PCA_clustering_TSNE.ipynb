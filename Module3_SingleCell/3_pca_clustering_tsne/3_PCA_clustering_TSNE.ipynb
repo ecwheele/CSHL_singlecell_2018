{
 "cells": [
  {
   "cell_type": "code",
   "execution_count": null,
   "metadata": {},
   "outputs": [],
   "source": []
  },
  {
   "cell_type": "code",
   "execution_count": 1,
   "metadata": {},
   "outputs": [],
   "source": [
    "import pandas as pd\n",
    "import numpy as np\n",
    "import os\n",
    "from sklearn.decomposition import PCA\n",
    "from sklearn.manifold import TSNE\n",
    "import phenograph\n",
    "from matplotlib import pyplot as plt\n",
    "import seaborn as sns\n",
    "from collections import defaultdict\n",
    "%matplotlib inline"
   ]
  },
  {
   "cell_type": "markdown",
   "metadata": {},
   "source": [
    "Load in our processed, scaled data for cluster assignment and visualization"
   ]
  },
  {
   "cell_type": "code",
   "execution_count": 2,
   "metadata": {},
   "outputs": [],
   "source": [
    "input_dir = 'inputs'\n",
    "output_dir = 'outputs'"
   ]
  },
  {
   "cell_type": "code",
   "execution_count": 3,
   "metadata": {},
   "outputs": [
    {
     "name": "stdout",
     "output_type": "stream",
     "text": [
      "(577, 1660)\n"
     ]
    },
    {
     "data": {
      "text/html": [
       "<div>\n",
       "<style scoped>\n",
       "    .dataframe tbody tr th:only-of-type {\n",
       "        vertical-align: middle;\n",
       "    }\n",
       "\n",
       "    .dataframe tbody tr th {\n",
       "        vertical-align: top;\n",
       "    }\n",
       "\n",
       "    .dataframe thead th {\n",
       "        text-align: right;\n",
       "    }\n",
       "</style>\n",
       "<table border=\"1\" class=\"dataframe\">\n",
       "  <thead>\n",
       "    <tr style=\"text-align: right;\">\n",
       "      <th></th>\n",
       "      <th>AAACATTGTTTGGG-1</th>\n",
       "      <th>AAACCGTGCCAAGT-1</th>\n",
       "      <th>AAACGCACAGCCTA-1</th>\n",
       "      <th>AAACGCACCAGATC-1</th>\n",
       "      <th>AAACGCACCGCCTT-1</th>\n",
       "      <th>AAACGCACCGTAGT-1</th>\n",
       "      <th>AAACGGCTGATAGA-1</th>\n",
       "      <th>AAACTTGAAGAGTA-1</th>\n",
       "      <th>AAACTTGACCACAA-1</th>\n",
       "      <th>AAAGACGATTGTCT-1</th>\n",
       "      <th>...</th>\n",
       "      <th>TTTAGGCTCTCTTA-1</th>\n",
       "      <th>TTTAGGCTGTATCG-1</th>\n",
       "      <th>TTTCACGAAGTGTC-1</th>\n",
       "      <th>TTTCACGACACACA-1</th>\n",
       "      <th>TTTCACGAGAGGCA-1</th>\n",
       "      <th>TTTCAGTGGCGAAG-1</th>\n",
       "      <th>TTTCCAGAACGCTA-1</th>\n",
       "      <th>TTTCCAGATGCAAC-1</th>\n",
       "      <th>TTTCGAACTACTGG-1</th>\n",
       "      <th>TTTCTACTTCACCC-1</th>\n",
       "    </tr>\n",
       "  </thead>\n",
       "  <tbody>\n",
       "    <tr>\n",
       "      <th>ENSMUSG00000025903</th>\n",
       "      <td>0.755368</td>\n",
       "      <td>-0.337802</td>\n",
       "      <td>-0.337802</td>\n",
       "      <td>0.055363</td>\n",
       "      <td>-0.337802</td>\n",
       "      <td>-0.337802</td>\n",
       "      <td>-0.337802</td>\n",
       "      <td>-0.337802</td>\n",
       "      <td>-0.083969</td>\n",
       "      <td>-0.337802</td>\n",
       "      <td>...</td>\n",
       "      <td>-0.337802</td>\n",
       "      <td>-0.337802</td>\n",
       "      <td>0.179139</td>\n",
       "      <td>-0.337802</td>\n",
       "      <td>-0.337802</td>\n",
       "      <td>-0.337802</td>\n",
       "      <td>1.118815</td>\n",
       "      <td>-0.337802</td>\n",
       "      <td>-0.337802</td>\n",
       "      <td>2.808559</td>\n",
       "    </tr>\n",
       "    <tr>\n",
       "      <th>ENSMUSG00000026126</th>\n",
       "      <td>-0.332991</td>\n",
       "      <td>-0.332991</td>\n",
       "      <td>-0.332991</td>\n",
       "      <td>0.838708</td>\n",
       "      <td>-0.332991</td>\n",
       "      <td>-0.332991</td>\n",
       "      <td>-0.332991</td>\n",
       "      <td>-0.332991</td>\n",
       "      <td>-0.080836</td>\n",
       "      <td>-0.332991</td>\n",
       "      <td>...</td>\n",
       "      <td>-0.332991</td>\n",
       "      <td>-0.332991</td>\n",
       "      <td>-0.332991</td>\n",
       "      <td>-0.332991</td>\n",
       "      <td>-0.332991</td>\n",
       "      <td>-0.332991</td>\n",
       "      <td>-0.332991</td>\n",
       "      <td>-0.332991</td>\n",
       "      <td>4.692455</td>\n",
       "      <td>-0.332991</td>\n",
       "    </tr>\n",
       "    <tr>\n",
       "      <th>ENSMUSG00000037503</th>\n",
       "      <td>1.172534</td>\n",
       "      <td>-0.314943</td>\n",
       "      <td>-0.314943</td>\n",
       "      <td>-0.314943</td>\n",
       "      <td>0.347354</td>\n",
       "      <td>1.291592</td>\n",
       "      <td>0.458935</td>\n",
       "      <td>-0.314943</td>\n",
       "      <td>-0.314943</td>\n",
       "      <td>1.387641</td>\n",
       "      <td>...</td>\n",
       "      <td>-0.314943</td>\n",
       "      <td>-0.314943</td>\n",
       "      <td>-0.314943</td>\n",
       "      <td>-0.314943</td>\n",
       "      <td>-0.314943</td>\n",
       "      <td>-0.314943</td>\n",
       "      <td>-0.314943</td>\n",
       "      <td>-0.314943</td>\n",
       "      <td>-0.314943</td>\n",
       "      <td>-0.314943</td>\n",
       "    </tr>\n",
       "    <tr>\n",
       "      <th>ENSMUSG00000010453</th>\n",
       "      <td>-0.303060</td>\n",
       "      <td>-0.303060</td>\n",
       "      <td>-0.303060</td>\n",
       "      <td>-0.303060</td>\n",
       "      <td>-0.303060</td>\n",
       "      <td>-0.303060</td>\n",
       "      <td>1.366492</td>\n",
       "      <td>-0.303060</td>\n",
       "      <td>0.069510</td>\n",
       "      <td>-0.303060</td>\n",
       "      <td>...</td>\n",
       "      <td>-0.303060</td>\n",
       "      <td>-0.303060</td>\n",
       "      <td>-0.303060</td>\n",
       "      <td>-0.303060</td>\n",
       "      <td>5.681360</td>\n",
       "      <td>-0.303060</td>\n",
       "      <td>-0.303060</td>\n",
       "      <td>0.239717</td>\n",
       "      <td>-0.303060</td>\n",
       "      <td>-0.303060</td>\n",
       "    </tr>\n",
       "    <tr>\n",
       "      <th>ENSMUSG00000048234</th>\n",
       "      <td>-0.344640</td>\n",
       "      <td>-0.344640</td>\n",
       "      <td>-0.344640</td>\n",
       "      <td>-0.344640</td>\n",
       "      <td>0.233700</td>\n",
       "      <td>-0.344640</td>\n",
       "      <td>-0.344640</td>\n",
       "      <td>-0.344640</td>\n",
       "      <td>-0.043034</td>\n",
       "      <td>-0.344640</td>\n",
       "      <td>...</td>\n",
       "      <td>0.170096</td>\n",
       "      <td>-0.344640</td>\n",
       "      <td>-0.344640</td>\n",
       "      <td>-0.344640</td>\n",
       "      <td>-0.344640</td>\n",
       "      <td>-0.344640</td>\n",
       "      <td>1.386125</td>\n",
       "      <td>0.094754</td>\n",
       "      <td>-0.344640</td>\n",
       "      <td>-0.344640</td>\n",
       "    </tr>\n",
       "  </tbody>\n",
       "</table>\n",
       "<p>5 rows × 1660 columns</p>\n",
       "</div>"
      ],
      "text/plain": [
       "                    AAACATTGTTTGGG-1  AAACCGTGCCAAGT-1  AAACGCACAGCCTA-1  \\\n",
       "ENSMUSG00000025903          0.755368         -0.337802         -0.337802   \n",
       "ENSMUSG00000026126         -0.332991         -0.332991         -0.332991   \n",
       "ENSMUSG00000037503          1.172534         -0.314943         -0.314943   \n",
       "ENSMUSG00000010453         -0.303060         -0.303060         -0.303060   \n",
       "ENSMUSG00000048234         -0.344640         -0.344640         -0.344640   \n",
       "\n",
       "                    AAACGCACCAGATC-1  AAACGCACCGCCTT-1  AAACGCACCGTAGT-1  \\\n",
       "ENSMUSG00000025903          0.055363         -0.337802         -0.337802   \n",
       "ENSMUSG00000026126          0.838708         -0.332991         -0.332991   \n",
       "ENSMUSG00000037503         -0.314943          0.347354          1.291592   \n",
       "ENSMUSG00000010453         -0.303060         -0.303060         -0.303060   \n",
       "ENSMUSG00000048234         -0.344640          0.233700         -0.344640   \n",
       "\n",
       "                    AAACGGCTGATAGA-1  AAACTTGAAGAGTA-1  AAACTTGACCACAA-1  \\\n",
       "ENSMUSG00000025903         -0.337802         -0.337802         -0.083969   \n",
       "ENSMUSG00000026126         -0.332991         -0.332991         -0.080836   \n",
       "ENSMUSG00000037503          0.458935         -0.314943         -0.314943   \n",
       "ENSMUSG00000010453          1.366492         -0.303060          0.069510   \n",
       "ENSMUSG00000048234         -0.344640         -0.344640         -0.043034   \n",
       "\n",
       "                    AAAGACGATTGTCT-1        ...         TTTAGGCTCTCTTA-1  \\\n",
       "ENSMUSG00000025903         -0.337802        ...                -0.337802   \n",
       "ENSMUSG00000026126         -0.332991        ...                -0.332991   \n",
       "ENSMUSG00000037503          1.387641        ...                -0.314943   \n",
       "ENSMUSG00000010453         -0.303060        ...                -0.303060   \n",
       "ENSMUSG00000048234         -0.344640        ...                 0.170096   \n",
       "\n",
       "                    TTTAGGCTGTATCG-1  TTTCACGAAGTGTC-1  TTTCACGACACACA-1  \\\n",
       "ENSMUSG00000025903         -0.337802          0.179139         -0.337802   \n",
       "ENSMUSG00000026126         -0.332991         -0.332991         -0.332991   \n",
       "ENSMUSG00000037503         -0.314943         -0.314943         -0.314943   \n",
       "ENSMUSG00000010453         -0.303060         -0.303060         -0.303060   \n",
       "ENSMUSG00000048234         -0.344640         -0.344640         -0.344640   \n",
       "\n",
       "                    TTTCACGAGAGGCA-1  TTTCAGTGGCGAAG-1  TTTCCAGAACGCTA-1  \\\n",
       "ENSMUSG00000025903         -0.337802         -0.337802          1.118815   \n",
       "ENSMUSG00000026126         -0.332991         -0.332991         -0.332991   \n",
       "ENSMUSG00000037503         -0.314943         -0.314943         -0.314943   \n",
       "ENSMUSG00000010453          5.681360         -0.303060         -0.303060   \n",
       "ENSMUSG00000048234         -0.344640         -0.344640          1.386125   \n",
       "\n",
       "                    TTTCCAGATGCAAC-1  TTTCGAACTACTGG-1  TTTCTACTTCACCC-1  \n",
       "ENSMUSG00000025903         -0.337802         -0.337802          2.808559  \n",
       "ENSMUSG00000026126         -0.332991          4.692455         -0.332991  \n",
       "ENSMUSG00000037503         -0.314943         -0.314943         -0.314943  \n",
       "ENSMUSG00000010453          0.239717         -0.303060         -0.303060  \n",
       "ENSMUSG00000048234          0.094754         -0.344640         -0.344640  \n",
       "\n",
       "[5 rows x 1660 columns]"
      ]
     },
     "execution_count": 3,
     "metadata": {},
     "output_type": "execute_result"
    }
   ],
   "source": [
    "zscore_variable = pd.read_csv(os.path.join(input_dir, \"zscore_variable_genes.csv\"), index_col=0)\n",
    "print(zscore_variable.shape)\n",
    "zscore_variable.head()"
   ]
  },
  {
   "cell_type": "markdown",
   "metadata": {},
   "source": [
    "# PCA\n",
    "\n",
    "We have lots of variables (610 genes over 1385 cells!!). Okay that's not a ton in the world of single cell, but we are still going to practice as if we had a much larger dataset. Before clustering, we can use PCA to reduce the data into fewer dimensions that capture all (the majority) of the variation in the dataset. This will help increase the speed of downstream clustering and visualization without losing any information."
   ]
  },
  {
   "cell_type": "code",
   "execution_count": 4,
   "metadata": {},
   "outputs": [],
   "source": [
    "#Initiate a PCA object to be calculated with 200 components. \n",
    "pca = PCA(n_components=200)\n",
    "\n",
    "#Fit our data with this PCA and save the result. PCA requires the samples (cells) to be the rows of the dataframe and \n",
    "#the measurements (genes) to be the columns. So we are going to transpose our dataframe with .T\n",
    "pca_result = pca.fit_transform(zscore_variable.T)"
   ]
  },
  {
   "cell_type": "code",
   "execution_count": 5,
   "metadata": {},
   "outputs": [
    {
     "data": {
      "text/plain": [
       "array([0.06633732, 0.02933355, 0.02659024, 0.02132812, 0.0165857 ,\n",
       "       0.0135171 , 0.01288324, 0.01097606, 0.00972683, 0.00766496,\n",
       "       0.00725021, 0.00639733, 0.00620079, 0.00604614, 0.00568265,\n",
       "       0.0056618 , 0.005543  , 0.00552313, 0.00544464, 0.00526286,\n",
       "       0.0051849 , 0.00510445, 0.00507026, 0.00499051, 0.00489432,\n",
       "       0.00486663, 0.0047915 , 0.00471814, 0.0046893 , 0.00466013,\n",
       "       0.00464529, 0.00459815, 0.00456095, 0.00447172, 0.00445275,\n",
       "       0.00440275, 0.00438094, 0.0043406 , 0.00423857, 0.00421199,\n",
       "       0.00417672, 0.00415373, 0.00410514, 0.00408157, 0.00405973,\n",
       "       0.00399993, 0.00396513, 0.00396202, 0.00393353, 0.00385837,\n",
       "       0.00382984, 0.00382777, 0.00377352, 0.0037335 , 0.00369713,\n",
       "       0.00367885, 0.00366264, 0.00362175, 0.00361006, 0.00355956,\n",
       "       0.00355078, 0.00351707, 0.00350854, 0.00349188, 0.00345318,\n",
       "       0.00344756, 0.00341122, 0.00339696, 0.00334875, 0.00333025,\n",
       "       0.00332043, 0.00329486, 0.00328335, 0.00325419, 0.00325041,\n",
       "       0.00321561, 0.0031791 , 0.0031672 , 0.00315871, 0.00314424,\n",
       "       0.00311018, 0.00307517, 0.00307032, 0.00306417, 0.00304567,\n",
       "       0.00303561, 0.00299064, 0.00297899, 0.00295373, 0.00294249,\n",
       "       0.00293482, 0.00291026, 0.00288636, 0.00288337, 0.0028566 ,\n",
       "       0.00284871, 0.00283399, 0.00282203, 0.00280427, 0.00278118,\n",
       "       0.00274202, 0.00272073, 0.00271426, 0.00269876, 0.00268798,\n",
       "       0.00267083, 0.00265335, 0.00263848, 0.00261748, 0.0026094 ,\n",
       "       0.00260362, 0.00258047, 0.00254645, 0.00254393, 0.00253223,\n",
       "       0.00250525, 0.00250022, 0.00248116, 0.00247651, 0.00245585,\n",
       "       0.00244263, 0.00242467, 0.00241213, 0.00239636, 0.00238134,\n",
       "       0.00236562, 0.00234974, 0.00234054, 0.00232481, 0.0023183 ,\n",
       "       0.00230897, 0.00229363, 0.00227123, 0.0022462 , 0.0022413 ,\n",
       "       0.00222089, 0.00221348, 0.0021938 , 0.00218491, 0.00217238,\n",
       "       0.00216048, 0.00214521, 0.00213576, 0.0021291 , 0.00210372,\n",
       "       0.00209455, 0.00208024, 0.00206276, 0.00203693, 0.00202569,\n",
       "       0.00202244, 0.00200582, 0.00197741, 0.00197234, 0.00196035,\n",
       "       0.0019533 , 0.00194215, 0.00192876, 0.00190134, 0.00189743,\n",
       "       0.00187376, 0.0018691 , 0.00185671, 0.00184213, 0.00183819,\n",
       "       0.00181402, 0.00180509, 0.0018015 , 0.00178755, 0.00177612,\n",
       "       0.00176097, 0.00174706, 0.00173758, 0.00172033, 0.00170499,\n",
       "       0.00170205, 0.00168547, 0.00167204, 0.00166894, 0.00165515,\n",
       "       0.00164652, 0.00164456, 0.00163197, 0.00161263, 0.00159878,\n",
       "       0.00159098, 0.00157461, 0.00155723, 0.00155609, 0.00155027,\n",
       "       0.00154719, 0.00153378, 0.00152711, 0.0015003 , 0.00148482,\n",
       "       0.00147233, 0.00146824, 0.00145579, 0.00143574, 0.00142264])"
      ]
     },
     "execution_count": 5,
     "metadata": {},
     "output_type": "execute_result"
    }
   ],
   "source": [
    "#The explained variance ratio will tell you how much of the variation in the dataset was captured by each component. \n",
    "#Notice there are 200 values in this array, that is because we kept 200 components.\n",
    "\n",
    "pca.explained_variance_ratio_"
   ]
  },
  {
   "cell_type": "code",
   "execution_count": 6,
   "metadata": {},
   "outputs": [
    {
     "data": {
      "text/plain": [
       "array([0.06633732, 0.09567087, 0.12226111, 0.14358923, 0.16017493,\n",
       "       0.17369203, 0.18657527, 0.19755133, 0.20727815, 0.21494311,\n",
       "       0.22219332, 0.22859065, 0.23479144, 0.24083758, 0.24652023,\n",
       "       0.25218203, 0.25772503, 0.26324816, 0.2686928 , 0.27395566,\n",
       "       0.27914056, 0.28424501, 0.28931527, 0.29430578, 0.29920011,\n",
       "       0.30406674, 0.30885824, 0.31357638, 0.31826568, 0.32292582,\n",
       "       0.3275711 , 0.33216925, 0.3367302 , 0.34120192, 0.34565467,\n",
       "       0.35005742, 0.35443836, 0.35877896, 0.36301754, 0.36722952,\n",
       "       0.37140624, 0.37555997, 0.37966511, 0.38374668, 0.38780641,\n",
       "       0.39180635, 0.39577148, 0.3997335 , 0.40366703, 0.4075254 ,\n",
       "       0.41135524, 0.41518301, 0.41895653, 0.42269003, 0.42638716,\n",
       "       0.43006601, 0.43372866, 0.43735041, 0.44096047, 0.44452003,\n",
       "       0.44807081, 0.45158788, 0.45509643, 0.45858831, 0.46204149,\n",
       "       0.46548905, 0.46890027, 0.47229723, 0.47564598, 0.47897622,\n",
       "       0.48229666, 0.48559152, 0.48887486, 0.49212905, 0.49537946,\n",
       "       0.49859507, 0.50177418, 0.50494138, 0.50810008, 0.51124432,\n",
       "       0.5143545 , 0.51742967, 0.52049999, 0.52356415, 0.52660983,\n",
       "       0.52964544, 0.53263608, 0.53561507, 0.5385688 , 0.54151129,\n",
       "       0.54444611, 0.54735636, 0.55024272, 0.55312609, 0.55598269,\n",
       "       0.55883141, 0.56166539, 0.56448743, 0.56729169, 0.57007288,\n",
       "       0.5728149 , 0.57553563, 0.5782499 , 0.58094866, 0.58363664,\n",
       "       0.58630747, 0.58896082, 0.5915993 , 0.59421678, 0.59682617,\n",
       "       0.59942979, 0.60201026, 0.60455671, 0.60710064, 0.60963287,\n",
       "       0.61213812, 0.61463833, 0.6171195 , 0.619596  , 0.62205185,\n",
       "       0.62449448, 0.62691915, 0.62933128, 0.63172763, 0.63410898,\n",
       "       0.6364746 , 0.63882434, 0.64116488, 0.64348969, 0.64580799,\n",
       "       0.64811696, 0.65041059, 0.65268182, 0.65492802, 0.65716931,\n",
       "       0.6593902 , 0.66160368, 0.66379748, 0.6659824 , 0.66815478,\n",
       "       0.67031526, 0.67246047, 0.67459622, 0.67672532, 0.67882904,\n",
       "       0.68092359, 0.68300384, 0.6850666 , 0.68710352, 0.68912922,\n",
       "       0.69115165, 0.69315748, 0.69513488, 0.69710722, 0.69906757,\n",
       "       0.70102087, 0.70296302, 0.70489178, 0.70679312, 0.70869055,\n",
       "       0.71056431, 0.71243341, 0.71429012, 0.71613224, 0.71797043,\n",
       "       0.71978445, 0.72158954, 0.72339104, 0.7251786 , 0.72695472,\n",
       "       0.72871569, 0.73046275, 0.73220033, 0.73392066, 0.73562566,\n",
       "       0.73732771, 0.73901318, 0.74068522, 0.74235416, 0.74400931,\n",
       "       0.74565582, 0.74730038, 0.74893235, 0.75054498, 0.75214376,\n",
       "       0.75373474, 0.75530935, 0.75686658, 0.75842267, 0.75997295,\n",
       "       0.76152013, 0.76305391, 0.76458102, 0.76608132, 0.76756614,\n",
       "       0.76903847, 0.77050671, 0.7719625 , 0.77339823, 0.77482087])"
      ]
     },
     "execution_count": 6,
     "metadata": {},
     "output_type": "execute_result"
    }
   ],
   "source": [
    "#Lets look at the cumulative sum to see how many components we need to reach 100% (ish) of the variation captured\n",
    "\n",
    "np.cumsum(pca.explained_variance_ratio_)"
   ]
  },
  {
   "cell_type": "code",
   "execution_count": 7,
   "metadata": {},
   "outputs": [
    {
     "data": {
      "text/plain": [
       "Text(0,0.5,'cumulative explained variance')"
      ]
     },
     "execution_count": 7,
     "metadata": {},
     "output_type": "execute_result"
    },
    {
     "data": {
      "image/png": "[encoded data removed]",
      "text/plain": [
       "<matplotlib.figure.Figure at 0x2b74eb31e160>"
      ]
     },
     "metadata": {},
     "output_type": "display_data"
    }
   ],
   "source": [
    "sns.set_style(\"whitegrid\")\n",
    "\n",
    "plt.plot(np.cumsum(pca.explained_variance_ratio_))\n",
    "plt.xlabel('number of components')\n",
    "plt.ylabel('cumulative explained variance')"
   ]
  },
  {
   "cell_type": "markdown",
   "metadata": {},
   "source": [
    "The plot above shows us that 80% of the variance is explained by the top 200 components, so lets keep all of them now for downstream analyses. Our variable pca_result contains the reduced value for each component calculated. We are going to put this into a pandas dataframe where each row is the cell ID (cellID information is stored in zscore_variable.columns"
   ]
  },
  {
   "cell_type": "code",
   "execution_count": 8,
   "metadata": {},
   "outputs": [
    {
     "data": {
      "text/html": [
       "<div>\n",
       "<style scoped>\n",
       "    .dataframe tbody tr th:only-of-type {\n",
       "        vertical-align: middle;\n",
       "    }\n",
       "\n",
       "    .dataframe tbody tr th {\n",
       "        vertical-align: top;\n",
       "    }\n",
       "\n",
       "    .dataframe thead th {\n",
       "        text-align: right;\n",
       "    }\n",
       "</style>\n",
       "<table border=\"1\" class=\"dataframe\">\n",
       "  <thead>\n",
       "    <tr style=\"text-align: right;\">\n",
       "      <th></th>\n",
       "      <th>0</th>\n",
       "      <th>1</th>\n",
       "      <th>2</th>\n",
       "      <th>3</th>\n",
       "      <th>4</th>\n",
       "      <th>5</th>\n",
       "      <th>6</th>\n",
       "      <th>7</th>\n",
       "      <th>8</th>\n",
       "      <th>9</th>\n",
       "      <th>...</th>\n",
       "      <th>190</th>\n",
       "      <th>191</th>\n",
       "      <th>192</th>\n",
       "      <th>193</th>\n",
       "      <th>194</th>\n",
       "      <th>195</th>\n",
       "      <th>196</th>\n",
       "      <th>197</th>\n",
       "      <th>198</th>\n",
       "      <th>199</th>\n",
       "    </tr>\n",
       "  </thead>\n",
       "  <tbody>\n",
       "    <tr>\n",
       "      <th>AAACATTGTTTGGG-1</th>\n",
       "      <td>1.111598</td>\n",
       "      <td>-0.611059</td>\n",
       "      <td>1.900943</td>\n",
       "      <td>-2.496837</td>\n",
       "      <td>-4.774221</td>\n",
       "      <td>4.047545</td>\n",
       "      <td>-3.966158</td>\n",
       "      <td>0.138558</td>\n",
       "      <td>-0.017384</td>\n",
       "      <td>-0.393777</td>\n",
       "      <td>...</td>\n",
       "      <td>-0.659571</td>\n",
       "      <td>0.381595</td>\n",
       "      <td>0.522649</td>\n",
       "      <td>0.646236</td>\n",
       "      <td>-0.844758</td>\n",
       "      <td>-0.458307</td>\n",
       "      <td>0.046870</td>\n",
       "      <td>-0.449993</td>\n",
       "      <td>0.885112</td>\n",
       "      <td>-0.430879</td>\n",
       "    </tr>\n",
       "    <tr>\n",
       "      <th>AAACCGTGCCAAGT-1</th>\n",
       "      <td>-3.152160</td>\n",
       "      <td>-0.914021</td>\n",
       "      <td>0.796639</td>\n",
       "      <td>0.496650</td>\n",
       "      <td>2.771118</td>\n",
       "      <td>-0.898587</td>\n",
       "      <td>-0.934048</td>\n",
       "      <td>-1.402163</td>\n",
       "      <td>2.658084</td>\n",
       "      <td>-0.614252</td>\n",
       "      <td>...</td>\n",
       "      <td>-0.109929</td>\n",
       "      <td>0.772799</td>\n",
       "      <td>-1.327486</td>\n",
       "      <td>2.036624</td>\n",
       "      <td>1.104176</td>\n",
       "      <td>-1.336785</td>\n",
       "      <td>0.514803</td>\n",
       "      <td>-1.426116</td>\n",
       "      <td>-1.150226</td>\n",
       "      <td>0.892504</td>\n",
       "    </tr>\n",
       "    <tr>\n",
       "      <th>AAACGCACAGCCTA-1</th>\n",
       "      <td>-3.589850</td>\n",
       "      <td>6.517945</td>\n",
       "      <td>8.510871</td>\n",
       "      <td>6.178077</td>\n",
       "      <td>-0.266637</td>\n",
       "      <td>-3.785961</td>\n",
       "      <td>1.248006</td>\n",
       "      <td>1.027383</td>\n",
       "      <td>0.409032</td>\n",
       "      <td>-2.471054</td>\n",
       "      <td>...</td>\n",
       "      <td>0.529118</td>\n",
       "      <td>-0.422526</td>\n",
       "      <td>-0.191702</td>\n",
       "      <td>0.880693</td>\n",
       "      <td>0.697109</td>\n",
       "      <td>-0.988927</td>\n",
       "      <td>0.922697</td>\n",
       "      <td>-1.141772</td>\n",
       "      <td>-0.886706</td>\n",
       "      <td>0.016681</td>\n",
       "    </tr>\n",
       "    <tr>\n",
       "      <th>AAACGCACCAGATC-1</th>\n",
       "      <td>-1.231824</td>\n",
       "      <td>-0.948492</td>\n",
       "      <td>0.502779</td>\n",
       "      <td>0.112367</td>\n",
       "      <td>0.592037</td>\n",
       "      <td>0.067962</td>\n",
       "      <td>-1.951511</td>\n",
       "      <td>-0.178765</td>\n",
       "      <td>-1.142376</td>\n",
       "      <td>0.673920</td>\n",
       "      <td>...</td>\n",
       "      <td>0.289188</td>\n",
       "      <td>-0.574119</td>\n",
       "      <td>-0.281592</td>\n",
       "      <td>-0.027812</td>\n",
       "      <td>-0.243092</td>\n",
       "      <td>-0.168980</td>\n",
       "      <td>0.030042</td>\n",
       "      <td>0.077029</td>\n",
       "      <td>-0.304511</td>\n",
       "      <td>-0.409282</td>\n",
       "    </tr>\n",
       "    <tr>\n",
       "      <th>AAACGCACCGCCTT-1</th>\n",
       "      <td>-3.089266</td>\n",
       "      <td>-0.496092</td>\n",
       "      <td>1.340016</td>\n",
       "      <td>-1.626505</td>\n",
       "      <td>0.492393</td>\n",
       "      <td>0.591753</td>\n",
       "      <td>1.467622</td>\n",
       "      <td>1.778900</td>\n",
       "      <td>0.489178</td>\n",
       "      <td>-1.275770</td>\n",
       "      <td>...</td>\n",
       "      <td>-0.200224</td>\n",
       "      <td>0.271771</td>\n",
       "      <td>0.597020</td>\n",
       "      <td>0.229503</td>\n",
       "      <td>-0.296054</td>\n",
       "      <td>0.515112</td>\n",
       "      <td>-0.588771</td>\n",
       "      <td>0.810049</td>\n",
       "      <td>0.281754</td>\n",
       "      <td>0.247974</td>\n",
       "    </tr>\n",
       "  </tbody>\n",
       "</table>\n",
       "<p>5 rows × 200 columns</p>\n",
       "</div>"
      ],
      "text/plain": [
       "                       0         1         2         3         4         5    \\\n",
       "AAACATTGTTTGGG-1  1.111598 -0.611059  1.900943 -2.496837 -4.774221  4.047545   \n",
       "AAACCGTGCCAAGT-1 -3.152160 -0.914021  0.796639  0.496650  2.771118 -0.898587   \n",
       "AAACGCACAGCCTA-1 -3.589850  6.517945  8.510871  6.178077 -0.266637 -3.785961   \n",
       "AAACGCACCAGATC-1 -1.231824 -0.948492  0.502779  0.112367  0.592037  0.067962   \n",
       "AAACGCACCGCCTT-1 -3.089266 -0.496092  1.340016 -1.626505  0.492393  0.591753   \n",
       "\n",
       "                       6         7         8         9      ...          190  \\\n",
       "AAACATTGTTTGGG-1 -3.966158  0.138558 -0.017384 -0.393777    ...    -0.659571   \n",
       "AAACCGTGCCAAGT-1 -0.934048 -1.402163  2.658084 -0.614252    ...    -0.109929   \n",
       "AAACGCACAGCCTA-1  1.248006  1.027383  0.409032 -2.471054    ...     0.529118   \n",
       "AAACGCACCAGATC-1 -1.951511 -0.178765 -1.142376  0.673920    ...     0.289188   \n",
       "AAACGCACCGCCTT-1  1.467622  1.778900  0.489178 -1.275770    ...    -0.200224   \n",
       "\n",
       "                       191       192       193       194       195       196  \\\n",
       "AAACATTGTTTGGG-1  0.381595  0.522649  0.646236 -0.844758 -0.458307  0.046870   \n",
       "AAACCGTGCCAAGT-1  0.772799 -1.327486  2.036624  1.104176 -1.336785  0.514803   \n",
       "AAACGCACAGCCTA-1 -0.422526 -0.191702  0.880693  0.697109 -0.988927  0.922697   \n",
       "AAACGCACCAGATC-1 -0.574119 -0.281592 -0.027812 -0.243092 -0.168980  0.030042   \n",
       "AAACGCACCGCCTT-1  0.271771  0.597020  0.229503 -0.296054  0.515112 -0.588771   \n",
       "\n",
       "                       197       198       199  \n",
       "AAACATTGTTTGGG-1 -0.449993  0.885112 -0.430879  \n",
       "AAACCGTGCCAAGT-1 -1.426116 -1.150226  0.892504  \n",
       "AAACGCACAGCCTA-1 -1.141772 -0.886706  0.016681  \n",
       "AAACGCACCAGATC-1  0.077029 -0.304511 -0.409282  \n",
       "AAACGCACCGCCTT-1  0.810049  0.281754  0.247974  \n",
       "\n",
       "[5 rows x 200 columns]"
      ]
     },
     "execution_count": 8,
     "metadata": {},
     "output_type": "execute_result"
    }
   ],
   "source": [
    "pca_df = pd.DataFrame(pca_result)\n",
    "pca_df.index = zscore_variable.columns\n",
    "pca_df.head()"
   ]
  },
  {
   "cell_type": "markdown",
   "metadata": {},
   "source": [
    "# PhenoGraph\n",
    "\n",
    "[PhenoGraph](https://www.c2b2.columbia.edu/danapeerlab/html/phenograph.html) is the graph-based clustering algorithm we will use to assign cells to clusters. We are going to use the dimensionality reduced-data for clustering. "
   ]
  },
  {
   "cell_type": "code",
   "execution_count": 9,
   "metadata": {},
   "outputs": [
    {
     "name": "stdout",
     "output_type": "stream",
     "text": [
      "Finding 30 nearest neighbors using minkowski metric and 'auto' algorithm\n",
      "Neighbors computed in 0.21618247032165527 seconds\n",
      "Jaccard graph constructed in 0.3712320327758789 seconds\n",
      "Wrote graph to binary file in 0.14875364303588867 seconds\n",
      "Running Louvain modularity optimization\n",
      "After 1 runs, maximum modularity is Q = 0.69504\n",
      "Louvain completed 21 runs in 0.7422409057617188 seconds\n",
      "PhenoGraph complete in 1.4973642826080322 seconds\n"
     ]
    }
   ],
   "source": [
    "#phenograph.cluster will return 3 things (so we are assigning the result to 3 variables)\n",
    "communities_30, sparse_matrix30, Q30 = phenograph.cluster(pca_df, k=30)"
   ]
  },
  {
   "cell_type": "code",
   "execution_count": 10,
   "metadata": {},
   "outputs": [
    {
     "name": "stdout",
     "output_type": "stream",
     "text": [
      "[[  0 504]\n",
      " [  1 492]\n",
      " [  2 170]\n",
      " [  3 121]\n",
      " [  4  98]\n",
      " [  5  95]\n",
      " [  6  92]\n",
      " [  7  51]\n",
      " [  8  37]]\n"
     ]
    }
   ],
   "source": [
    "#Let's take a look at how many communities (clusters) were assigned and the number of cells in each cluster\n",
    "\n",
    "cluster, freq = np.unique(communities_30, return_counts = True)\n",
    "print(np.asarray((cluster, freq)).T)"
   ]
  },
  {
   "cell_type": "markdown",
   "metadata": {},
   "source": [
    "# t-SNE\n",
    "\n",
    "Here are some good resources explaining the use of t-SNE: [official website](https://lvdmaaten.github.io/tsne/), [blogpost](https://distill.pub/2016/misread-tsne/), [pca and tsne code in python](https://medium.com/@luckylwk/visualising-high-dimensional-datasets-using-pca-and-t-sne-in-python-8ef87e7915b). tSNE is meant for visualization of high-dimensional data in 2D. We are going to color the cells based on the cluster assignments from phenograph for visualization. As a comparison, we will also color the cells based on the cluster assignments from the paper and see how our results compare. "
   ]
  },
  {
   "cell_type": "code",
   "execution_count": 11,
   "metadata": {},
   "outputs": [
    {
     "name": "stdout",
     "output_type": "stream",
     "text": [
      "[t-SNE] Computing 181 nearest neighbors...\n",
      "[t-SNE] Indexed 1660 samples in 0.008s...\n",
      "[t-SNE] Computed neighbors for 1660 samples in 1.236s...\n",
      "[t-SNE] Computed conditional probabilities for sample 1000 / 1660\n",
      "[t-SNE] Computed conditional probabilities for sample 1660 / 1660\n",
      "[t-SNE] Mean sigma: 2.971092\n",
      "[t-SNE] KL divergence after 250 iterations with early exaggeration: 76.359787\n",
      "[t-SNE] Error after 1850 iterations: 1.497486\n"
     ]
    }
   ],
   "source": [
    "#First, run tSNE on the same data that is used for clustering (the reduced data that we generated earlier with PCA)\n",
    "\n",
    "tsne = TSNE(n_components=2, verbose=1, perplexity=60, n_iter=5000, random_state=919)\n",
    "tsne_pca = tsne.fit_transform(pca_df)"
   ]
  },
  {
   "cell_type": "code",
   "execution_count": 12,
   "metadata": {},
   "outputs": [
    {
     "data": {
      "text/plain": [
       "array([[-10.386154 ,  11.758343 ],\n",
       "       [  5.8001113, -13.783989 ],\n",
       "       [ 14.682107 , -15.672992 ],\n",
       "       ...,\n",
       "       [ -3.76642  ,   2.6445396],\n",
       "       [  4.4204445,   4.2949324],\n",
       "       [ -7.9134474,  10.718688 ]], dtype=float32)"
      ]
     },
     "execution_count": 12,
     "metadata": {},
     "output_type": "execute_result"
    }
   ],
   "source": [
    "tsne_pca"
   ]
  },
  {
   "cell_type": "markdown",
   "metadata": {},
   "source": [
    "# Cluster annotation"
   ]
  },
  {
   "cell_type": "raw",
   "metadata": {},
   "source": [
    "id2name = pd.read_table(os.path.join(input_dir, 'mart_export.txt'))\n",
    "id2name.head()"
   ]
  },
  {
   "cell_type": "markdown",
   "metadata": {},
   "source": [
    "#### read in markers"
   ]
  },
  {
   "cell_type": "raw",
   "metadata": {},
   "source": [
    "markers = defaultdict()  # Dictionary of files \n",
    "markers_file = os.path.join(input_dir, 'nature24489-s5.tsv')  # File from the paper\n",
    "markers_tab = pd.read_table(markers_file)\n",
    "markers_tab.head()"
   ]
  },
  {
   "cell_type": "markdown",
   "metadata": {},
   "source": [
    "#### Convert gene names to gene ids for each subgroup\n",
    "- inner join"
   ]
  },
  {
   "cell_type": "raw",
   "metadata": {},
   "source": [
    "markers_with_ids = pd.merge(markers_tab, id2name, how='outer', on=['Gene name'])\n",
    "markers_with_ids.fillna('Unclassified', inplace=True)\n",
    "d = markers_with_ids[['Cell type', 'Gene stable ID']].set_index('Gene stable ID')['Cell type'].to_dict()\n",
    "d['ENSMUSG00000025903']"
   ]
  },
  {
   "cell_type": "markdown",
   "metadata": {},
   "source": [
    "#### append cluster assignment to matrix"
   ]
  },
  {
   "cell_type": "raw",
   "metadata": {},
   "source": [
    "arrays = [zscore_variable.columns, communities_30]\n",
    "tuples = list(zip(*arrays))\n",
    "# append cluster info to columns\n",
    "zscore_variable.columns = pd.MultiIndex.from_tuples(tuples, names=['barcode', 'cluster'])\n",
    "# reorder based on cluster assignment\n",
    "zscore_variable = zscore_variable[sorted(zscore_variable.columns, key=lambda x: x[1])]\n",
    "zscore_variable.head()"
   ]
  },
  {
   "cell_type": "raw",
   "metadata": {},
   "source": [
    "colors = sns.color_palette(\"hls\", len(set(zscore_variable.columns.get_level_values(1))))\n",
    "color_map = pd.Series(zscore_variable.columns.get_level_values(1)).apply(lambda x: colors[x])\n",
    "sns.palplot(colors)"
   ]
  },
  {
   "cell_type": "raw",
   "metadata": {},
   "source": [
    "row_colors = {}\n",
    "row_color_palette = sns.color_palette(\"hls\", len(set(markers_with_ids['Cell type']))+1)\n",
    "sns.palplot(row_color_palette)\n",
    "row_color_palette = row_color_palette.as_hex()\n",
    "for classification, color in zip(list(set(markers_with_ids['Cell type'])), row_color_palette):\n",
    "    row_colors[classification] = color\n",
    "row_colors = pd.DataFrame(row_colors, index=['Markers']).T\n",
    "row_colors"
   ]
  },
  {
   "cell_type": "code",
   "execution_count": null,
   "metadata": {},
   "outputs": [],
   "source": []
  },
  {
   "cell_type": "code",
   "execution_count": null,
   "metadata": {},
   "outputs": [],
   "source": []
  },
  {
   "cell_type": "raw",
   "metadata": {},
   "source": [
    "zscore_variable.index = pd.Series(zscore_variable.index).apply(lambda x: d[x])\n",
    "zscore_variable.index = pd.Series(zscore_variable.index).fillna('Unclassified')\n",
    "zscore_variable.head()"
   ]
  },
  {
   "cell_type": "code",
   "execution_count": null,
   "metadata": {},
   "outputs": [],
   "source": []
  },
  {
   "cell_type": "raw",
   "metadata": {},
   "source": [
    "sns.clustermap(\n",
    "    zscore_variable, \n",
    "    row_cluster=True, \n",
    "    col_cluster=False, \n",
    "    col_colors=[color_map], \n",
    "    row_colors=row_colors,\n",
    "    xticklabels=False, \n",
    "    yticklabels=False, \n",
    ")\n",
    "print(zscore_variable.shape)"
   ]
  },
  {
   "cell_type": "code",
   "execution_count": 21,
   "metadata": {},
   "outputs": [
    {
     "data": {
      "text/html": [
       "<div>\n",
       "<style scoped>\n",
       "    .dataframe tbody tr th:only-of-type {\n",
       "        vertical-align: middle;\n",
       "    }\n",
       "\n",
       "    .dataframe tbody tr th {\n",
       "        vertical-align: top;\n",
       "    }\n",
       "\n",
       "    .dataframe thead th {\n",
       "        text-align: right;\n",
       "    }\n",
       "</style>\n",
       "<table border=\"1\" class=\"dataframe\">\n",
       "  <thead>\n",
       "    <tr style=\"text-align: right;\">\n",
       "      <th></th>\n",
       "      <th>x</th>\n",
       "      <th>y</th>\n",
       "      <th>community</th>\n",
       "    </tr>\n",
       "  </thead>\n",
       "  <tbody>\n",
       "    <tr>\n",
       "      <th>AAACATTGTTTGGG-1</th>\n",
       "      <td>-10.386154</td>\n",
       "      <td>11.758343</td>\n",
       "      <td>6</td>\n",
       "    </tr>\n",
       "    <tr>\n",
       "      <th>AAACCGTGCCAAGT-1</th>\n",
       "      <td>5.800111</td>\n",
       "      <td>-13.783989</td>\n",
       "      <td>5</td>\n",
       "    </tr>\n",
       "    <tr>\n",
       "      <th>AAACGCACAGCCTA-1</th>\n",
       "      <td>14.682107</td>\n",
       "      <td>-15.672992</td>\n",
       "      <td>3</td>\n",
       "    </tr>\n",
       "    <tr>\n",
       "      <th>AAACGCACCAGATC-1</th>\n",
       "      <td>-2.855672</td>\n",
       "      <td>2.788013</td>\n",
       "      <td>1</td>\n",
       "    </tr>\n",
       "    <tr>\n",
       "      <th>AAACGCACCGCCTT-1</th>\n",
       "      <td>11.309718</td>\n",
       "      <td>-7.392127</td>\n",
       "      <td>0</td>\n",
       "    </tr>\n",
       "  </tbody>\n",
       "</table>\n",
       "</div>"
      ],
      "text/plain": [
       "                          x          y  community\n",
       "AAACATTGTTTGGG-1 -10.386154  11.758343          6\n",
       "AAACCGTGCCAAGT-1   5.800111 -13.783989          5\n",
       "AAACGCACAGCCTA-1  14.682107 -15.672992          3\n",
       "AAACGCACCAGATC-1  -2.855672   2.788013          1\n",
       "AAACGCACCGCCTT-1  11.309718  -7.392127          0"
      ]
     },
     "execution_count": 21,
     "metadata": {},
     "output_type": "execute_result"
    }
   ],
   "source": [
    "#This code will make a dataframe with our results from tsne to use in plotting. \n",
    "#We are going to assign the pheongraph community to each cell as well as the cell type identified from the paper\n",
    "\n",
    "df_tsne_pca = pd.DataFrame(tsne_pca, index = pca_df.index)\n",
    "df_tsne_pca.rename(columns = {0:'x',1:'y'}, inplace=True)\n",
    "df_tsne_pca['community'] = communities_30\n",
    "\n",
    "cell_types_paper = []\n",
    "# for i in df_tsne_pca.iterrows():\n",
    "#    print(i.loc['community',:])\n",
    "#    cell_type = i[0].split(\"_\")[2]\n",
    "#    cell_types_paper.append(cell_type)\n",
    "\n",
    "#df_tsne_pca['paper_assignment'] = cell_types_paper\n",
    "#df_tsne_pca.head()\n",
    "\n",
    "# df_tsne_pca.index = df_tsne_pca.index + \"_\" + df_tsne_pca['community'].astype('str')\n",
    "df_tsne_pca.head()"
   ]
  },
  {
   "cell_type": "markdown",
   "metadata": {},
   "source": [
    "The x, y components calculated with tSNE provide the 2-dimensional coordinates for plotting. We are going to assign the color on this plot based on the community assignment (set the hue variable to community). "
   ]
  },
  {
   "cell_type": "code",
   "execution_count": 22,
   "metadata": {},
   "outputs": [
    {
     "data": {
      "image/png": "[encoded data removed]",
      "text/plain": [
       "<matplotlib.figure.Figure at 0x2b74f0ae86d8>"
      ]
     },
     "metadata": {},
     "output_type": "display_data"
    }
   ],
   "source": [
    "sns.set_style('white')\n",
    "\n",
    "g = sns.lmplot('x', 'y', df_tsne_pca, hue='community', fit_reg=False, \n",
    "              scatter_kws={\"s\":25}, size=8)"
   ]
  },
  {
   "cell_type": "markdown",
   "metadata": {},
   "source": [
    "How do our results compare to what the authors found in the paper? Why might they be different?"
   ]
  },
  {
   "cell_type": "code",
   "execution_count": 15,
   "metadata": {},
   "outputs": [
    {
     "ename": "KeyError",
     "evalue": "\"['paper_assignment'] not in index\"",
     "output_type": "error",
     "traceback": [
      "\u001b[0;31m---------------------------------------------------------------------------\u001b[0m",
      "\u001b[0;31mKeyError\u001b[0m                                  Traceback (most recent call last)",
      "\u001b[0;32m<ipython-input-15-96d65cec697a>\u001b[0m in \u001b[0;36m<module>\u001b[0;34m()\u001b[0m\n\u001b[1;32m      2\u001b[0m \u001b[0;34m\u001b[0m\u001b[0m\n\u001b[1;32m      3\u001b[0m g = sns.lmplot('x', 'y', df_tsne_pca, hue='paper_assignment', fit_reg=False, \n\u001b[0;32m----> 4\u001b[0;31m               scatter_kws={\"s\":25}, size=8)\n\u001b[0m",
      "\u001b[0;32m~/anaconda2/envs/clustering-toolkit/lib/python3.6/site-packages/seaborn/regression.py\u001b[0m in \u001b[0;36mlmplot\u001b[0;34m(x, y, data, hue, col, row, palette, col_wrap, size, aspect, markers, sharex, sharey, hue_order, col_order, row_order, legend, legend_out, x_estimator, x_bins, x_ci, scatter, fit_reg, ci, n_boot, units, order, logistic, lowess, robust, logx, x_partial, y_partial, truncate, x_jitter, y_jitter, scatter_kws, line_kws)\u001b[0m\n\u001b[1;32m    550\u001b[0m     \u001b[0mneed_cols\u001b[0m \u001b[0;34m=\u001b[0m \u001b[0;34m[\u001b[0m\u001b[0mx\u001b[0m\u001b[0;34m,\u001b[0m \u001b[0my\u001b[0m\u001b[0;34m,\u001b[0m \u001b[0mhue\u001b[0m\u001b[0;34m,\u001b[0m \u001b[0mcol\u001b[0m\u001b[0;34m,\u001b[0m \u001b[0mrow\u001b[0m\u001b[0;34m,\u001b[0m \u001b[0munits\u001b[0m\u001b[0;34m,\u001b[0m \u001b[0mx_partial\u001b[0m\u001b[0;34m,\u001b[0m \u001b[0my_partial\u001b[0m\u001b[0;34m]\u001b[0m\u001b[0;34m\u001b[0m\u001b[0m\n\u001b[1;32m    551\u001b[0m     \u001b[0mcols\u001b[0m \u001b[0;34m=\u001b[0m \u001b[0mnp\u001b[0m\u001b[0;34m.\u001b[0m\u001b[0munique\u001b[0m\u001b[0;34m(\u001b[0m\u001b[0;34m[\u001b[0m\u001b[0ma\u001b[0m \u001b[0;32mfor\u001b[0m \u001b[0ma\u001b[0m \u001b[0;32min\u001b[0m \u001b[0mneed_cols\u001b[0m \u001b[0;32mif\u001b[0m \u001b[0ma\u001b[0m \u001b[0;32mis\u001b[0m \u001b[0;32mnot\u001b[0m \u001b[0;32mNone\u001b[0m\u001b[0;34m]\u001b[0m\u001b[0;34m)\u001b[0m\u001b[0;34m.\u001b[0m\u001b[0mtolist\u001b[0m\u001b[0;34m(\u001b[0m\u001b[0;34m)\u001b[0m\u001b[0;34m\u001b[0m\u001b[0m\n\u001b[0;32m--> 552\u001b[0;31m     \u001b[0mdata\u001b[0m \u001b[0;34m=\u001b[0m \u001b[0mdata\u001b[0m\u001b[0;34m[\u001b[0m\u001b[0mcols\u001b[0m\u001b[0;34m]\u001b[0m\u001b[0;34m\u001b[0m\u001b[0m\n\u001b[0m\u001b[1;32m    553\u001b[0m \u001b[0;34m\u001b[0m\u001b[0m\n\u001b[1;32m    554\u001b[0m     \u001b[0;31m# Initialize the grid\u001b[0m\u001b[0;34m\u001b[0m\u001b[0;34m\u001b[0m\u001b[0m\n",
      "\u001b[0;32m~/.local/lib/python3.6/site-packages/pandas/core/frame.py\u001b[0m in \u001b[0;36m__getitem__\u001b[0;34m(self, key)\u001b[0m\n\u001b[1;32m   2131\u001b[0m         \u001b[0;32mif\u001b[0m \u001b[0misinstance\u001b[0m\u001b[0;34m(\u001b[0m\u001b[0mkey\u001b[0m\u001b[0;34m,\u001b[0m \u001b[0;34m(\u001b[0m\u001b[0mSeries\u001b[0m\u001b[0;34m,\u001b[0m \u001b[0mnp\u001b[0m\u001b[0;34m.\u001b[0m\u001b[0mndarray\u001b[0m\u001b[0;34m,\u001b[0m \u001b[0mIndex\u001b[0m\u001b[0;34m,\u001b[0m \u001b[0mlist\u001b[0m\u001b[0;34m)\u001b[0m\u001b[0;34m)\u001b[0m\u001b[0;34m:\u001b[0m\u001b[0;34m\u001b[0m\u001b[0m\n\u001b[1;32m   2132\u001b[0m             \u001b[0;31m# either boolean or fancy integer index\u001b[0m\u001b[0;34m\u001b[0m\u001b[0;34m\u001b[0m\u001b[0m\n\u001b[0;32m-> 2133\u001b[0;31m             \u001b[0;32mreturn\u001b[0m \u001b[0mself\u001b[0m\u001b[0;34m.\u001b[0m\u001b[0m_getitem_array\u001b[0m\u001b[0;34m(\u001b[0m\u001b[0mkey\u001b[0m\u001b[0;34m)\u001b[0m\u001b[0;34m\u001b[0m\u001b[0m\n\u001b[0m\u001b[1;32m   2134\u001b[0m         \u001b[0;32melif\u001b[0m \u001b[0misinstance\u001b[0m\u001b[0;34m(\u001b[0m\u001b[0mkey\u001b[0m\u001b[0;34m,\u001b[0m \u001b[0mDataFrame\u001b[0m\u001b[0;34m)\u001b[0m\u001b[0;34m:\u001b[0m\u001b[0;34m\u001b[0m\u001b[0m\n\u001b[1;32m   2135\u001b[0m             \u001b[0;32mreturn\u001b[0m \u001b[0mself\u001b[0m\u001b[0;34m.\u001b[0m\u001b[0m_getitem_frame\u001b[0m\u001b[0;34m(\u001b[0m\u001b[0mkey\u001b[0m\u001b[0;34m)\u001b[0m\u001b[0;34m\u001b[0m\u001b[0m\n",
      "\u001b[0;32m~/.local/lib/python3.6/site-packages/pandas/core/frame.py\u001b[0m in \u001b[0;36m_getitem_array\u001b[0;34m(self, key)\u001b[0m\n\u001b[1;32m   2175\u001b[0m             \u001b[0;32mreturn\u001b[0m \u001b[0mself\u001b[0m\u001b[0;34m.\u001b[0m\u001b[0m_take\u001b[0m\u001b[0;34m(\u001b[0m\u001b[0mindexer\u001b[0m\u001b[0;34m,\u001b[0m \u001b[0maxis\u001b[0m\u001b[0;34m=\u001b[0m\u001b[0;36m0\u001b[0m\u001b[0;34m,\u001b[0m \u001b[0mconvert\u001b[0m\u001b[0;34m=\u001b[0m\u001b[0;32mFalse\u001b[0m\u001b[0;34m)\u001b[0m\u001b[0;34m\u001b[0m\u001b[0m\n\u001b[1;32m   2176\u001b[0m         \u001b[0;32melse\u001b[0m\u001b[0;34m:\u001b[0m\u001b[0;34m\u001b[0m\u001b[0m\n\u001b[0;32m-> 2177\u001b[0;31m             \u001b[0mindexer\u001b[0m \u001b[0;34m=\u001b[0m \u001b[0mself\u001b[0m\u001b[0;34m.\u001b[0m\u001b[0mloc\u001b[0m\u001b[0;34m.\u001b[0m\u001b[0m_convert_to_indexer\u001b[0m\u001b[0;34m(\u001b[0m\u001b[0mkey\u001b[0m\u001b[0;34m,\u001b[0m \u001b[0maxis\u001b[0m\u001b[0;34m=\u001b[0m\u001b[0;36m1\u001b[0m\u001b[0;34m)\u001b[0m\u001b[0;34m\u001b[0m\u001b[0m\n\u001b[0m\u001b[1;32m   2178\u001b[0m             \u001b[0;32mreturn\u001b[0m \u001b[0mself\u001b[0m\u001b[0;34m.\u001b[0m\u001b[0m_take\u001b[0m\u001b[0;34m(\u001b[0m\u001b[0mindexer\u001b[0m\u001b[0;34m,\u001b[0m \u001b[0maxis\u001b[0m\u001b[0;34m=\u001b[0m\u001b[0;36m1\u001b[0m\u001b[0;34m,\u001b[0m \u001b[0mconvert\u001b[0m\u001b[0;34m=\u001b[0m\u001b[0;32mTrue\u001b[0m\u001b[0;34m)\u001b[0m\u001b[0;34m\u001b[0m\u001b[0m\n\u001b[1;32m   2179\u001b[0m \u001b[0;34m\u001b[0m\u001b[0m\n",
      "\u001b[0;32m~/.local/lib/python3.6/site-packages/pandas/core/indexing.py\u001b[0m in \u001b[0;36m_convert_to_indexer\u001b[0;34m(self, obj, axis, is_setter)\u001b[0m\n\u001b[1;32m   1267\u001b[0m                 \u001b[0;32mif\u001b[0m \u001b[0mmask\u001b[0m\u001b[0;34m.\u001b[0m\u001b[0many\u001b[0m\u001b[0;34m(\u001b[0m\u001b[0;34m)\u001b[0m\u001b[0;34m:\u001b[0m\u001b[0;34m\u001b[0m\u001b[0m\n\u001b[1;32m   1268\u001b[0m                     raise KeyError('{mask} not in index'\n\u001b[0;32m-> 1269\u001b[0;31m                                    .format(mask=objarr[mask]))\n\u001b[0m\u001b[1;32m   1270\u001b[0m \u001b[0;34m\u001b[0m\u001b[0m\n\u001b[1;32m   1271\u001b[0m                 \u001b[0;32mreturn\u001b[0m \u001b[0m_values_from_object\u001b[0m\u001b[0;34m(\u001b[0m\u001b[0mindexer\u001b[0m\u001b[0;34m)\u001b[0m\u001b[0;34m\u001b[0m\u001b[0m\n",
      "\u001b[0;31mKeyError\u001b[0m: \"['paper_assignment'] not in index\""
     ]
    }
   ],
   "source": [
    "sns.set_style('white')\n",
    "\n",
    "g = sns.lmplot('x', 'y', df_tsne_pca, hue='paper_assignment', fit_reg=False, \n",
    "              scatter_kws={\"s\":25}, size=8)"
   ]
  },
  {
   "cell_type": "markdown",
   "metadata": {},
   "source": [
    "Save the cluster assignments to a file that we will use later for differential gene expression."
   ]
  },
  {
   "cell_type": "code",
   "execution_count": 23,
   "metadata": {},
   "outputs": [],
   "source": [
    "df_tsne_pca.to_csv(os.path.join(output_dir, \"tsne_phenograph_k30_results.csv\"))"
   ]
  },
  {
   "cell_type": "code",
   "execution_count": 24,
   "metadata": {},
   "outputs": [],
   "source": [
    "df_tsne_pca['community'].to_csv(os.path.join(output_dir, \"cells_phenograph_k30_assignment.csv\"))"
   ]
  },
  {
   "cell_type": "code",
   "execution_count": null,
   "metadata": {},
   "outputs": [],
   "source": []
  },
  {
   "cell_type": "code",
   "execution_count": null,
   "metadata": {},
   "outputs": [],
   "source": []
  }
 ],
 "metadata": {
  "kernelspec": {
   "display_name": "clustering-toolkit (Python3)",
   "language": "python",
   "name": "clustering-toolkit"
  },
  "language_info": {
   "codemirror_mode": {
    "name": "ipython",
    "version": 3
   },
   "file_extension": ".py",
   "mimetype": "text/x-python",
   "name": "python",
   "nbconvert_exporter": "python",
   "pygments_lexer": "ipython3",
   "version": "3.6.3"
  }
 },
 "nbformat": 4,
 "nbformat_minor": 1
}
