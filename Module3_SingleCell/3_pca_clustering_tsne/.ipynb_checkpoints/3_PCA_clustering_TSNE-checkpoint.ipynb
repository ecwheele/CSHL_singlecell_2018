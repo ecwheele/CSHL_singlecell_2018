{
 "cells": [
  {
   "cell_type": "code",
   "execution_count": null,
   "metadata": {},
   "outputs": [],
   "source": []
  },
  {
   "cell_type": "code",
   "execution_count": 1,
   "metadata": {},
   "outputs": [],
   "source": [
    "import pandas as pd\n",
    "import numpy as np\n",
    "import os\n",
    "from sklearn.decomposition import PCA\n",
    "from sklearn.manifold import TSNE\n",
    "import phenograph\n",
    "from matplotlib import pyplot as plt\n",
    "import seaborn as sns\n",
    "%matplotlib inline"
   ]
  },
  {
   "cell_type": "markdown",
   "metadata": {},
   "source": [
    "Load in our processed, scaled data for cluster assignment and visualization"
   ]
  },
  {
   "cell_type": "code",
   "execution_count": 2,
   "metadata": {},
   "outputs": [],
   "source": [
    "input_dir = 'inputs'\n",
    "output_dir = 'outputs'"
   ]
  },
  {
   "cell_type": "code",
   "execution_count": 3,
   "metadata": {},
   "outputs": [
    {
     "name": "stdout",
     "output_type": "stream",
     "text": [
      "(577, 1660)\n"
     ]
    },
    {
     "data": {
      "text/html": [
       "<div>\n",
       "<style scoped>\n",
       "    .dataframe tbody tr th:only-of-type {\n",
       "        vertical-align: middle;\n",
       "    }\n",
       "\n",
       "    .dataframe tbody tr th {\n",
       "        vertical-align: top;\n",
       "    }\n",
       "\n",
       "    .dataframe thead th {\n",
       "        text-align: right;\n",
       "    }\n",
       "</style>\n",
       "<table border=\"1\" class=\"dataframe\">\n",
       "  <thead>\n",
       "    <tr style=\"text-align: right;\">\n",
       "      <th></th>\n",
       "      <th>AAACATTGTTTGGG-1</th>\n",
       "      <th>AAACCGTGCCAAGT-1</th>\n",
       "      <th>AAACGCACAGCCTA-1</th>\n",
       "      <th>AAACGCACCAGATC-1</th>\n",
       "      <th>AAACGCACCGCCTT-1</th>\n",
       "      <th>AAACGCACCGTAGT-1</th>\n",
       "      <th>AAACGGCTGATAGA-1</th>\n",
       "      <th>AAACTTGAAGAGTA-1</th>\n",
       "      <th>AAACTTGACCACAA-1</th>\n",
       "      <th>AAAGACGATTGTCT-1</th>\n",
       "      <th>...</th>\n",
       "      <th>TTTAGGCTCTCTTA-1</th>\n",
       "      <th>TTTAGGCTGTATCG-1</th>\n",
       "      <th>TTTCACGAAGTGTC-1</th>\n",
       "      <th>TTTCACGACACACA-1</th>\n",
       "      <th>TTTCACGAGAGGCA-1</th>\n",
       "      <th>TTTCAGTGGCGAAG-1</th>\n",
       "      <th>TTTCCAGAACGCTA-1</th>\n",
       "      <th>TTTCCAGATGCAAC-1</th>\n",
       "      <th>TTTCGAACTACTGG-1</th>\n",
       "      <th>TTTCTACTTCACCC-1</th>\n",
       "    </tr>\n",
       "  </thead>\n",
       "  <tbody>\n",
       "    <tr>\n",
       "      <th>ENSMUSG00000025903</th>\n",
       "      <td>0.755368</td>\n",
       "      <td>-0.337802</td>\n",
       "      <td>-0.337802</td>\n",
       "      <td>0.055363</td>\n",
       "      <td>-0.337802</td>\n",
       "      <td>-0.337802</td>\n",
       "      <td>-0.337802</td>\n",
       "      <td>-0.337802</td>\n",
       "      <td>-0.083969</td>\n",
       "      <td>-0.337802</td>\n",
       "      <td>...</td>\n",
       "      <td>-0.337802</td>\n",
       "      <td>-0.337802</td>\n",
       "      <td>0.179139</td>\n",
       "      <td>-0.337802</td>\n",
       "      <td>-0.337802</td>\n",
       "      <td>-0.337802</td>\n",
       "      <td>1.118815</td>\n",
       "      <td>-0.337802</td>\n",
       "      <td>-0.337802</td>\n",
       "      <td>2.808559</td>\n",
       "    </tr>\n",
       "    <tr>\n",
       "      <th>ENSMUSG00000026126</th>\n",
       "      <td>-0.332991</td>\n",
       "      <td>-0.332991</td>\n",
       "      <td>-0.332991</td>\n",
       "      <td>0.838708</td>\n",
       "      <td>-0.332991</td>\n",
       "      <td>-0.332991</td>\n",
       "      <td>-0.332991</td>\n",
       "      <td>-0.332991</td>\n",
       "      <td>-0.080836</td>\n",
       "      <td>-0.332991</td>\n",
       "      <td>...</td>\n",
       "      <td>-0.332991</td>\n",
       "      <td>-0.332991</td>\n",
       "      <td>-0.332991</td>\n",
       "      <td>-0.332991</td>\n",
       "      <td>-0.332991</td>\n",
       "      <td>-0.332991</td>\n",
       "      <td>-0.332991</td>\n",
       "      <td>-0.332991</td>\n",
       "      <td>4.692455</td>\n",
       "      <td>-0.332991</td>\n",
       "    </tr>\n",
       "    <tr>\n",
       "      <th>ENSMUSG00000037503</th>\n",
       "      <td>1.172534</td>\n",
       "      <td>-0.314943</td>\n",
       "      <td>-0.314943</td>\n",
       "      <td>-0.314943</td>\n",
       "      <td>0.347354</td>\n",
       "      <td>1.291592</td>\n",
       "      <td>0.458935</td>\n",
       "      <td>-0.314943</td>\n",
       "      <td>-0.314943</td>\n",
       "      <td>1.387641</td>\n",
       "      <td>...</td>\n",
       "      <td>-0.314943</td>\n",
       "      <td>-0.314943</td>\n",
       "      <td>-0.314943</td>\n",
       "      <td>-0.314943</td>\n",
       "      <td>-0.314943</td>\n",
       "      <td>-0.314943</td>\n",
       "      <td>-0.314943</td>\n",
       "      <td>-0.314943</td>\n",
       "      <td>-0.314943</td>\n",
       "      <td>-0.314943</td>\n",
       "    </tr>\n",
       "    <tr>\n",
       "      <th>ENSMUSG00000010453</th>\n",
       "      <td>-0.303060</td>\n",
       "      <td>-0.303060</td>\n",
       "      <td>-0.303060</td>\n",
       "      <td>-0.303060</td>\n",
       "      <td>-0.303060</td>\n",
       "      <td>-0.303060</td>\n",
       "      <td>1.366492</td>\n",
       "      <td>-0.303060</td>\n",
       "      <td>0.069510</td>\n",
       "      <td>-0.303060</td>\n",
       "      <td>...</td>\n",
       "      <td>-0.303060</td>\n",
       "      <td>-0.303060</td>\n",
       "      <td>-0.303060</td>\n",
       "      <td>-0.303060</td>\n",
       "      <td>5.681360</td>\n",
       "      <td>-0.303060</td>\n",
       "      <td>-0.303060</td>\n",
       "      <td>0.239717</td>\n",
       "      <td>-0.303060</td>\n",
       "      <td>-0.303060</td>\n",
       "    </tr>\n",
       "    <tr>\n",
       "      <th>ENSMUSG00000048234</th>\n",
       "      <td>-0.344640</td>\n",
       "      <td>-0.344640</td>\n",
       "      <td>-0.344640</td>\n",
       "      <td>-0.344640</td>\n",
       "      <td>0.233700</td>\n",
       "      <td>-0.344640</td>\n",
       "      <td>-0.344640</td>\n",
       "      <td>-0.344640</td>\n",
       "      <td>-0.043034</td>\n",
       "      <td>-0.344640</td>\n",
       "      <td>...</td>\n",
       "      <td>0.170096</td>\n",
       "      <td>-0.344640</td>\n",
       "      <td>-0.344640</td>\n",
       "      <td>-0.344640</td>\n",
       "      <td>-0.344640</td>\n",
       "      <td>-0.344640</td>\n",
       "      <td>1.386125</td>\n",
       "      <td>0.094754</td>\n",
       "      <td>-0.344640</td>\n",
       "      <td>-0.344640</td>\n",
       "    </tr>\n",
       "  </tbody>\n",
       "</table>\n",
       "<p>5 rows × 1660 columns</p>\n",
       "</div>"
      ],
      "text/plain": [
       "                    AAACATTGTTTGGG-1  AAACCGTGCCAAGT-1  AAACGCACAGCCTA-1  \\\n",
       "ENSMUSG00000025903          0.755368         -0.337802         -0.337802   \n",
       "ENSMUSG00000026126         -0.332991         -0.332991         -0.332991   \n",
       "ENSMUSG00000037503          1.172534         -0.314943         -0.314943   \n",
       "ENSMUSG00000010453         -0.303060         -0.303060         -0.303060   \n",
       "ENSMUSG00000048234         -0.344640         -0.344640         -0.344640   \n",
       "\n",
       "                    AAACGCACCAGATC-1  AAACGCACCGCCTT-1  AAACGCACCGTAGT-1  \\\n",
       "ENSMUSG00000025903          0.055363         -0.337802         -0.337802   \n",
       "ENSMUSG00000026126          0.838708         -0.332991         -0.332991   \n",
       "ENSMUSG00000037503         -0.314943          0.347354          1.291592   \n",
       "ENSMUSG00000010453         -0.303060         -0.303060         -0.303060   \n",
       "ENSMUSG00000048234         -0.344640          0.233700         -0.344640   \n",
       "\n",
       "                    AAACGGCTGATAGA-1  AAACTTGAAGAGTA-1  AAACTTGACCACAA-1  \\\n",
       "ENSMUSG00000025903         -0.337802         -0.337802         -0.083969   \n",
       "ENSMUSG00000026126         -0.332991         -0.332991         -0.080836   \n",
       "ENSMUSG00000037503          0.458935         -0.314943         -0.314943   \n",
       "ENSMUSG00000010453          1.366492         -0.303060          0.069510   \n",
       "ENSMUSG00000048234         -0.344640         -0.344640         -0.043034   \n",
       "\n",
       "                    AAAGACGATTGTCT-1        ...         TTTAGGCTCTCTTA-1  \\\n",
       "ENSMUSG00000025903         -0.337802        ...                -0.337802   \n",
       "ENSMUSG00000026126         -0.332991        ...                -0.332991   \n",
       "ENSMUSG00000037503          1.387641        ...                -0.314943   \n",
       "ENSMUSG00000010453         -0.303060        ...                -0.303060   \n",
       "ENSMUSG00000048234         -0.344640        ...                 0.170096   \n",
       "\n",
       "                    TTTAGGCTGTATCG-1  TTTCACGAAGTGTC-1  TTTCACGACACACA-1  \\\n",
       "ENSMUSG00000025903         -0.337802          0.179139         -0.337802   \n",
       "ENSMUSG00000026126         -0.332991         -0.332991         -0.332991   \n",
       "ENSMUSG00000037503         -0.314943         -0.314943         -0.314943   \n",
       "ENSMUSG00000010453         -0.303060         -0.303060         -0.303060   \n",
       "ENSMUSG00000048234         -0.344640         -0.344640         -0.344640   \n",
       "\n",
       "                    TTTCACGAGAGGCA-1  TTTCAGTGGCGAAG-1  TTTCCAGAACGCTA-1  \\\n",
       "ENSMUSG00000025903         -0.337802         -0.337802          1.118815   \n",
       "ENSMUSG00000026126         -0.332991         -0.332991         -0.332991   \n",
       "ENSMUSG00000037503         -0.314943         -0.314943         -0.314943   \n",
       "ENSMUSG00000010453          5.681360         -0.303060         -0.303060   \n",
       "ENSMUSG00000048234         -0.344640         -0.344640          1.386125   \n",
       "\n",
       "                    TTTCCAGATGCAAC-1  TTTCGAACTACTGG-1  TTTCTACTTCACCC-1  \n",
       "ENSMUSG00000025903         -0.337802         -0.337802          2.808559  \n",
       "ENSMUSG00000026126         -0.332991          4.692455         -0.332991  \n",
       "ENSMUSG00000037503         -0.314943         -0.314943         -0.314943  \n",
       "ENSMUSG00000010453          0.239717         -0.303060         -0.303060  \n",
       "ENSMUSG00000048234          0.094754         -0.344640         -0.344640  \n",
       "\n",
       "[5 rows x 1660 columns]"
      ]
     },
     "execution_count": 3,
     "metadata": {},
     "output_type": "execute_result"
    }
   ],
   "source": [
    "zscore_variable = pd.read_csv(os.path.join(input_dir, \"zscore_variable_genes.csv\"), index_col=0)\n",
    "print(zscore_variable.shape)\n",
    "zscore_variable.head()"
   ]
  },
  {
   "cell_type": "markdown",
   "metadata": {},
   "source": [
    "# PCA\n",
    "\n",
    "We have lots of variables (610 genes over 1385 cells!!). Okay that's not a ton in the world of single cell, but we are still going to practice as if we had a much larger dataset. Before clustering, we can use PCA to reduce the data into fewer dimensions that capture all (the majority) of the variation in the dataset. This will help increase the speed of downstream clustering and visualization without losing any information."
   ]
  },
  {
   "cell_type": "code",
   "execution_count": 4,
   "metadata": {},
   "outputs": [],
   "source": [
    "#Initiate a PCA object to be calculated with 200 components. \n",
    "pca = PCA(n_components=200)\n",
    "\n",
    "#Fit our data with this PCA and save the result. PCA requires the samples (cells) to be the rows of the dataframe and \n",
    "#the measurements (genes) to be the columns. So we are going to transpose our dataframe with .T\n",
    "pca_result = pca.fit_transform(zscore_variable.T)"
   ]
  },
  {
   "cell_type": "code",
   "execution_count": 5,
   "metadata": {},
   "outputs": [
    {
     "data": {
      "text/plain": [
       "array([0.06633732, 0.02933355, 0.02659024, 0.02132812, 0.0165857 ,\n",
       "       0.0135171 , 0.01288324, 0.01097606, 0.00972683, 0.00766495,\n",
       "       0.00725021, 0.00639734, 0.0062008 , 0.00604613, 0.00568264,\n",
       "       0.00566181, 0.00554301, 0.00552314, 0.00544466, 0.00526287,\n",
       "       0.00518489, 0.00510446, 0.00507026, 0.00499049, 0.00489433,\n",
       "       0.0048666 , 0.0047915 , 0.00471817, 0.00468938, 0.00466002,\n",
       "       0.00464527, 0.00459812, 0.00456094, 0.00447163, 0.00445277,\n",
       "       0.00440282, 0.00438091, 0.0043406 , 0.0042384 , 0.00421181,\n",
       "       0.0041768 , 0.00415373, 0.00410534, 0.00408161, 0.00405989,\n",
       "       0.00400014, 0.00396502, 0.00396195, 0.00393357, 0.00385829,\n",
       "       0.00382992, 0.00382758, 0.00377353, 0.00373351, 0.00369734,\n",
       "       0.00367884, 0.003663  , 0.00362187, 0.00360996, 0.00355963,\n",
       "       0.00355086, 0.00351691, 0.00350852, 0.0034916 , 0.00345315,\n",
       "       0.00344714, 0.00341112, 0.00339673, 0.00334997, 0.00333024,\n",
       "       0.00332085, 0.00329478, 0.00328313, 0.00325416, 0.00325072,\n",
       "       0.00321567, 0.00317902, 0.00316731, 0.0031591 , 0.0031442 ,\n",
       "       0.00311027, 0.00307502, 0.00306914, 0.00306362, 0.0030462 ,\n",
       "       0.00303522, 0.00298976, 0.00297873, 0.00295304, 0.00294196,\n",
       "       0.00293718, 0.00291049, 0.00288759, 0.00288319, 0.00285677,\n",
       "       0.00284971, 0.00283358, 0.00282142, 0.00280466, 0.0027796 ,\n",
       "       0.00274241, 0.00272308, 0.00271579, 0.00269616, 0.00269031,\n",
       "       0.00267137, 0.00265338, 0.00263925, 0.00261785, 0.00260954,\n",
       "       0.00260443, 0.00258093, 0.00254729, 0.00254574, 0.00253569,\n",
       "       0.00250575, 0.0024999 , 0.00248317, 0.00247795, 0.00245864,\n",
       "       0.00244281, 0.00242738, 0.00241083, 0.0023972 , 0.00238504,\n",
       "       0.00236361, 0.00234136, 0.00233734, 0.00232323, 0.00231167,\n",
       "       0.0023067 , 0.00228857, 0.00227162, 0.00225051, 0.00224507,\n",
       "       0.0022328 , 0.00221141, 0.00219859, 0.0021923 , 0.00216879,\n",
       "       0.00215257, 0.00214235, 0.00213658, 0.00211948, 0.00210142,\n",
       "       0.0020938 , 0.00207297, 0.00206572, 0.00204723, 0.00203181,\n",
       "       0.00202239, 0.00201434, 0.00199062, 0.00196844, 0.00196506,\n",
       "       0.00195289, 0.00194948, 0.00192276, 0.00190324, 0.00190092,\n",
       "       0.00188204, 0.00187507, 0.00185116, 0.00184675, 0.00183523,\n",
       "       0.00182488, 0.00181238, 0.00179888, 0.00178173, 0.00178074,\n",
       "       0.00176218, 0.00174678, 0.00173772, 0.00173471, 0.00172192,\n",
       "       0.00170395, 0.00169835, 0.00169209, 0.00167522, 0.00165602,\n",
       "       0.001654  , 0.00164385, 0.00163417, 0.0016139 , 0.00161   ,\n",
       "       0.00160248, 0.00157848, 0.00155831, 0.00154915, 0.00154483,\n",
       "       0.00153948, 0.00153332, 0.00151363, 0.00150087, 0.00150059,\n",
       "       0.00148141, 0.00147106, 0.00145224, 0.00144363, 0.00141779])"
      ]
     },
     "execution_count": 5,
     "metadata": {},
     "output_type": "execute_result"
    }
   ],
   "source": [
    "#The explained variance ratio will tell you how much of the variation in the dataset was captured by each component. \n",
    "#Notice there are 200 values in this array, that is because we kept 200 components.\n",
    "\n",
    "pca.explained_variance_ratio_"
   ]
  },
  {
   "cell_type": "code",
   "execution_count": 6,
   "metadata": {},
   "outputs": [
    {
     "data": {
      "text/plain": [
       "array([0.06633732, 0.09567087, 0.12226111, 0.14358923, 0.16017493,\n",
       "       0.17369203, 0.18657527, 0.19755133, 0.20727815, 0.21494311,\n",
       "       0.22219332, 0.22859066, 0.23479146, 0.24083759, 0.24652023,\n",
       "       0.25218203, 0.25772504, 0.26324818, 0.26869284, 0.27395571,\n",
       "       0.2791406 , 0.28424506, 0.28931532, 0.29430581, 0.29920014,\n",
       "       0.30406675, 0.30885824, 0.31357641, 0.31826579, 0.32292581,\n",
       "       0.32757107, 0.33216919, 0.33673013, 0.34120176, 0.34565454,\n",
       "       0.35005736, 0.35443826, 0.35877887, 0.36301727, 0.36722907,\n",
       "       0.37140587, 0.3755596 , 0.37966494, 0.38374655, 0.38780644,\n",
       "       0.39180658, 0.3957716 , 0.39973355, 0.40366711, 0.4075254 ,\n",
       "       0.41135532, 0.4151829 , 0.41895643, 0.42268994, 0.42638728,\n",
       "       0.43006611, 0.43372912, 0.43735099, 0.44096095, 0.44452058,\n",
       "       0.44807144, 0.45158835, 0.45509687, 0.45858847, 0.46204161,\n",
       "       0.46548875, 0.46889987, 0.4722966 , 0.47564658, 0.47897682,\n",
       "       0.48229767, 0.48559245, 0.48887559, 0.49212975, 0.49538047,\n",
       "       0.49859614, 0.50177516, 0.50494247, 0.50810156, 0.51124577,\n",
       "       0.51435604, 0.51743106, 0.5205002 , 0.52356382, 0.52661001,\n",
       "       0.52964523, 0.53263499, 0.53561372, 0.53856676, 0.54150872,\n",
       "       0.5444459 , 0.54735639, 0.55024397, 0.55312716, 0.55598393,\n",
       "       0.55883364, 0.56166722, 0.56448864, 0.5672933 , 0.57007291,\n",
       "       0.57281532, 0.5755384 , 0.57825419, 0.58095035, 0.58364066,\n",
       "       0.58631203, 0.58896541, 0.59160466, 0.59422251, 0.59683205,\n",
       "       0.59943649, 0.60201742, 0.60456471, 0.60711045, 0.60964614,\n",
       "       0.61215189, 0.61465179, 0.61713496, 0.61961291, 0.62207155,\n",
       "       0.62451436, 0.62694174, 0.62935257, 0.63174977, 0.63413481,\n",
       "       0.63649842, 0.63883978, 0.64117712, 0.64350035, 0.64581202,\n",
       "       0.64811872, 0.65040729, 0.65267891, 0.65492942, 0.6571745 ,\n",
       "       0.6594073 , 0.66161871, 0.6638173 , 0.6660096 , 0.66817839,\n",
       "       0.67033096, 0.67247331, 0.67460989, 0.67672937, 0.6788308 ,\n",
       "       0.6809246 , 0.68299757, 0.68506329, 0.68711053, 0.68914233,\n",
       "       0.69116472, 0.69317905, 0.69516967, 0.69713812, 0.69910318,\n",
       "       0.70105607, 0.70300555, 0.70492831, 0.70683155, 0.70873247,\n",
       "       0.71061451, 0.71248958, 0.71434073, 0.71618748, 0.71802271,\n",
       "       0.7198476 , 0.72165998, 0.72345885, 0.72524059, 0.72702133,\n",
       "       0.72878351, 0.73053029, 0.73226801, 0.73400271, 0.73572463,\n",
       "       0.73742858, 0.73912693, 0.74081902, 0.74249424, 0.74415026,\n",
       "       0.74580426, 0.74744811, 0.74908227, 0.75069617, 0.75230617,\n",
       "       0.75390865, 0.75548713, 0.75704544, 0.75859459, 0.76013941,\n",
       "       0.7616789 , 0.76321222, 0.76472585, 0.76622671, 0.7677273 ,\n",
       "       0.76920872, 0.77067977, 0.77213201, 0.77357564, 0.77499343])"
      ]
     },
     "execution_count": 6,
     "metadata": {},
     "output_type": "execute_result"
    }
   ],
   "source": [
    "#Lets look at the cumulative sum to see how many components we need to reach 100% (ish) of the variation captured\n",
    "\n",
    "np.cumsum(pca.explained_variance_ratio_)"
   ]
  },
  {
   "cell_type": "code",
   "execution_count": 7,
   "metadata": {},
   "outputs": [
    {
     "data": {
      "text/plain": [
       "Text(0,0.5,'cumulative explained variance')"
      ]
     },
     "execution_count": 7,
     "metadata": {},
     "output_type": "execute_result"
    },
    {
     "data": {
      "image/png": "[encoded data removed]",
      "text/plain": [
       "<matplotlib.figure.Figure at 0x2b63aff64e10>"
      ]
     },
     "metadata": {},
     "output_type": "display_data"
    }
   ],
   "source": [
    "sns.set_style(\"whitegrid\")\n",
    "\n",
    "plt.plot(np.cumsum(pca.explained_variance_ratio_))\n",
    "plt.xlabel('number of components')\n",
    "plt.ylabel('cumulative explained variance')"
   ]
  },
  {
   "cell_type": "markdown",
   "metadata": {},
   "source": [
    "The plot above shows us that 80% of the variance is explained by the top 200 components, so lets keep all of them now for downstream analyses. Our variable pca_result contains the reduced value for each component calculated. We are going to put this into a pandas dataframe where each row is the cell ID (cellID information is stored in zscore_variable.columns"
   ]
  },
  {
   "cell_type": "code",
   "execution_count": 8,
   "metadata": {},
   "outputs": [
    {
     "data": {
      "text/html": [
       "<div>\n",
       "<style scoped>\n",
       "    .dataframe tbody tr th:only-of-type {\n",
       "        vertical-align: middle;\n",
       "    }\n",
       "\n",
       "    .dataframe tbody tr th {\n",
       "        vertical-align: top;\n",
       "    }\n",
       "\n",
       "    .dataframe thead th {\n",
       "        text-align: right;\n",
       "    }\n",
       "</style>\n",
       "<table border=\"1\" class=\"dataframe\">\n",
       "  <thead>\n",
       "    <tr style=\"text-align: right;\">\n",
       "      <th></th>\n",
       "      <th>0</th>\n",
       "      <th>1</th>\n",
       "      <th>2</th>\n",
       "      <th>3</th>\n",
       "      <th>4</th>\n",
       "      <th>5</th>\n",
       "      <th>6</th>\n",
       "      <th>7</th>\n",
       "      <th>8</th>\n",
       "      <th>9</th>\n",
       "      <th>...</th>\n",
       "      <th>190</th>\n",
       "      <th>191</th>\n",
       "      <th>192</th>\n",
       "      <th>193</th>\n",
       "      <th>194</th>\n",
       "      <th>195</th>\n",
       "      <th>196</th>\n",
       "      <th>197</th>\n",
       "      <th>198</th>\n",
       "      <th>199</th>\n",
       "    </tr>\n",
       "  </thead>\n",
       "  <tbody>\n",
       "    <tr>\n",
       "      <th>AAACATTGTTTGGG-1</th>\n",
       "      <td>1.111598</td>\n",
       "      <td>-0.611060</td>\n",
       "      <td>1.900932</td>\n",
       "      <td>-2.496832</td>\n",
       "      <td>-4.774272</td>\n",
       "      <td>4.047505</td>\n",
       "      <td>-3.966377</td>\n",
       "      <td>0.139134</td>\n",
       "      <td>-0.017062</td>\n",
       "      <td>-0.393519</td>\n",
       "      <td>...</td>\n",
       "      <td>0.158235</td>\n",
       "      <td>1.035597</td>\n",
       "      <td>0.279176</td>\n",
       "      <td>-0.328531</td>\n",
       "      <td>-0.545142</td>\n",
       "      <td>-0.083043</td>\n",
       "      <td>-0.451270</td>\n",
       "      <td>-0.158861</td>\n",
       "      <td>1.142052</td>\n",
       "      <td>-0.358500</td>\n",
       "    </tr>\n",
       "    <tr>\n",
       "      <th>AAACCGTGCCAAGT-1</th>\n",
       "      <td>-3.152160</td>\n",
       "      <td>-0.914035</td>\n",
       "      <td>0.796638</td>\n",
       "      <td>0.496646</td>\n",
       "      <td>2.771177</td>\n",
       "      <td>-0.898508</td>\n",
       "      <td>-0.934202</td>\n",
       "      <td>-1.402458</td>\n",
       "      <td>2.658712</td>\n",
       "      <td>-0.615804</td>\n",
       "      <td>...</td>\n",
       "      <td>0.842754</td>\n",
       "      <td>-0.272969</td>\n",
       "      <td>-0.193930</td>\n",
       "      <td>1.228199</td>\n",
       "      <td>-0.349235</td>\n",
       "      <td>-0.948201</td>\n",
       "      <td>0.606960</td>\n",
       "      <td>0.841797</td>\n",
       "      <td>0.197934</td>\n",
       "      <td>0.611156</td>\n",
       "    </tr>\n",
       "    <tr>\n",
       "      <th>AAACGCACAGCCTA-1</th>\n",
       "      <td>-3.589850</td>\n",
       "      <td>6.517939</td>\n",
       "      <td>8.510866</td>\n",
       "      <td>6.178074</td>\n",
       "      <td>-0.266661</td>\n",
       "      <td>-3.786021</td>\n",
       "      <td>1.248182</td>\n",
       "      <td>1.027399</td>\n",
       "      <td>0.408622</td>\n",
       "      <td>-2.470556</td>\n",
       "      <td>...</td>\n",
       "      <td>-0.043994</td>\n",
       "      <td>0.382562</td>\n",
       "      <td>0.992657</td>\n",
       "      <td>0.130073</td>\n",
       "      <td>0.532922</td>\n",
       "      <td>-0.341221</td>\n",
       "      <td>1.110854</td>\n",
       "      <td>-0.000507</td>\n",
       "      <td>-0.101894</td>\n",
       "      <td>0.378583</td>\n",
       "    </tr>\n",
       "    <tr>\n",
       "      <th>AAACGCACCAGATC-1</th>\n",
       "      <td>-1.231824</td>\n",
       "      <td>-0.948486</td>\n",
       "      <td>0.502786</td>\n",
       "      <td>0.112377</td>\n",
       "      <td>0.592097</td>\n",
       "      <td>0.067975</td>\n",
       "      <td>-1.951407</td>\n",
       "      <td>-0.178995</td>\n",
       "      <td>-1.142591</td>\n",
       "      <td>0.673818</td>\n",
       "      <td>...</td>\n",
       "      <td>-0.403953</td>\n",
       "      <td>-1.045493</td>\n",
       "      <td>0.554704</td>\n",
       "      <td>0.492884</td>\n",
       "      <td>0.107379</td>\n",
       "      <td>-0.425910</td>\n",
       "      <td>0.476875</td>\n",
       "      <td>-0.790742</td>\n",
       "      <td>0.714578</td>\n",
       "      <td>0.794901</td>\n",
       "    </tr>\n",
       "    <tr>\n",
       "      <th>AAACGCACCGCCTT-1</th>\n",
       "      <td>-3.089266</td>\n",
       "      <td>-0.496087</td>\n",
       "      <td>1.340011</td>\n",
       "      <td>-1.626504</td>\n",
       "      <td>0.492406</td>\n",
       "      <td>0.591718</td>\n",
       "      <td>1.467421</td>\n",
       "      <td>1.778675</td>\n",
       "      <td>0.489795</td>\n",
       "      <td>-1.275097</td>\n",
       "      <td>...</td>\n",
       "      <td>-0.312402</td>\n",
       "      <td>-0.419797</td>\n",
       "      <td>0.026097</td>\n",
       "      <td>-0.633065</td>\n",
       "      <td>0.099003</td>\n",
       "      <td>0.272316</td>\n",
       "      <td>-0.515871</td>\n",
       "      <td>-0.179175</td>\n",
       "      <td>0.517407</td>\n",
       "      <td>0.016039</td>\n",
       "    </tr>\n",
       "  </tbody>\n",
       "</table>\n",
       "<p>5 rows × 200 columns</p>\n",
       "</div>"
      ],
      "text/plain": [
       "                       0         1         2         3         4         5    \\\n",
       "AAACATTGTTTGGG-1  1.111598 -0.611060  1.900932 -2.496832 -4.774272  4.047505   \n",
       "AAACCGTGCCAAGT-1 -3.152160 -0.914035  0.796638  0.496646  2.771177 -0.898508   \n",
       "AAACGCACAGCCTA-1 -3.589850  6.517939  8.510866  6.178074 -0.266661 -3.786021   \n",
       "AAACGCACCAGATC-1 -1.231824 -0.948486  0.502786  0.112377  0.592097  0.067975   \n",
       "AAACGCACCGCCTT-1 -3.089266 -0.496087  1.340011 -1.626504  0.492406  0.591718   \n",
       "\n",
       "                       6         7         8         9      ...          190  \\\n",
       "AAACATTGTTTGGG-1 -3.966377  0.139134 -0.017062 -0.393519    ...     0.158235   \n",
       "AAACCGTGCCAAGT-1 -0.934202 -1.402458  2.658712 -0.615804    ...     0.842754   \n",
       "AAACGCACAGCCTA-1  1.248182  1.027399  0.408622 -2.470556    ...    -0.043994   \n",
       "AAACGCACCAGATC-1 -1.951407 -0.178995 -1.142591  0.673818    ...    -0.403953   \n",
       "AAACGCACCGCCTT-1  1.467421  1.778675  0.489795 -1.275097    ...    -0.312402   \n",
       "\n",
       "                       191       192       193       194       195       196  \\\n",
       "AAACATTGTTTGGG-1  1.035597  0.279176 -0.328531 -0.545142 -0.083043 -0.451270   \n",
       "AAACCGTGCCAAGT-1 -0.272969 -0.193930  1.228199 -0.349235 -0.948201  0.606960   \n",
       "AAACGCACAGCCTA-1  0.382562  0.992657  0.130073  0.532922 -0.341221  1.110854   \n",
       "AAACGCACCAGATC-1 -1.045493  0.554704  0.492884  0.107379 -0.425910  0.476875   \n",
       "AAACGCACCGCCTT-1 -0.419797  0.026097 -0.633065  0.099003  0.272316 -0.515871   \n",
       "\n",
       "                       197       198       199  \n",
       "AAACATTGTTTGGG-1 -0.158861  1.142052 -0.358500  \n",
       "AAACCGTGCCAAGT-1  0.841797  0.197934  0.611156  \n",
       "AAACGCACAGCCTA-1 -0.000507 -0.101894  0.378583  \n",
       "AAACGCACCAGATC-1 -0.790742  0.714578  0.794901  \n",
       "AAACGCACCGCCTT-1 -0.179175  0.517407  0.016039  \n",
       "\n",
       "[5 rows x 200 columns]"
      ]
     },
     "execution_count": 8,
     "metadata": {},
     "output_type": "execute_result"
    }
   ],
   "source": [
    "pca_df = pd.DataFrame(pca_result)\n",
    "pca_df.index = zscore_variable.columns\n",
    "pca_df.head()"
   ]
  },
  {
   "cell_type": "markdown",
   "metadata": {},
   "source": [
    "# PhenoGraph\n",
    "\n",
    "[PhenoGraph](https://www.c2b2.columbia.edu/danapeerlab/html/phenograph.html) is the graph-based clustering algorithm we will use to assign cells to clusters. We are going to use the dimensionality reduced-data for clustering. "
   ]
  },
  {
   "cell_type": "code",
   "execution_count": 9,
   "metadata": {},
   "outputs": [
    {
     "name": "stdout",
     "output_type": "stream",
     "text": [
      "Finding 30 nearest neighbors using minkowski metric and 'auto' algorithm\n",
      "Neighbors computed in 0.319350004196167 seconds\n",
      "Jaccard graph constructed in 0.4141876697540283 seconds\n",
      "Wrote graph to binary file in 0.19759893417358398 seconds\n",
      "Running Louvain modularity optimization\n",
      "After 1 runs, maximum modularity is Q = 0.695482\n",
      "After 5 runs, maximum modularity is Q = 0.698941\n",
      "Louvain completed 25 runs in 1.7282655239105225 seconds\n",
      "PhenoGraph complete in 2.686645984649658 seconds\n"
     ]
    }
   ],
   "source": [
    "#phenograph.cluster will return 3 things (so we are assigning the result to 3 variables)\n",
    "communities_30, sparse_matrix30, Q30 = phenograph.cluster(pca_df, k=30)"
   ]
  },
  {
   "cell_type": "code",
   "execution_count": 10,
   "metadata": {},
   "outputs": [
    {
     "name": "stdout",
     "output_type": "stream",
     "text": [
      "[[  0 513]\n",
      " [  1 485]\n",
      " [  2 166]\n",
      " [  3 121]\n",
      " [  4  98]\n",
      " [  5  98]\n",
      " [  6  90]\n",
      " [  7  51]\n",
      " [  8  38]]\n"
     ]
    }
   ],
   "source": [
    "#Let's take a look at how many communities (clusters) were assigned and the number of cells in each cluster\n",
    "\n",
    "cluster, freq = np.unique(communities_30, return_counts = True)\n",
    "print(np.asarray((cluster, freq)).T)"
   ]
  },
  {
   "cell_type": "markdown",
   "metadata": {},
   "source": [
    "# t-SNE\n",
    "\n",
    "Here are some good resources explaining the use of t-SNE: [official website](https://lvdmaaten.github.io/tsne/), [blogpost](https://distill.pub/2016/misread-tsne/), [pca and tsne code in python](https://medium.com/@luckylwk/visualising-high-dimensional-datasets-using-pca-and-t-sne-in-python-8ef87e7915b). tSNE is meant for visualization of high-dimensional data in 2D. We are going to color the cells based on the cluster assignments from phenograph for visualization. As a comparison, we will also color the cells based on the cluster assignments from the paper and see how our results compare. "
   ]
  },
  {
   "cell_type": "code",
   "execution_count": 11,
   "metadata": {},
   "outputs": [
    {
     "name": "stdout",
     "output_type": "stream",
     "text": [
      "[t-SNE] Computing 181 nearest neighbors...\n",
      "[t-SNE] Indexed 1660 samples in 0.021s...\n",
      "[t-SNE] Computed neighbors for 1660 samples in 1.175s...\n",
      "[t-SNE] Computed conditional probabilities for sample 1000 / 1660\n",
      "[t-SNE] Computed conditional probabilities for sample 1660 / 1660\n",
      "[t-SNE] Mean sigma: 2.972219\n",
      "[t-SNE] KL divergence after 250 iterations with early exaggeration: 75.309715\n",
      "[t-SNE] Error after 1900 iterations: 1.497774\n"
     ]
    }
   ],
   "source": [
    "#First, run tSNE on the same data that is used for clustering (the reduced data that we generated earlier with PCA)\n",
    "\n",
    "tsne = TSNE(n_components=2, verbose=1, perplexity=60, n_iter=5000, random_state=919)\n",
    "tsne_pca = tsne.fit_transform(pca_df)"
   ]
  },
  {
   "cell_type": "code",
   "execution_count": 12,
   "metadata": {},
   "outputs": [
    {
     "data": {
      "text/plain": [
       "array([[ -1.9410256,  15.956081 ],\n",
       "       [  8.579503 , -11.4251175],\n",
       "       [  9.0907   , -21.111427 ],\n",
       "       ...,\n",
       "       [ -1.3291597,   3.2148645],\n",
       "       [  1.5403775,   1.137614 ],\n",
       "       [ -2.8433063,  12.971214 ]], dtype=float32)"
      ]
     },
     "execution_count": 12,
     "metadata": {},
     "output_type": "execute_result"
    }
   ],
   "source": [
    "tsne_pca"
   ]
  },
  {
   "cell_type": "markdown",
   "metadata": {},
   "source": [
    "# This code is cheating!"
   ]
  },
  {
   "cell_type": "code",
   "execution_count": 14,
   "metadata": {},
   "outputs": [
    {
     "name": "stdout",
     "output_type": "stream",
     "text": [
      "('AAACATTGTTTGGG-1', x            -1.941026\n",
      "y            15.956081\n",
      "community     6.000000\n",
      "Name: AAACATTGTTTGGG-1, dtype: float64)\n"
     ]
    },
    {
     "ename": "IndexError",
     "evalue": "list index out of range",
     "output_type": "error",
     "traceback": [
      "\u001b[0;31m---------------------------------------------------------------------------\u001b[0m",
      "\u001b[0;31mIndexError\u001b[0m                                Traceback (most recent call last)",
      "\u001b[0;32m<ipython-input-14-c15bb9aa2333>\u001b[0m in \u001b[0;36m<module>\u001b[0;34m()\u001b[0m\n\u001b[1;32m      9\u001b[0m \u001b[0;32mfor\u001b[0m \u001b[0mi\u001b[0m \u001b[0;32min\u001b[0m \u001b[0mdf_tsne_pca\u001b[0m\u001b[0;34m.\u001b[0m\u001b[0miterrows\u001b[0m\u001b[0;34m(\u001b[0m\u001b[0;34m)\u001b[0m\u001b[0;34m:\u001b[0m\u001b[0;34m\u001b[0m\u001b[0m\n\u001b[1;32m     10\u001b[0m     \u001b[0mprint\u001b[0m\u001b[0;34m(\u001b[0m\u001b[0mi\u001b[0m\u001b[0;34m)\u001b[0m\u001b[0;34m\u001b[0m\u001b[0m\n\u001b[0;32m---> 11\u001b[0;31m     \u001b[0mcell_type\u001b[0m \u001b[0;34m=\u001b[0m \u001b[0mi\u001b[0m\u001b[0;34m[\u001b[0m\u001b[0;36m0\u001b[0m\u001b[0;34m]\u001b[0m\u001b[0;34m.\u001b[0m\u001b[0msplit\u001b[0m\u001b[0;34m(\u001b[0m\u001b[0;34m\"_\"\u001b[0m\u001b[0;34m)\u001b[0m\u001b[0;34m[\u001b[0m\u001b[0;36m2\u001b[0m\u001b[0;34m]\u001b[0m\u001b[0;34m\u001b[0m\u001b[0m\n\u001b[0m\u001b[1;32m     12\u001b[0m     \u001b[0mcell_types_paper\u001b[0m\u001b[0;34m.\u001b[0m\u001b[0mappend\u001b[0m\u001b[0;34m(\u001b[0m\u001b[0mcell_type\u001b[0m\u001b[0;34m)\u001b[0m\u001b[0;34m\u001b[0m\u001b[0m\n\u001b[1;32m     13\u001b[0m \u001b[0;34m\u001b[0m\u001b[0m\n",
      "\u001b[0;31mIndexError\u001b[0m: list index out of range"
     ]
    }
   ],
   "source": [
    "#This code will make a dataframe with our results from tsne to use in plotting. \n",
    "#We are going to assign the pheongraph community to each cell as well as the cell type identified from the paper\n",
    "\n",
    "df_tsne_pca = pd.DataFrame(tsne_pca, index = pca_df.index)\n",
    "df_tsne_pca.rename(columns = {0:'x',1:'y'}, inplace=True)\n",
    "df_tsne_pca['community'] = communities_30\n",
    "\n",
    "cell_types_paper = []\n",
    "for i in df_tsne_pca.iterrows():\n",
    "    print(i)\n",
    "    cell_type = i[0].split(\"_\")[2]\n",
    "    cell_types_paper.append(cell_type)\n",
    "\n",
    "df_tsne_pca['paper_assignment'] = cell_types_paper\n",
    "df_tsne_pca.head()"
   ]
  },
  {
   "cell_type": "markdown",
   "metadata": {},
   "source": [
    "The x, y components calculated with tSNE provide the 2-dimensional coordinates for plotting. We are going to assign the color on this plot based on the community assignment (set the hue variable to community). "
   ]
  },
  {
   "cell_type": "code",
   "execution_count": null,
   "metadata": {},
   "outputs": [],
   "source": [
    "sns.set_style('white')\n",
    "\n",
    "g = sns.lmplot('x', 'y', df_tsne_pca, hue='community', fit_reg=False, \n",
    "              scatter_kws={\"s\":25}, size=8)"
   ]
  },
  {
   "cell_type": "markdown",
   "metadata": {},
   "source": [
    "How do our results compare to what the authors found in the paper? Why might they be different?"
   ]
  },
  {
   "cell_type": "code",
   "execution_count": null,
   "metadata": {},
   "outputs": [],
   "source": [
    "sns.set_style('white')\n",
    "\n",
    "g = sns.lmplot('x', 'y', df_tsne_pca, hue='paper_assignment', fit_reg=False, \n",
    "              scatter_kws={\"s\":25}, size=8)"
   ]
  },
  {
   "cell_type": "markdown",
   "metadata": {},
   "source": [
    "Save the cluster assignments to a file that we will use later for differential gene expression."
   ]
  },
  {
   "cell_type": "code",
   "execution_count": null,
   "metadata": {},
   "outputs": [],
   "source": [
    "df_tsne_pca.to_csv(os.path.join(output_dir, \"tsne_phenograph_k30_results.csv\"))"
   ]
  },
  {
   "cell_type": "code",
   "execution_count": null,
   "metadata": {},
   "outputs": [],
   "source": [
    "df_tsne_pca['community'].to_csv(os.path.join(output_dir, \"cells_phenograph_k30_assignment.csv\"))"
   ]
  }
 ],
 "metadata": {
  "kernelspec": {
   "display_name": "Python 3",
   "language": "python",
   "name": "python3"
  },
  "language_info": {
   "codemirror_mode": {
    "name": "ipython",
    "version": 3
   },
   "file_extension": ".py",
   "mimetype": "text/x-python",
   "name": "python",
   "nbconvert_exporter": "python",
   "pygments_lexer": "ipython3",
   "version": "3.6.3"
  }
 },
 "nbformat": 4,
 "nbformat_minor": 1
}
