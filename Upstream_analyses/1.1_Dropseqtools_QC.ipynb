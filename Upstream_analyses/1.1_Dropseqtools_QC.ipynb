{
 "cells": [
  {
   "cell_type": "markdown",
   "metadata": {},
   "source": [
    "### Summarizing Alignment Statistics\n",
    "\n",
    "The final bam file will have the name (or suffix) ```*star_gene_exon_tagged.bam``` We are going to take a look at that file on the command line to see how all the information about alignment is stored. \n",
    "\n",
    "Samtools is the package that allows us to view and manipulate sam/bam files. Let's use ```samtools view``` to look at the bam file. We are going to pipe the results into less -S which will allow us to scroll through the file, displaying one line at a time (no text wrapping). Make sure to insert the name of your bamfile in the command below.\n",
    "\n",
    "```bash\n",
    "samtools view bamfile | less -S```"
   ]
  },
  {
   "cell_type": "markdown",
   "metadata": {},
   "source": [
    "Let's take a look at one entry in the bam file. This read mapped to the coding sequence of the gene Ppp1r14c. \n",
    "\n",
    "```bash\n",
    "\n",
    "SRR1853178.360590975    0       10      3366531 255     60M     *       0       0       CCGCAAGGATCCAGCGTCTAGGCGCGCGGAGCAGGTGCGGGCCACCGTATGCGGCTGTTG    A<AAAFFFFFFF<FFAAF<.FFFFAFFF7.FFFFFFFFFA.FF.FFFFA)FFFFFFF7<F    XC:Z:AGTGGGATAGTC       MD:Z:60 GE:Z:Ppp1r14c   XF:Z:CODING     PG:Z:STAR       RG:Z:A  NH:i:1  NM:i:0  XM:Z:TCTCTTTT   UQ:i:0  AS:i:59 GS:Z:+```"
   ]
  },
  {
   "cell_type": "markdown",
   "metadata": {},
   "source": [
    "Dropseqtools stores the cell barcode with the XC tag, UMI in the XM tag, and gene name in the GE tag. We are going to use these fields to parse and get information about summary statistics on how our reads mapped to cell barcodes, and duplication rates for UMIs."
   ]
  },
  {
   "cell_type": "markdown",
   "metadata": {},
   "source": [
    "## Running qc scripts\n",
    "\n",
    "**1) Softlink scripts**\n",
    "\n",
    "```bash\n",
    "cd ~/jupyter_notebooks/macosko_analysis/\n",
    "ln -s /oasis/tscc/scratch/cshl_2018/shared_scripts/dropseqtools_qc.py ./\n",
    "```\n",
    "\n",
    "**2) Install a few more packages in py3 environment**\n",
    "\n",
    "```bash\n",
    "source activate py3_cshl\n",
    "conda install pysam tqdm \n",
    "```\n",
    "\n",
    "Once the installs have finished, get out of the environment with: \n",
    "```bash\n",
    "source deactivate\n",
    "source ~/.bashrc\n",
    "```"
   ]
  },
  {
   "cell_type": "markdown",
   "metadata": {},
   "source": [
    "## Using Jupyter to run qc scripts"
   ]
  },
  {
   "cell_type": "markdown",
   "metadata": {},
   "source": [
    "**1) Load Jupyter Notebook**\n",
    "\n",
    "Follow the instructions [here](URL_later). Make a folder in your home with all your analyses notebooks:\n",
    "\n",
    "```bash\n",
    "mkdir ~/jupyter_notebooks/\n",
    "```\n",
    "\n",
    "And make another folder specifically for this dataset that we are working with: \n",
    "\n",
    "```bash\n",
    "mkdir -p ~/jupyter_notebooks/macosko_results/\n",
    "```\n",
    "\n",
    "Once your notebooks are loaded, open a new notebook in the macosko_results folder using the python3 kernel that comes from our py3_cshl environment"
   ]
  },
  {
   "cell_type": "markdown",
   "metadata": {},
   "source": [
    "**2) Import required packages**\n",
    "\n",
    "For this analysis we will only be using the dropseqtools_qc script, so import that and give it a shorthand notation (dq). "
   ]
  },
  {
   "cell_type": "code",
   "execution_count": null,
   "metadata": {},
   "outputs": [],
   "source": [
    "import dropseqtools_qc as dq"
   ]
  },
  {
   "cell_type": "markdown",
   "metadata": {},
   "source": [
    "**3) Define folders and files**\n",
    "We will use variables to store the full path of commonly used folders. In the code below, ```results_dir``` is a variable that contains data in the form of a string and now stores the full path information of where the results are located. A string can be anything between quotation marks. You can combine strings with a ```+``` as shown when appending the name of the bam file to the full path. "
   ]
  },
  {
   "cell_type": "code",
   "execution_count": null,
   "metadata": {},
   "outputs": [],
   "source": [
    "results_dir = \"/home/ucsd-trainXY/cshl_2018/dropseqtools_results_macosko/downsampled_100M/\"\n",
    "save_dir = \"/home/ucsd-trainXY/scratch/projects/macosko_batch1/dropseqtools_qc/\""
   ]
  },
  {
   "cell_type": "code",
   "execution_count": null,
   "metadata": {},
   "outputs": [],
   "source": [
    "bamfile = results_dir+\"12_my_clean.sorted.bam\""
   ]
  },
  {
   "cell_type": "markdown",
   "metadata": {},
   "source": [
    "**4) Count the number of reads mapping to each cell barcode**\n",
    "\n",
    "The dropseqtools_qc script has a function called ```get_cell_barcode_counts```. You can call it with the name of the package followed by a dot and a function name. "
   ]
  },
  {
   "cell_type": "code",
   "execution_count": null,
   "metadata": {},
   "outputs": [],
   "source": [
    "cell_bc_counts = dq.get_cell_barcode_counts(bamfile, save_dir+\"cell_barcode_counts.pickle\")"
   ]
  },
  {
   "cell_type": "markdown",
   "metadata": {},
   "source": [
    "**5) Analyze umi and gene counts per cell barcode**"
   ]
  },
  {
   "cell_type": "code",
   "execution_count": null,
   "metadata": {},
   "outputs": [],
   "source": [
    "cell_barcodes_to_analyze = dq.get_cell_barcodes_to_analyze(cell_bc_counts)"
   ]
  },
  {
   "cell_type": "code",
   "execution_count": null,
   "metadata": {},
   "outputs": [],
   "source": [
    "umi_counts = dq.count_umis_per_barcode(bamfile, cell_barcodes_to_analyze, save_dir+\"barcodes_genes_umi\")"
   ]
  },
  {
   "cell_type": "code",
   "execution_count": null,
   "metadata": {},
   "outputs": [],
   "source": [
    "from matplotlib import pyplot as plt\n",
    "import seaborn as sns\n",
    "%matplotlib inline\n",
    "\n",
    "plt.plot(umi_counts['cumulative'].values)"
   ]
  }
 ],
 "metadata": {
  "kernelspec": {
   "display_name": "(cmm262-py3)",
   "language": "python",
   "name": "python3"
  },
  "language_info": {
   "codemirror_mode": {
    "name": "ipython",
    "version": 3
   },
   "file_extension": ".py",
   "mimetype": "text/x-python",
   "name": "python",
   "nbconvert_exporter": "python",
   "pygments_lexer": "ipython3",
   "version": "3.6.5"
  }
 },
 "nbformat": 4,
 "nbformat_minor": 2
}
