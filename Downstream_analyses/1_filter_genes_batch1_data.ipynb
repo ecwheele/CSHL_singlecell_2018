{
 "cells": [
  {
   "cell_type": "code",
   "execution_count": 2,
   "metadata": {},
   "outputs": [],
   "source": [
    "import pandas as pd\n",
    "import seaborn as sns\n",
    "from matplotlib import pyplot as plt\n",
    "%matplotlib inline"
   ]
  },
  {
   "cell_type": "code",
   "execution_count": 3,
   "metadata": {},
   "outputs": [],
   "source": [
    "data_dir = \"/home/ucsd-train02/projects/single_cell_intestine/raw_data/\""
   ]
  },
  {
   "cell_type": "code",
   "execution_count": 5,
   "metadata": {},
   "outputs": [
    {
     "data": {
      "text/plain": [
       "'/home/ucsd-train02/projects/single_cell_intestine/raw_data/batch1_counts.csv'"
      ]
     },
     "execution_count": 5,
     "metadata": {},
     "output_type": "execute_result"
    }
   ],
   "source": [
    "data_dir+\"batch1_counts.csv\""
   ]
  },
  {
   "cell_type": "code",
   "execution_count": 6,
   "metadata": {},
   "outputs": [
    {
     "name": "stdout",
     "output_type": "stream",
     "text": [
      "(15971, 1385)\n"
     ]
    },
    {
     "data": {
      "text/html": [
       "<div>\n",
       "<style>\n",
       "    .dataframe thead tr:only-child th {\n",
       "        text-align: right;\n",
       "    }\n",
       "\n",
       "    .dataframe thead th {\n",
       "        text-align: left;\n",
       "    }\n",
       "\n",
       "    .dataframe tbody tr th {\n",
       "        vertical-align: top;\n",
       "    }\n",
       "</style>\n",
       "<table border=\"1\" class=\"dataframe\">\n",
       "  <thead>\n",
       "    <tr style=\"text-align: right;\">\n",
       "      <th></th>\n",
       "      <th>B1_AAACATTGTTTGGG_Enterocyte.Immature.Distal</th>\n",
       "      <th>B1_AAACCGTGCCAAGT_Tuft</th>\n",
       "      <th>B1_AAACGCACAGCCTA_Goblet</th>\n",
       "      <th>B1_AAACGCACCAGATC_Endocrine</th>\n",
       "      <th>B1_AAACGCACCGCCTT_Stem</th>\n",
       "      <th>B1_AAACGCACCGTAGT_Stem</th>\n",
       "      <th>B1_AAACGGCTGATAGA_TA.Early</th>\n",
       "      <th>B1_AAACTTGAAGAGTA_Enterocyte.Mature.Proximal</th>\n",
       "      <th>B1_AAACTTGACCACAA_TA.G1</th>\n",
       "      <th>B1_AAAGACGATTGTCT_Enterocyte.Mature.Proximal</th>\n",
       "      <th>...</th>\n",
       "      <th>B1_TTTAGAGAACGGAG_Enterocyte.Immature.Distal</th>\n",
       "      <th>B1_TTTAGAGAGGAAAT_Stem</th>\n",
       "      <th>B1_TTTAGGCTCTCTTA_Paneth</th>\n",
       "      <th>B1_TTTCACGAAGTGTC_TA.Early</th>\n",
       "      <th>B1_TTTCACGACACACA_Enterocyte.Progenitor.Early</th>\n",
       "      <th>B1_TTTCACGAGAGGCA_Stem</th>\n",
       "      <th>B1_TTTCCAGAACGCTA_Goblet</th>\n",
       "      <th>B1_TTTCCAGATGCAAC_Enterocyte.Progenitor</th>\n",
       "      <th>B1_TTTCGAACTACTGG_Stem</th>\n",
       "      <th>B1_TTTCTACTTCACCC_Enterocyte.Progenitor.Late</th>\n",
       "    </tr>\n",
       "  </thead>\n",
       "  <tbody>\n",
       "    <tr>\n",
       "      <th>Mrpl15</th>\n",
       "      <td>2</td>\n",
       "      <td>1</td>\n",
       "      <td>2</td>\n",
       "      <td>2</td>\n",
       "      <td>0</td>\n",
       "      <td>4</td>\n",
       "      <td>0</td>\n",
       "      <td>1</td>\n",
       "      <td>4</td>\n",
       "      <td>0</td>\n",
       "      <td>...</td>\n",
       "      <td>0</td>\n",
       "      <td>3</td>\n",
       "      <td>1</td>\n",
       "      <td>1</td>\n",
       "      <td>0</td>\n",
       "      <td>4</td>\n",
       "      <td>2</td>\n",
       "      <td>3</td>\n",
       "      <td>0</td>\n",
       "      <td>3</td>\n",
       "    </tr>\n",
       "    <tr>\n",
       "      <th>Lypla1</th>\n",
       "      <td>2</td>\n",
       "      <td>0</td>\n",
       "      <td>0</td>\n",
       "      <td>1</td>\n",
       "      <td>0</td>\n",
       "      <td>0</td>\n",
       "      <td>0</td>\n",
       "      <td>0</td>\n",
       "      <td>1</td>\n",
       "      <td>0</td>\n",
       "      <td>...</td>\n",
       "      <td>0</td>\n",
       "      <td>1</td>\n",
       "      <td>0</td>\n",
       "      <td>1</td>\n",
       "      <td>0</td>\n",
       "      <td>0</td>\n",
       "      <td>3</td>\n",
       "      <td>0</td>\n",
       "      <td>0</td>\n",
       "      <td>3</td>\n",
       "    </tr>\n",
       "    <tr>\n",
       "      <th>Gm37988</th>\n",
       "      <td>0</td>\n",
       "      <td>0</td>\n",
       "      <td>0</td>\n",
       "      <td>0</td>\n",
       "      <td>0</td>\n",
       "      <td>0</td>\n",
       "      <td>0</td>\n",
       "      <td>0</td>\n",
       "      <td>0</td>\n",
       "      <td>0</td>\n",
       "      <td>...</td>\n",
       "      <td>0</td>\n",
       "      <td>0</td>\n",
       "      <td>0</td>\n",
       "      <td>0</td>\n",
       "      <td>0</td>\n",
       "      <td>0</td>\n",
       "      <td>0</td>\n",
       "      <td>0</td>\n",
       "      <td>0</td>\n",
       "      <td>0</td>\n",
       "    </tr>\n",
       "    <tr>\n",
       "      <th>Tcea1</th>\n",
       "      <td>0</td>\n",
       "      <td>0</td>\n",
       "      <td>0</td>\n",
       "      <td>0</td>\n",
       "      <td>0</td>\n",
       "      <td>0</td>\n",
       "      <td>0</td>\n",
       "      <td>0</td>\n",
       "      <td>0</td>\n",
       "      <td>0</td>\n",
       "      <td>...</td>\n",
       "      <td>0</td>\n",
       "      <td>1</td>\n",
       "      <td>0</td>\n",
       "      <td>0</td>\n",
       "      <td>0</td>\n",
       "      <td>0</td>\n",
       "      <td>0</td>\n",
       "      <td>2</td>\n",
       "      <td>0</td>\n",
       "      <td>1</td>\n",
       "    </tr>\n",
       "    <tr>\n",
       "      <th>Atp6v1h</th>\n",
       "      <td>0</td>\n",
       "      <td>0</td>\n",
       "      <td>0</td>\n",
       "      <td>0</td>\n",
       "      <td>0</td>\n",
       "      <td>0</td>\n",
       "      <td>0</td>\n",
       "      <td>0</td>\n",
       "      <td>0</td>\n",
       "      <td>0</td>\n",
       "      <td>...</td>\n",
       "      <td>0</td>\n",
       "      <td>0</td>\n",
       "      <td>0</td>\n",
       "      <td>0</td>\n",
       "      <td>0</td>\n",
       "      <td>0</td>\n",
       "      <td>0</td>\n",
       "      <td>0</td>\n",
       "      <td>0</td>\n",
       "      <td>0</td>\n",
       "    </tr>\n",
       "  </tbody>\n",
       "</table>\n",
       "<p>5 rows × 1385 columns</p>\n",
       "</div>"
      ],
      "text/plain": [
       "         B1_AAACATTGTTTGGG_Enterocyte.Immature.Distal  B1_AAACCGTGCCAAGT_Tuft  \\\n",
       "Mrpl15                                              2                       1   \n",
       "Lypla1                                              2                       0   \n",
       "Gm37988                                             0                       0   \n",
       "Tcea1                                               0                       0   \n",
       "Atp6v1h                                             0                       0   \n",
       "\n",
       "         B1_AAACGCACAGCCTA_Goblet  B1_AAACGCACCAGATC_Endocrine  \\\n",
       "Mrpl15                          2                            2   \n",
       "Lypla1                          0                            1   \n",
       "Gm37988                         0                            0   \n",
       "Tcea1                           0                            0   \n",
       "Atp6v1h                         0                            0   \n",
       "\n",
       "         B1_AAACGCACCGCCTT_Stem  B1_AAACGCACCGTAGT_Stem  \\\n",
       "Mrpl15                        0                       4   \n",
       "Lypla1                        0                       0   \n",
       "Gm37988                       0                       0   \n",
       "Tcea1                         0                       0   \n",
       "Atp6v1h                       0                       0   \n",
       "\n",
       "         B1_AAACGGCTGATAGA_TA.Early  \\\n",
       "Mrpl15                            0   \n",
       "Lypla1                            0   \n",
       "Gm37988                           0   \n",
       "Tcea1                             0   \n",
       "Atp6v1h                           0   \n",
       "\n",
       "         B1_AAACTTGAAGAGTA_Enterocyte.Mature.Proximal  \\\n",
       "Mrpl15                                              1   \n",
       "Lypla1                                              0   \n",
       "Gm37988                                             0   \n",
       "Tcea1                                               0   \n",
       "Atp6v1h                                             0   \n",
       "\n",
       "         B1_AAACTTGACCACAA_TA.G1  \\\n",
       "Mrpl15                         4   \n",
       "Lypla1                         1   \n",
       "Gm37988                        0   \n",
       "Tcea1                          0   \n",
       "Atp6v1h                        0   \n",
       "\n",
       "         B1_AAAGACGATTGTCT_Enterocyte.Mature.Proximal  \\\n",
       "Mrpl15                                              0   \n",
       "Lypla1                                              0   \n",
       "Gm37988                                             0   \n",
       "Tcea1                                               0   \n",
       "Atp6v1h                                             0   \n",
       "\n",
       "                             ...                       \\\n",
       "Mrpl15                       ...                        \n",
       "Lypla1                       ...                        \n",
       "Gm37988                      ...                        \n",
       "Tcea1                        ...                        \n",
       "Atp6v1h                      ...                        \n",
       "\n",
       "         B1_TTTAGAGAACGGAG_Enterocyte.Immature.Distal  B1_TTTAGAGAGGAAAT_Stem  \\\n",
       "Mrpl15                                              0                       3   \n",
       "Lypla1                                              0                       1   \n",
       "Gm37988                                             0                       0   \n",
       "Tcea1                                               0                       1   \n",
       "Atp6v1h                                             0                       0   \n",
       "\n",
       "         B1_TTTAGGCTCTCTTA_Paneth  B1_TTTCACGAAGTGTC_TA.Early  \\\n",
       "Mrpl15                          1                           1   \n",
       "Lypla1                          0                           1   \n",
       "Gm37988                         0                           0   \n",
       "Tcea1                           0                           0   \n",
       "Atp6v1h                         0                           0   \n",
       "\n",
       "         B1_TTTCACGACACACA_Enterocyte.Progenitor.Early  \\\n",
       "Mrpl15                                               0   \n",
       "Lypla1                                               0   \n",
       "Gm37988                                              0   \n",
       "Tcea1                                                0   \n",
       "Atp6v1h                                              0   \n",
       "\n",
       "         B1_TTTCACGAGAGGCA_Stem  B1_TTTCCAGAACGCTA_Goblet  \\\n",
       "Mrpl15                        4                         2   \n",
       "Lypla1                        0                         3   \n",
       "Gm37988                       0                         0   \n",
       "Tcea1                         0                         0   \n",
       "Atp6v1h                       0                         0   \n",
       "\n",
       "         B1_TTTCCAGATGCAAC_Enterocyte.Progenitor  B1_TTTCGAACTACTGG_Stem  \\\n",
       "Mrpl15                                         3                       0   \n",
       "Lypla1                                         0                       0   \n",
       "Gm37988                                        0                       0   \n",
       "Tcea1                                          2                       0   \n",
       "Atp6v1h                                        0                       0   \n",
       "\n",
       "         B1_TTTCTACTTCACCC_Enterocyte.Progenitor.Late  \n",
       "Mrpl15                                              3  \n",
       "Lypla1                                              3  \n",
       "Gm37988                                             0  \n",
       "Tcea1                                               1  \n",
       "Atp6v1h                                             0  \n",
       "\n",
       "[5 rows x 1385 columns]"
      ]
     },
     "execution_count": 6,
     "metadata": {},
     "output_type": "execute_result"
    }
   ],
   "source": [
    "raw_counts = pd.read_csv(data_dir+\"batch1_counts.csv\", index_col=0)\n",
    "print(raw_counts.shape)\n",
    "raw_counts.head()"
   ]
  },
  {
   "cell_type": "code",
   "execution_count": 10,
   "metadata": {},
   "outputs": [
    {
     "data": {
      "text/plain": [
       "Mrpl15     866\n",
       "Lypla1     479\n",
       "Gm37988      1\n",
       "Tcea1      213\n",
       "Atp6v1h    217\n",
       "dtype: int64"
      ]
     },
     "execution_count": 10,
     "metadata": {},
     "output_type": "execute_result"
    }
   ],
   "source": [
    "(raw_counts > 0).sum(axis=1).head()"
   ]
  },
  {
   "cell_type": "code",
   "execution_count": 12,
   "metadata": {},
   "outputs": [
    {
     "name": "stderr",
     "output_type": "stream",
     "text": [
      "/home/ecwheele/anaconda2/envs/cshl-sca-2017/lib/python3.6/site-packages/matplotlib/font_manager.py:1297: UserWarning: findfont: Font family ['sans-serif'] not found. Falling back to DejaVu Sans\n",
      "  (prop.get_family(), self.defaultFamily[fontext]))\n"
     ]
    },
    {
     "data": {
      "image/png": "[encoded data removed]",
      "text/plain": [
       "<matplotlib.figure.Figure at 0x2b5edb601198>"
      ]
     },
     "metadata": {},
     "output_type": "display_data"
    }
   ],
   "source": [
    "plt.hist((raw_counts > 0).sum(axis=1), bins=50)\n",
    "plt.show()"
   ]
  },
  {
   "cell_type": "code",
   "execution_count": 16,
   "metadata": {},
   "outputs": [
    {
     "data": {
      "text/plain": [
       "138.5"
      ]
     },
     "execution_count": 16,
     "metadata": {},
     "output_type": "execute_result"
    }
   ],
   "source": [
    "num_cells = len(raw_counts.columns)*0.1\n",
    "num_cells"
   ]
  },
  {
   "cell_type": "code",
   "execution_count": 19,
   "metadata": {},
   "outputs": [
    {
     "data": {
      "text/plain": [
       "Mrpl15     866\n",
       "Lypla1     479\n",
       "Gm37988      1\n",
       "Tcea1      213\n",
       "Atp6v1h    217\n",
       "dtype: int64"
      ]
     },
     "execution_count": 19,
     "metadata": {},
     "output_type": "execute_result"
    }
   ],
   "source": [
    "(raw_counts > 0).sum(axis=1).head()"
   ]
  },
  {
   "cell_type": "code",
   "execution_count": 22,
   "metadata": {},
   "outputs": [
    {
     "data": {
      "text/plain": [
       "Mrpl15      True\n",
       "Lypla1      True\n",
       "Gm37988    False\n",
       "Tcea1       True\n",
       "Atp6v1h     True\n",
       "dtype: bool"
      ]
     },
     "execution_count": 22,
     "metadata": {},
     "output_type": "execute_result"
    }
   ],
   "source": [
    "genes_to_keep = (raw_counts > 0).sum(axis=1) > num_cells\n",
    "genes_to_keep.head()"
   ]
  },
  {
   "cell_type": "code",
   "execution_count": 24,
   "metadata": {},
   "outputs": [
    {
     "name": "stdout",
     "output_type": "stream",
     "text": [
      "(5355, 1385)\n"
     ]
    },
    {
     "data": {
      "text/html": [
       "<div>\n",
       "<style>\n",
       "    .dataframe thead tr:only-child th {\n",
       "        text-align: right;\n",
       "    }\n",
       "\n",
       "    .dataframe thead th {\n",
       "        text-align: left;\n",
       "    }\n",
       "\n",
       "    .dataframe tbody tr th {\n",
       "        vertical-align: top;\n",
       "    }\n",
       "</style>\n",
       "<table border=\"1\" class=\"dataframe\">\n",
       "  <thead>\n",
       "    <tr style=\"text-align: right;\">\n",
       "      <th></th>\n",
       "      <th>B1_AAACATTGTTTGGG_Enterocyte.Immature.Distal</th>\n",
       "      <th>B1_AAACCGTGCCAAGT_Tuft</th>\n",
       "      <th>B1_AAACGCACAGCCTA_Goblet</th>\n",
       "      <th>B1_AAACGCACCAGATC_Endocrine</th>\n",
       "      <th>B1_AAACGCACCGCCTT_Stem</th>\n",
       "      <th>B1_AAACGCACCGTAGT_Stem</th>\n",
       "      <th>B1_AAACGGCTGATAGA_TA.Early</th>\n",
       "      <th>B1_AAACTTGAAGAGTA_Enterocyte.Mature.Proximal</th>\n",
       "      <th>B1_AAACTTGACCACAA_TA.G1</th>\n",
       "      <th>B1_AAAGACGATTGTCT_Enterocyte.Mature.Proximal</th>\n",
       "      <th>...</th>\n",
       "      <th>B1_TTTAGAGAACGGAG_Enterocyte.Immature.Distal</th>\n",
       "      <th>B1_TTTAGAGAGGAAAT_Stem</th>\n",
       "      <th>B1_TTTAGGCTCTCTTA_Paneth</th>\n",
       "      <th>B1_TTTCACGAAGTGTC_TA.Early</th>\n",
       "      <th>B1_TTTCACGACACACA_Enterocyte.Progenitor.Early</th>\n",
       "      <th>B1_TTTCACGAGAGGCA_Stem</th>\n",
       "      <th>B1_TTTCCAGAACGCTA_Goblet</th>\n",
       "      <th>B1_TTTCCAGATGCAAC_Enterocyte.Progenitor</th>\n",
       "      <th>B1_TTTCGAACTACTGG_Stem</th>\n",
       "      <th>B1_TTTCTACTTCACCC_Enterocyte.Progenitor.Late</th>\n",
       "    </tr>\n",
       "  </thead>\n",
       "  <tbody>\n",
       "    <tr>\n",
       "      <th>Mrpl15</th>\n",
       "      <td>2</td>\n",
       "      <td>1</td>\n",
       "      <td>2</td>\n",
       "      <td>2</td>\n",
       "      <td>0</td>\n",
       "      <td>4</td>\n",
       "      <td>0</td>\n",
       "      <td>1</td>\n",
       "      <td>4</td>\n",
       "      <td>0</td>\n",
       "      <td>...</td>\n",
       "      <td>0</td>\n",
       "      <td>3</td>\n",
       "      <td>1</td>\n",
       "      <td>1</td>\n",
       "      <td>0</td>\n",
       "      <td>4</td>\n",
       "      <td>2</td>\n",
       "      <td>3</td>\n",
       "      <td>0</td>\n",
       "      <td>3</td>\n",
       "    </tr>\n",
       "    <tr>\n",
       "      <th>Lypla1</th>\n",
       "      <td>2</td>\n",
       "      <td>0</td>\n",
       "      <td>0</td>\n",
       "      <td>1</td>\n",
       "      <td>0</td>\n",
       "      <td>0</td>\n",
       "      <td>0</td>\n",
       "      <td>0</td>\n",
       "      <td>1</td>\n",
       "      <td>0</td>\n",
       "      <td>...</td>\n",
       "      <td>0</td>\n",
       "      <td>1</td>\n",
       "      <td>0</td>\n",
       "      <td>1</td>\n",
       "      <td>0</td>\n",
       "      <td>0</td>\n",
       "      <td>3</td>\n",
       "      <td>0</td>\n",
       "      <td>0</td>\n",
       "      <td>3</td>\n",
       "    </tr>\n",
       "    <tr>\n",
       "      <th>Tcea1</th>\n",
       "      <td>0</td>\n",
       "      <td>0</td>\n",
       "      <td>0</td>\n",
       "      <td>0</td>\n",
       "      <td>0</td>\n",
       "      <td>0</td>\n",
       "      <td>0</td>\n",
       "      <td>0</td>\n",
       "      <td>0</td>\n",
       "      <td>0</td>\n",
       "      <td>...</td>\n",
       "      <td>0</td>\n",
       "      <td>1</td>\n",
       "      <td>0</td>\n",
       "      <td>0</td>\n",
       "      <td>0</td>\n",
       "      <td>0</td>\n",
       "      <td>0</td>\n",
       "      <td>2</td>\n",
       "      <td>0</td>\n",
       "      <td>1</td>\n",
       "    </tr>\n",
       "    <tr>\n",
       "      <th>Atp6v1h</th>\n",
       "      <td>0</td>\n",
       "      <td>0</td>\n",
       "      <td>0</td>\n",
       "      <td>0</td>\n",
       "      <td>0</td>\n",
       "      <td>0</td>\n",
       "      <td>0</td>\n",
       "      <td>0</td>\n",
       "      <td>0</td>\n",
       "      <td>0</td>\n",
       "      <td>...</td>\n",
       "      <td>0</td>\n",
       "      <td>0</td>\n",
       "      <td>0</td>\n",
       "      <td>0</td>\n",
       "      <td>0</td>\n",
       "      <td>0</td>\n",
       "      <td>0</td>\n",
       "      <td>0</td>\n",
       "      <td>0</td>\n",
       "      <td>0</td>\n",
       "    </tr>\n",
       "    <tr>\n",
       "      <th>Rb1cc1</th>\n",
       "      <td>0</td>\n",
       "      <td>0</td>\n",
       "      <td>0</td>\n",
       "      <td>0</td>\n",
       "      <td>0</td>\n",
       "      <td>0</td>\n",
       "      <td>0</td>\n",
       "      <td>0</td>\n",
       "      <td>0</td>\n",
       "      <td>0</td>\n",
       "      <td>...</td>\n",
       "      <td>0</td>\n",
       "      <td>0</td>\n",
       "      <td>0</td>\n",
       "      <td>0</td>\n",
       "      <td>0</td>\n",
       "      <td>0</td>\n",
       "      <td>0</td>\n",
       "      <td>0</td>\n",
       "      <td>2</td>\n",
       "      <td>0</td>\n",
       "    </tr>\n",
       "  </tbody>\n",
       "</table>\n",
       "<p>5 rows × 1385 columns</p>\n",
       "</div>"
      ],
      "text/plain": [
       "         B1_AAACATTGTTTGGG_Enterocyte.Immature.Distal  B1_AAACCGTGCCAAGT_Tuft  \\\n",
       "Mrpl15                                              2                       1   \n",
       "Lypla1                                              2                       0   \n",
       "Tcea1                                               0                       0   \n",
       "Atp6v1h                                             0                       0   \n",
       "Rb1cc1                                              0                       0   \n",
       "\n",
       "         B1_AAACGCACAGCCTA_Goblet  B1_AAACGCACCAGATC_Endocrine  \\\n",
       "Mrpl15                          2                            2   \n",
       "Lypla1                          0                            1   \n",
       "Tcea1                           0                            0   \n",
       "Atp6v1h                         0                            0   \n",
       "Rb1cc1                          0                            0   \n",
       "\n",
       "         B1_AAACGCACCGCCTT_Stem  B1_AAACGCACCGTAGT_Stem  \\\n",
       "Mrpl15                        0                       4   \n",
       "Lypla1                        0                       0   \n",
       "Tcea1                         0                       0   \n",
       "Atp6v1h                       0                       0   \n",
       "Rb1cc1                        0                       0   \n",
       "\n",
       "         B1_AAACGGCTGATAGA_TA.Early  \\\n",
       "Mrpl15                            0   \n",
       "Lypla1                            0   \n",
       "Tcea1                             0   \n",
       "Atp6v1h                           0   \n",
       "Rb1cc1                            0   \n",
       "\n",
       "         B1_AAACTTGAAGAGTA_Enterocyte.Mature.Proximal  \\\n",
       "Mrpl15                                              1   \n",
       "Lypla1                                              0   \n",
       "Tcea1                                               0   \n",
       "Atp6v1h                                             0   \n",
       "Rb1cc1                                              0   \n",
       "\n",
       "         B1_AAACTTGACCACAA_TA.G1  \\\n",
       "Mrpl15                         4   \n",
       "Lypla1                         1   \n",
       "Tcea1                          0   \n",
       "Atp6v1h                        0   \n",
       "Rb1cc1                         0   \n",
       "\n",
       "         B1_AAAGACGATTGTCT_Enterocyte.Mature.Proximal  \\\n",
       "Mrpl15                                              0   \n",
       "Lypla1                                              0   \n",
       "Tcea1                                               0   \n",
       "Atp6v1h                                             0   \n",
       "Rb1cc1                                              0   \n",
       "\n",
       "                             ...                       \\\n",
       "Mrpl15                       ...                        \n",
       "Lypla1                       ...                        \n",
       "Tcea1                        ...                        \n",
       "Atp6v1h                      ...                        \n",
       "Rb1cc1                       ...                        \n",
       "\n",
       "         B1_TTTAGAGAACGGAG_Enterocyte.Immature.Distal  B1_TTTAGAGAGGAAAT_Stem  \\\n",
       "Mrpl15                                              0                       3   \n",
       "Lypla1                                              0                       1   \n",
       "Tcea1                                               0                       1   \n",
       "Atp6v1h                                             0                       0   \n",
       "Rb1cc1                                              0                       0   \n",
       "\n",
       "         B1_TTTAGGCTCTCTTA_Paneth  B1_TTTCACGAAGTGTC_TA.Early  \\\n",
       "Mrpl15                          1                           1   \n",
       "Lypla1                          0                           1   \n",
       "Tcea1                           0                           0   \n",
       "Atp6v1h                         0                           0   \n",
       "Rb1cc1                          0                           0   \n",
       "\n",
       "         B1_TTTCACGACACACA_Enterocyte.Progenitor.Early  \\\n",
       "Mrpl15                                               0   \n",
       "Lypla1                                               0   \n",
       "Tcea1                                                0   \n",
       "Atp6v1h                                              0   \n",
       "Rb1cc1                                               0   \n",
       "\n",
       "         B1_TTTCACGAGAGGCA_Stem  B1_TTTCCAGAACGCTA_Goblet  \\\n",
       "Mrpl15                        4                         2   \n",
       "Lypla1                        0                         3   \n",
       "Tcea1                         0                         0   \n",
       "Atp6v1h                       0                         0   \n",
       "Rb1cc1                        0                         0   \n",
       "\n",
       "         B1_TTTCCAGATGCAAC_Enterocyte.Progenitor  B1_TTTCGAACTACTGG_Stem  \\\n",
       "Mrpl15                                         3                       0   \n",
       "Lypla1                                         0                       0   \n",
       "Tcea1                                          2                       0   \n",
       "Atp6v1h                                        0                       0   \n",
       "Rb1cc1                                         0                       2   \n",
       "\n",
       "         B1_TTTCTACTTCACCC_Enterocyte.Progenitor.Late  \n",
       "Mrpl15                                              3  \n",
       "Lypla1                                              3  \n",
       "Tcea1                                               1  \n",
       "Atp6v1h                                             0  \n",
       "Rb1cc1                                              0  \n",
       "\n",
       "[5 rows x 1385 columns]"
      ]
     },
     "execution_count": 24,
     "metadata": {},
     "output_type": "execute_result"
    }
   ],
   "source": [
    "counts_filtered = raw_counts.loc[genes_to_keep]\n",
    "print(counts_filtered.shape)\n",
    "counts_filtered.head()"
   ]
  },
  {
   "cell_type": "code",
   "execution_count": 25,
   "metadata": {},
   "outputs": [
    {
     "data": {
      "text/plain": [
       "B1_AAACATTGTTTGGG_Enterocyte.Immature.Distal    5879\n",
       "B1_AAACCGTGCCAAGT_Tuft                          2726\n",
       "B1_AAACGCACAGCCTA_Goblet                        7517\n",
       "B1_AAACGCACCAGATC_Endocrine                     8071\n",
       "B1_AAACGCACCGCCTT_Stem                          6518\n",
       "dtype: int64"
      ]
     },
     "execution_count": 25,
     "metadata": {},
     "output_type": "execute_result"
    }
   ],
   "source": [
    "counts_filtered.sum(axis=0).head()"
   ]
  },
  {
   "cell_type": "code",
   "execution_count": 29,
   "metadata": {},
   "outputs": [
    {
     "name": "stderr",
     "output_type": "stream",
     "text": [
      "/home/ecwheele/anaconda2/envs/cshl-sca-2017/lib/python3.6/site-packages/matplotlib/font_manager.py:1297: UserWarning: findfont: Font family ['sans-serif'] not found. Falling back to DejaVu Sans\n",
      "  (prop.get_family(), self.defaultFamily[fontext]))\n"
     ]
    },
    {
     "data": {
      "image/png": "[encoded data removed]",
      "text/plain": [
       "<matplotlib.figure.Figure at 0x2b5f0baf8780>"
      ]
     },
     "metadata": {},
     "output_type": "display_data"
    }
   ],
   "source": [
    "sns.set_style(\"whitegrid\")\n",
    "\n",
    "plt.hist(counts_filtered.sum(axis=0), bins=50)\n",
    "\n",
    "plt.xlabel(\"number of UMIs per cell\")\n",
    "plt.title('histogram of UMI counts per cell')\n",
    "plt.show()"
   ]
  },
  {
   "cell_type": "code",
   "execution_count": 30,
   "metadata": {},
   "outputs": [
    {
     "data": {
      "text/plain": [
       "<matplotlib.text.Text at 0x2b5f0bb191d0>"
      ]
     },
     "execution_count": 30,
     "metadata": {},
     "output_type": "execute_result"
    },
    {
     "name": "stderr",
     "output_type": "stream",
     "text": [
      "/home/ecwheele/anaconda2/envs/cshl-sca-2017/lib/python3.6/site-packages/matplotlib/font_manager.py:1297: UserWarning: findfont: Font family ['sans-serif'] not found. Falling back to DejaVu Sans\n",
      "  (prop.get_family(), self.defaultFamily[fontext]))\n"
     ]
    },
    {
     "data": {
      "image/png": "[encoded data removed]",
      "text/plain": [
       "<matplotlib.figure.Figure at 0x2b5eed15c5c0>"
      ]
     },
     "metadata": {},
     "output_type": "display_data"
    }
   ],
   "source": [
    "g = sns.boxplot(counts_filtered.sum(axis=0), orient='v')\n",
    "g.set_ylabel(\"UMI counts per cell\")"
   ]
  },
  {
   "cell_type": "code",
   "execution_count": 33,
   "metadata": {},
   "outputs": [
    {
     "data": {
      "text/plain": [
       "<matplotlib.text.Text at 0x2b5f0bbaa358>"
      ]
     },
     "execution_count": 33,
     "metadata": {},
     "output_type": "execute_result"
    },
    {
     "name": "stderr",
     "output_type": "stream",
     "text": [
      "/home/ecwheele/anaconda2/envs/cshl-sca-2017/lib/python3.6/site-packages/matplotlib/font_manager.py:1297: UserWarning: findfont: Font family ['sans-serif'] not found. Falling back to DejaVu Sans\n",
      "  (prop.get_family(), self.defaultFamily[fontext]))\n"
     ]
    },
    {
     "data": {
      "image/png": "[encoded data removed]",
      "text/plain": [
       "<matplotlib.figure.Figure at 0x2b5f0bbbf198>"
      ]
     },
     "metadata": {},
     "output_type": "display_data"
    }
   ],
   "source": [
    "g = sns.violinplot(counts_filtered.sum(axis=0), orient='v')\n",
    "g.set_ylabel(\"UMI counts per cell\")\n",
    "g.set_title(\"violinplot of UMI counts per cell\")"
   ]
  },
  {
   "cell_type": "code",
   "execution_count": 40,
   "metadata": {},
   "outputs": [],
   "source": [
    "total_umi_counts_per_gene = counts_filtered.sum(axis=1)"
   ]
  },
  {
   "cell_type": "code",
   "execution_count": 41,
   "metadata": {},
   "outputs": [
    {
     "data": {
      "text/plain": [
       "<matplotlib.text.Text at 0x2b5edb69da90>"
      ]
     },
     "execution_count": 41,
     "metadata": {},
     "output_type": "execute_result"
    },
    {
     "name": "stderr",
     "output_type": "stream",
     "text": [
      "/home/ecwheele/anaconda2/envs/cshl-sca-2017/lib/python3.6/site-packages/matplotlib/font_manager.py:1297: UserWarning: findfont: Font family ['sans-serif'] not found. Falling back to DejaVu Sans\n",
      "  (prop.get_family(), self.defaultFamily[fontext]))\n"
     ]
    },
    {
     "data": {
      "image/png": "[encoded data removed]",
      "text/plain": [
       "<matplotlib.figure.Figure at 0x2b5f0bb112e8>"
      ]
     },
     "metadata": {},
     "output_type": "display_data"
    }
   ],
   "source": [
    "g = sns.violinplot(total_umi_counts_per_gene, orient='v')\n",
    "g.set_ylabel(\"UMI counts per gene\")\n",
    "g.set_title(\"violinplot of UMI counts per gene\")"
   ]
  },
  {
   "cell_type": "code",
   "execution_count": 36,
   "metadata": {},
   "outputs": [
    {
     "data": {
      "text/plain": [
       "<matplotlib.text.Text at 0x2b5eed05feb8>"
      ]
     },
     "execution_count": 36,
     "metadata": {},
     "output_type": "execute_result"
    },
    {
     "name": "stderr",
     "output_type": "stream",
     "text": [
      "/home/ecwheele/anaconda2/envs/cshl-sca-2017/lib/python3.6/site-packages/matplotlib/font_manager.py:1297: UserWarning: findfont: Font family ['sans-serif'] not found. Falling back to DejaVu Sans\n",
      "  (prop.get_family(), self.defaultFamily[fontext]))\n"
     ]
    },
    {
     "data": {
      "image/png": "[encoded data removed]",
      "text/plain": [
       "<matplotlib.figure.Figure at 0x2b5edbab0cf8>"
      ]
     },
     "metadata": {},
     "output_type": "display_data"
    }
   ],
   "source": [
    "g = sns.boxplot(counts_filtered.sum(axis=1), orient='v')\n",
    "g.set_ylabel(\"UMI counts per gene\")\n",
    "g.set_title(\"violinplot of UMI counts per gene\")"
   ]
  },
  {
   "cell_type": "code",
   "execution_count": 49,
   "metadata": {},
   "outputs": [
    {
     "name": "stderr",
     "output_type": "stream",
     "text": [
      "/home/ecwheele/anaconda2/envs/cshl-sca-2017/lib/python3.6/site-packages/matplotlib/font_manager.py:1297: UserWarning: findfont: Font family ['sans-serif'] not found. Falling back to DejaVu Sans\n",
      "  (prop.get_family(), self.defaultFamily[fontext]))\n"
     ]
    },
    {
     "data": {
      "image/png": "[encoded data removed]",
      "text/plain": [
       "<matplotlib.figure.Figure at 0x2b5f0cdc3438>"
      ]
     },
     "metadata": {},
     "output_type": "display_data"
    }
   ],
   "source": [
    "plt.hist(total_umi_counts_per_gene, bins=500)\n",
    "#plt.xlim([0,1000])\n",
    "plt.show()"
   ]
  },
  {
   "cell_type": "code",
   "execution_count": null,
   "metadata": {},
   "outputs": [],
   "source": [
    "save_dir = \"/home/ucsd-train02/projects/single_cell_intestine/results/\"\n",
    "counts_filtered.to_csv(save_dir+\"counts_filtered.csv\")"
   ]
  }
 ],
 "metadata": {
  "kernelspec": {
   "display_name": "Python 3 (cmm262)",
   "language": "python",
   "name": "python3"
  },
  "language_info": {
   "codemirror_mode": {
    "name": "ipython",
    "version": 3
   },
   "file_extension": ".py",
   "mimetype": "text/x-python",
   "name": "python",
   "nbconvert_exporter": "python",
   "pygments_lexer": "ipython3",
   "version": "3.6.1"
  }
 },
 "nbformat": 4,
 "nbformat_minor": 1
}
