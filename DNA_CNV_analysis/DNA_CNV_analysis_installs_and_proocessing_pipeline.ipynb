{
 "cells": [
  {
   "cell_type": "markdown",
   "metadata": {},
   "source": [
    "## Downloads and Installs for CNV processing pipeline ##"
   ]
  },
  {
   "cell_type": "markdown",
   "metadata": {},
   "source": [
    "### Through anaconda: ###"
   ]
  },
  {
   "cell_type": "markdown",
   "metadata": {},
   "source": [
    "```bash\n",
    "conda create -y -n cnv\n",
    "source activate cnv\n",
    "conda install -c bioconda python=2.7 cutadapt=1.16 bedtools=2.27.1 java-jdk\n",
    "source deactivate \n",
    "source ~/.bashrc\n",
    "```"
   ]
  },
  {
   "cell_type": "markdown",
   "metadata": {},
   "source": [
    "### Manual download and installation: ###\n",
    "\n",
    "We will download the following into our software directory. We do not need to add to our path variable since the script that we will write will ask for the full path to these packages:"
   ]
  },
  {
   "cell_type": "markdown",
   "metadata": {},
   "source": [
    "** Installing Samtools **\n",
    "\n",
    "```bash\n",
    "cd ~/software\n",
    "wget https://github.com/samtools/samtools/releases/download/1.8/samtools-1.8.tar.bz2\n",
    "tar -vxf samtools-1.8.tar.bz2\n",
    "cd samtools-1.8\n",
    "./configure --disable-lzma\n",
    "make\n",
    "```\n",
    "\n",
    "** Installing BWA **\n",
    "\n",
    "```bash\n",
    "wget https://downloads.sourceforge.net/project/bio-bwa/bwa-0.7.17.tar.bz2 --no-check-certificate\n",
    "tar -xvf bwa-0.7.17.tar.bz2\n",
    "cd bwa-0.7.17\n",
    "make\n",
    "```\n",
    "\n",
    "** Download Picard tools ***\n",
    "\n",
    "```bash\n",
    "wget https://github.com/broadinstitute/picard/releases/download/2.18.9/picard.jar\n",
    "```"
   ]
  },
  {
   "cell_type": "markdown",
   "metadata": {},
   "source": [
    "## Running processing pipeline for CNV calling ##"
   ]
  },
  {
   "cell_type": "markdown",
   "metadata": {},
   "source": [
    "** Choosing fastq files **"
   ]
  },
  {
   "cell_type": "markdown",
   "metadata": {},
   "source": [
    "Make a new directory on your projects folder in your scratch directory and softlink the fastq files that you will be processing from the following file in the shared directory: \n",
    "\n",
    "    /oasis/tscc/scratch/cshl_2018/raw_data_dna_experiments/\n",
    "\n",
    "Make sure to link to the files with both R1 and R2."
   ]
  },
  {
   "cell_type": "markdown",
   "metadata": {},
   "source": [
    "** Making a shell script for running pipeline **"
   ]
  },
  {
   "cell_type": "markdown",
   "metadata": {},
   "source": [
    "Write a .sh script to run the CNV pipeline. Use the following as a sample script:"
   ]
  },
  {
   "cell_type": "markdown",
   "metadata": {},
   "source": [
    "```bash\n",
    "#!/bin/bash\n",
    "\n",
    "T=~/anaconda2/envs/cnv/bin\n",
    "\n",
    "python -u /oasis/tscc/scratch/cshl_2018/shared_scripts/CNV_pipeline_CSHL_v2.py \\\n",
    "-d path/to/fastq_files \\\n",
    "-p \\\n",
    "-r /oasis/tscc/scratch/cshl_2018/reference_files/hg19_fasta/hg19.fasta \\\n",
    "-bwa path/to/bwa-0.7.17 \\\n",
    "-bed ${T} \\\n",
    "-sam path/to/samtools-1.8 \\\n",
    "-pic path/to/picard.jar \\\n",
    "-cut ${T} \\\n",
    "-S 17 \\ \n",
    "-E 0\n",
    "```"
   ]
  },
  {
   "cell_type": "markdown",
   "metadata": {},
   "source": [
    "To run the pipeline, grab an interactive node (nodes=1:ppn=2 should be fine), activate your cnv environment, and run the .sh script"
   ]
  },
  {
   "cell_type": "code",
   "execution_count": null,
   "metadata": {
    "collapsed": true
   },
   "outputs": [],
   "source": []
  }
 ],
 "metadata": {
  "kernelspec": {
   "display_name": "Python [Root]",
   "language": "python",
   "name": "Python [Root]"
  },
  "language_info": {
   "codemirror_mode": {
    "name": "ipython",
    "version": 2
   },
   "file_extension": ".py",
   "mimetype": "text/x-python",
   "name": "python",
   "nbconvert_exporter": "python",
   "pygments_lexer": "ipython2",
   "version": "2.7.12"
  }
 },
 "nbformat": 4,
 "nbformat_minor": 2
}
