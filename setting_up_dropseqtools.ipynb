{
 "cells": [
  {
   "cell_type": "markdown",
   "metadata": {},
   "source": [
    "# Instructions for downloading and installing dropseqtools 0.13\n",
    "- This notebook contains a set of instructions for installing dropseqtools 0.13. These are tools from James Namesh (McCarroll lab) that are going to be used to process raw data into gene expression values. \n",
    "\n",
    "- ucsd-train users: replace the **ucsd-trainXY** with your login (ie. ucsd-train01)"
   ]
  },
  {
   "cell_type": "markdown",
   "metadata": {},
   "source": [
    "### Step 1 - Install prerequisites\n",
    "\n",
    "The McCarroll lab provides some very useful tools for processing data. Some of these tools require/rely on other software listed below:\n",
    "\n",
    "- Java \n",
    "- STAR\n",
    "- Picard tools \n",
    "\n",
    "The easiest way to install these packages is through conda:\n",
    "\n",
    "```bash\n",
    "NAME=dropseqtools\n",
    "ANACONDAENV=/home/bay001/anaconda2/envs\n",
    "\n",
    "conda create -y -n ${NAME};\n",
    "source activate ${NAME};\n",
    "\n",
    "conda install -y -c bioconda picard=2.18.7 STAR=2.6 java-jdk=8.0\n",
    "```\n",
    "\n",
    "You can check to make sure these programs are installed using ```which```:\n",
    "    \n",
    "```bash\n",
    "which java;\n",
    "which STAR;\n",
    "which picard;\n",
    "```"
   ]
  },
  {
   "cell_type": "markdown",
   "metadata": {},
   "source": [
    "### Step 2 - Download the Dropseqtools zip file\n",
    "\n",
    "Go to: http://mccarrolllab.com/dropseq/ and scroll down to **Software**:\n",
    "\n",
    "![title](dropseqtools_download.png)\n",
    "\n",
    "**Download this file onto your local computer**. We will use secure copy (scp) to transfer this file from our local computer to TSCC:\n",
    "\n",
    "```bash\n",
    "scp Drop-seq_tools-1.13-3.zip ucsd-trainXY@tscc-login.sdsc.edu:~/bin/\n",
    "```"
   ]
  },
  {
   "cell_type": "markdown",
   "metadata": {},
   "source": [
    "### Step 3 - on TSCC, unzip and add executable files to your $PATH\n",
    "\n",
    "Login to TSCC:\n",
    "\n",
    "```bash\n",
    "ssh ucsd-trainXY-tscc-login.sdsc.edu\n",
    "```\n",
    "\n",
    "Unzip the file that you transferred into ```~/bin``` \n",
    "\n",
    "(This should create a \"Drop-seq_tools-1.13-3\" folder inside ~/bin):\n",
    "\n",
    "```bash\n",
    "cd ~/bin/;\n",
    "unzip Drop-seq_tools-1.13-3.zip;\n",
    "```\n",
    "\n",
    "Now, add this directory to your $PATH so that TSCC knows where to find these executables. Add this directory to the path in a way such that whenever you are inside your (dropseqtools) environment, it will append this directory:\n",
    "\n",
    "```bash\n",
    "\n",
    "conda develop ~/bin/Drop-seq_tools-1.13\n",
    "\n",
    "```"
   ]
  },
  {
   "cell_type": "markdown",
   "metadata": {},
   "source": [
    "### Step 4 - "
   ]
  }
 ],
 "metadata": {
  "kernelspec": {
   "display_name": "brian",
   "language": "python",
   "name": "brian"
  },
  "language_info": {
   "codemirror_mode": {
    "name": "ipython",
    "version": 2
   },
   "file_extension": ".py",
   "mimetype": "text/x-python",
   "name": "python",
   "nbconvert_exporter": "python",
   "pygments_lexer": "ipython2",
   "version": "2.7.11"
  }
 },
 "nbformat": 4,
 "nbformat_minor": 2
}
