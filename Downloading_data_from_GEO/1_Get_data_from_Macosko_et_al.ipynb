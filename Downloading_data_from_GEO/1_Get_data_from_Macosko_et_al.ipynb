{
 "cells": [
  {
   "cell_type": "markdown",
   "metadata": {},
   "source": [
    "# Getting data from paper"
   ]
  },
  {
   "cell_type": "markdown",
   "metadata": {},
   "source": [
    "### 1) Find GEO accession Number\n",
    "\n",
    "When data is uploaded to GEO it will be reported in the paper with a GEO accession number. Ctrl + F for GEO will usually get you to the ID needed to download data. For the Macosko et al. paper, the accession number is [GSE63472](https://www.ncbi.nlm.nih.gov/geo/query/acc.cgi?acc=GSE63472)."
   ]
  },
  {
   "cell_type": "markdown",
   "metadata": {},
   "source": [
    "### 2) Search available data in GEO. \n",
    "\n",
    "Go to the GEO datasets [website](https://www.ncbi.nlm.nih.gov/gds) and put the accession number in the search bar. The next step is similar to that from the cellranger download notebook. Scroll through to the bottom will show you the files that are available. You will notice the raw data is available through SRA (see the link halfway down the page). Look for the (SRX907219) link and click through.\n",
    "\n",
    "**Raw Data**\n",
    "\n",
    "We will process the data from **P14 mouse retina 1** through the Dropseq pipeline to learn how to generate counts matricies. Since the fastq files are large, we don't want everyone downloading them individually. Instead, this has been done for you and they are located in our shared class directory: \n",
    "\n",
    "    /oasis/tscc/scratch/cshl_2018/raw_data_macosko/\n",
    "\n",
    "**If you are using your own cluster, you will need to download these files yourself.**\n",
    "\n",
    "Instructions on how this was downloaded are here:\n",
    "\n",
    "1) From the GEO page, follow the SRA link and find the sequencing results from P14 mouse retina 1 located [here](https://www.ncbi.nlm.nih.gov/sra?term=SRX907219).\n",
    "\n",
    "2) Click on the SRA link [SRR1853178](https://trace.ncbi.nlm.nih.gov/Traces/sra/?run=SRR1853178) for that experiment and nagivate to the downloads tab.\n",
    "\n",
    "3) If you move to the download page, you may see some links available to download \n",
    "(for example, the BAM file from cellranger). However, you may also see a message \n",
    "(\"*SRA Toolkit tools directly operate on SRA runs. Toolkit has capacity to find requested \n",
    "runs at NCBI and download (and cache) only the part you really need...*\"), which means you will need to download their **fastq-dump** toolkit, also located on this page. Here is the command to use to download part 1 of the Macosko dataset:\n",
    "\n",
    "```bash\n",
    "fastq-dump --split-files --gzip SRR1853178```\n",
    "\n",
    "- The **split-files** flag will split paired-end reads, since these reads are paired end.\n",
    "- The **gzip** flag will automatically compress the fastq files."
   ]
  },
  {
   "cell_type": "markdown",
   "metadata": {},
   "source": [
    "### 3) Downsampling large datasets.\n",
    "\n",
    "[seqtk](https://github.com/lh3/seqtk) is a great toolkit for processing sequences in FASTA/Q formats, including what we need to do here, **downsampling**\n",
    "\n",
    "\n",
    "create environment\n",
    "\n",
    "```bash\n",
    "    conda create -y -n seqtk\n",
    "    \n",
    "    source activate seqtk\n",
    "```\n",
    "\n",
    "\n",
    "install\n",
    "\n",
    "```bash\n",
    "    cd ~/software\n",
    "\n",
    "    git clone https://github.com/lh3/seqtk.git;\n",
    "\n",
    "    cd seqtk; make\n",
    "```\n",
    "\n",
    "add to PATH\n",
    "\n",
    "```bash    \n",
    "    vi ~/.bashrc\n",
    "\n",
    "    i\n",
    "\n",
    "    export PATH=\"/home/iachaim/software/seqtk:$PATH\"\n",
    "\n",
    "    esc\n",
    "\n",
    "    :wq\n",
    "```   \n",
    " \n",
    " \n",
    "And update those changes with source:\n",
    "\n",
    "```bash\n",
    "    source ~/.bashrc\n",
    "```\n",
    "\n",
    "**run seqtk**\n",
    "\n",
    "In this case we subsampled 100,000,000 read pairs from two large paired FASTQ files (SRR1853178_1/2.fastq.gz). It is **very** important to remember to use the same random seed to keep pairing (here ```-s100```) :\n",
    "\n",
    "```bash\n",
    "\n",
    "  seqtk sample -s100 SRR1853178_1.fastq.gz 100000000 > SRR1853178_1_100M.fastq.gz\n",
    "  \n",
    "  seqtk sample -s100 SRR1853178_2.fastq.gz 100000000 > SRR1853178_2_100M.fastq.gz\n",
    "  \n",
    "```"
   ]
  }
 ],
 "metadata": {
  "kernelspec": {
   "display_name": "Python 2",
   "language": "python",
   "name": "python2"
  },
  "language_info": {
   "codemirror_mode": {
    "name": "ipython",
    "version": 2
   },
   "file_extension": ".py",
   "mimetype": "text/x-python",
   "name": "python",
   "nbconvert_exporter": "python",
   "pygments_lexer": "ipython2",
   "version": "2.7.12"
  }
 },
 "nbformat": 4,
 "nbformat_minor": 2
}
