{
 "cells": [
  {
   "cell_type": "markdown",
   "metadata": {},
   "source": [
    "# Instructions for downloading and installing cellranger 2.1.1"
   ]
  },
  {
   "cell_type": "markdown",
   "metadata": {},
   "source": [
    "## 1) Make a directory for software \n",
    "\n",
    "I like to keep all the software that isn't installed with anconda in one directory in my home folder called software:\n",
    "```bash\n",
    "mkdir ~/software```\n",
    "\n",
    "And move into that directory before downloading:\n",
    "```bash\n",
    "cd ~/software```\n",
    "\n",
    "## 2) Download and unpack the Cell Ranger file\n",
    "\n",
    "For each download available through CellRanger you will find links using either curl or wget to download [here](https://support.10xgenomics.com/single-cell-gene-expression/software/downloads/latest). Navigate to the wget tab and copy and paste the entire contents into your software directory to download CellRanger 2.1.1\n",
    "\n",
    "```bash\n",
    "wget -O cellranger-2.1.1.tar.gz \"http://cf.10xgenomics.com/releases/cell-exp/cellranger-2.1.1.tar.gz?Expires=1528539253&Policy=eyJTdGF0ZW1lbnQiOlt7IlJlc291cmNlIjoiaHR0cDovL2NmLjEweGdlbm9taWNzLmNvbS9yZWxlYXNlcy9jZWxsLWV4cC9jZWxscmFuZ2VyLTIuMS4xLnRhci5neiIsIkNvbmRpdGlvbiI6eyJEYXRlTGVzc1RoYW4iOnsiQVdTOkVwb2NoVGltZSI6MTUyODUzOTI1M319fV19&Signature=eAASbmf9G1eYg2JmlcMxkVfQfYWDm5pm4dYQV0RU0Rv-2-QL4VsTA5MGhMtdHXYmhQqI8CAZUBu4tsNo-Db-SThAjHtFfW1emvUGqgdoV65hU24~FfqSUTGb4pg-8gXTz8-7y2lWkZKQknPvlxI9ike6m52CxaInSSht01CwHAkSMcQOQgMZvOJVZrEZnmVAgjuvN-feKowkolGqFo~mTUIYfIFAX3o7w7f15VEIoHFhgzbRU7ftgBF-DU2Pa6OC-~ZKZp2xjOWlmbK7BVd0Sl5WVmtbZBWptTZdiVZ-AwgYH6Wcf1GkaeTruSb2-it02mkTbuNTl4m76eOamwbNNg__&Key-Pair-Id=APKAI7S6A5RYOXBWRPDA\"```\n",
    "\n",
    "The download will leave a zipped file called ```cellranger-2.1.1.tar.gz```. Unzip it with tar. The \"```-xzvf```\" options stand for: e(x)tract, g(z)ip, (v)erbose, (f)ile. In other words, we are extracting, unzipping, and printing the status of a tarred file. \n",
    "\n",
    "```bash\n",
    "tar -xzvf cellranger-2.1.1.tar.gz```\n",
    "\n",
    "This unpacks Cell Ranger, its dependencies, and the cellranger script into a new directory called cellranger-2.1.1. The executables to run cellranger are in that directory, so let's append it to the $PATH variable in your ~/.bashrc. Using your favorite file editor, append the line of code into that file below the anaconda path line:\n",
    "\n",
    "```bash\n",
    "export PATH=\"~/software/cellranger-2.1.1:$PATH\"```\n",
    "\n",
    "And update your changes with source:\n",
    "\n",
    "```bash\n",
    "source ~/.bashrc```\n",
    "\n",
    "Now that you have appended the folder to your path, you can cell the cellranger command from any directory no matter where you are currently sitting. \n",
    "\n",
    "## 3) Download and unpack reference data\n",
    "\n",
    "You will notice the downloads page has lots of reference data for different species/genome builds. Download the data for mouse (mm10) using ```wget``` and unzip with ```tar``` in the same way we did for step 2. Put these files in the same cellranger folder in your software directory. \n",
    "\n",
    "\n",
    "## 4 (Optional) - site check script and verify installation\n",
    "\n",
    "If you followed these instructions, you should now be able to run the cellranger software. To help them out, 10X genomics collects data about users' computing environment (such as what operation system, what Java version being used, etc.)\n",
    "\n",
    "```bash\n",
    "cellranger sitecheck > sitecheck.txt\n",
    "cellranger upload your@email.edu sitecheck.txt\n",
    "```\n",
    "\n",
    "Cellranger also comes pre-packaged with a demo dataset that can be used to verify installation. \n",
    "\n",
    "```bash\n",
    "cellranger testrun --id=tiny\n",
    "```"
   ]
  }
 ],
 "metadata": {
  "kernelspec": {
   "display_name": "python2-base",
   "language": "python",
   "name": "python2"
  },
  "language_info": {
   "codemirror_mode": {
    "name": "ipython",
    "version": 2
   },
   "file_extension": ".py",
   "mimetype": "text/x-python",
   "name": "python",
   "nbconvert_exporter": "python",
   "pygments_lexer": "ipython2",
   "version": "2.7.12"
  }
 },
 "nbformat": 4,
 "nbformat_minor": 2
}
