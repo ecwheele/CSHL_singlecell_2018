{
 "cells": [
  {
   "cell_type": "markdown",
   "metadata": {},
   "source": [
    "## 1) Make R environment for Seurat"
   ]
  },
  {
   "cell_type": "markdown",
   "metadata": {},
   "source": [
    "### 1a) Creating virtual environments for packages required for this course\n",
    "We will be using several packages each with its own set of dependencies, so let's create an environment for Seurat:\n",
    "\n",
    "Copy/paste this code to create an environment called \"R-seurat\". This not only creates and activates our environment, but also uses 3 [channels](https://conda.io/docs/glossary.html#channels) (anaconda, r, conda-forge) to install some packages into our environment:\n",
    "\n",
    "```bash\n",
    "conda create -y -n R-Seurat \n",
    "source activate R-Seurat\n",
    "conda install -y -c anaconda jupyter=1.0.0\n",
    "conda install -y -c r r-base=3.4.1\n",
    "conda install -y -c conda-forge libjpeg-turbo=1.5 zeromq=4.2.5 readline=6.2\n",
    "```"
   ]
  },
  {
   "cell_type": "markdown",
   "metadata": {},
   "source": [
    "### 1b) Installing Seurat inside R\n",
    "\n",
    "The next step is to install the proper package dependencies required by Seurat. First, however, let's make sure we're using the correct R (that was installed from the r conda channel above):\n",
    "```bash\n",
    "which R\n",
    "```\n",
    "\n",
    "You should see:\n",
    "```bash\n",
    "~/anaconda2/envs/R-seurat/bin/R\n",
    "```\n",
    "\n",
    "Run R inside your terminal by typing: \n",
    "```bash\n",
    "R\n",
    "```\n",
    "\n",
    "You should see:\n",
    "```R\n",
    "R version 3.4.1 (2017-06-30) -- \"Single Candle\"\n",
    "Copyright (C) 2017 The R Foundation for Statistical Computing\n",
    "Platform: x86_64-pc-linux-gnu (64-bit)\n",
    "\n",
    "R is free software and comes with ABSOLUTELY NO WARRANTY.\n",
    "You are welcome to redistribute it under certain conditions.\n",
    "Type 'license()' or 'licence()' for distribution details.\n",
    "\n",
    "  Natural language support but running in an English locale\n",
    "\n",
    "R is a collaborative project with many contributors.\n",
    "Type 'contributors()' for more information and\n",
    "'citation()' on how to cite R or R packages in publications.\n",
    "\n",
    "Type 'demo()' for some demos, 'help()' for on-line help, or\n",
    "'help.start()' for an HTML browser interface to help.\n",
    "Type 'q()' to quit R.\n",
    "\n",
    "> \n",
    "```\n",
    "\n",
    "First, let's install devtools, which is required by Seurat and also lets us specify specific versions of packages to install:\n",
    "```R\n",
    "install.packages('devtools') # Pick http and a region that's close to us\n",
    "```\n",
    "\n",
    "Next, install stringi:\n",
    "```R\n",
    "install.packages(\"stringi\", configure.args=c(\"--disable-cxx11\"), repos=\"https://cran.rstudio.com\")\n",
    "```\n",
    "\n",
    "After installing these packages, you should be able to run this entire block of code without any problems:\n",
    "```R\n",
    "devtools::install_version(\"pbdZMQ\",\"0.3-3\")\n",
    "devtools::install_version(\"uuid\",\"0.1-2\")\n",
    "devtools::install_version(\"repr\",\"0.15.0\")\n",
    "devtools::install_version(\"IRdisplay\",\"0.5.0\")\n",
    "devtools::install_version(\"evaluate\",\"0.10.1\")\n",
    "devtools::install_version(\"crayon\",\"1.3.4\")\n",
    "devtools::install_version(\"digest\",\"0.6.15\")\n",
    "devtools::install_version(\"curl\",\"3.2\")\n",
    "devtools::install_version(\"Rcpp\",\"0.12.17\")\n",
    "devtools::install_version(\"pillar\", \"1.2.1\") # current pull looks for nonexist 1.2.2\n",
    "devtools::install_version(\"CVST\", \"0.2\") # current pull looks for nonexist\n",
    "devtools::install_version(\"DRR\", \"0.0.3\")\n",
    "devtools::install_version(\"dimRed\", \"0.1.0\")\n",
    "q()  # quit\n",
    "```"
   ]
  },
  {
   "cell_type": "markdown",
   "metadata": {},
   "source": [
    "### 1c) Install GCC 4.8.5:\n",
    "\n",
    "The next packages require a different version of GCC than what's on our cluster natively:\n",
    "\n",
    "```bash\n",
    "conda install -y -c conda-forge gcc=4.8.5\n",
    "```"
   ]
  },
  {
   "cell_type": "markdown",
   "metadata": {},
   "source": [
    "### 1d) Install the rest of the packages:\n",
    "\n",
    "Now back in R...\n",
    "```R\n",
    "devtools::install_version(\"lubridate\",\"1.7.4\") # choose a mirror\n",
    "```\n",
    "\n",
    "```R\n",
    "devtools::install_version(\"httpuv\", \"1.3.5\") # current version breaks\n",
    "devtools::install_version(\"shiny\", \"1.0.5\") # current shiny requires httpuv 1.4.3\n",
    "devtools::install_version(\"Hmisc\", \"4.1-1\")\n",
    "devtools::install_version(\"htmlTable\", \"1.11.1\") # current pull references nonexist\n",
    "devtools::install_version(\"tibble\", \"1.4.2\")\n",
    "devtools::install_version(\"ggplot2\", \"2.2.1\")\n",
    "devtools::install_version(\"crosstalk\", \"1.0.0\")\n",
    "devtools::install_version(\"plotly\", \"4.7.1\")\n",
    "devtools::install_version(\"robustbase\", \"0.93-0\")\n",
    "devtools::install_version(\"caret\", \"6.0-78\") # current pull references nonexist\n",
    "devtools::install_version(\"recipes\", \"0.1.2\")\n",
    "devtools::install_version(\"Seurat\",\"2.3.1\")\n",
    "```"
   ]
  },
  {
   "cell_type": "markdown",
   "metadata": {},
   "source": [
    "### 1e) Making Seurat available in your jupyter notebook\n",
    "We can load and use these packages inside the terminal as-is, however it's nice to be able to view things like plots and stuff inside Jupyter. Let's run the appropriate commands inside R, which installs IRKernel, and registers our environment (single-cell) to our Jupyter installation:\n",
    "\n",
    "```R\n",
    "options(unzip = 'internal')\n",
    "devtools::install_github('IRkernel/IRkernel')\n",
    "IRkernel::installspec(name = 'R-Seurat', displayname = 'R-Seurat')\n",
    "```"
   ]
  },
  {
   "cell_type": "markdown",
   "metadata": {
    "collapsed": true
   },
   "source": [
    "# Addendum) Dependency hell\n",
    "While conda does its best to manage packages/dependencies, there may be bugs. \n",
    "If you are managing to install things successfully, skip this box :) \n",
    "If you find yourself getting errors such as \"libstdc++.so.6 version glibcxx not found\", \n",
    "please follow the instructions below. \n",
    "\n",
    "Set some variables in shell\n",
    "```bash\n",
    "ENVNAME=R-Seurat\n",
    "ANACONDAENV=/home/ucsd-trainXY/anaconda2/envs # replace 'ucsd-trainXY' with your username\n",
    "```\n",
    "\n",
    "Copy and run the following block of code, which:\n",
    "- Changes directory to where the problem library is\n",
    "- Moves the softlink somewhere else (just in case)\n",
    "- Softlinks the appropriate library files (libstdc++.so.6.0.24 -> ./libstdc++.so, libstdc++.so.6.0.24 -> ./libstdc++.so.6)\n",
    "\n",
    "```bash\n",
    "cd ${ANACONDAENV}/${ENVNAME}/lib;\n",
    "\n",
    "mv libstdc++.so ./libstdc++.so-bak;\n",
    "mv libstdc++.so.6 ./libstdc++.so.6-bak;\n",
    "\n",
    "ln -s libstdc++.so.6.0.24 ./libstdc++.so;\n",
    "ln -s libstdc++.so.6.0.24 ./libstdc++.so.6;\n",
    "```"
   ]
  }
 ],
 "metadata": {
  "kernelspec": {
   "display_name": "Python 2",
   "language": "python",
   "name": "python2"
  },
  "language_info": {
   "codemirror_mode": {
    "name": "ipython",
    "version": 2
   },
   "file_extension": ".py",
   "mimetype": "text/x-python",
   "name": "python",
   "nbconvert_exporter": "python",
   "pygments_lexer": "ipython2",
   "version": "2.7.15"
  }
 },
 "nbformat": 4,
 "nbformat_minor": 2
}
