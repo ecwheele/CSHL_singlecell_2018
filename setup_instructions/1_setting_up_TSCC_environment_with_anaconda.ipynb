{
 "cells": [
  {
   "cell_type": "markdown",
   "metadata": {},
   "source": [
    "# Instructions for downloading and installing anaconda"
   ]
  },
  {
   "cell_type": "markdown",
   "metadata": {},
   "source": [
    "# TSCC\n",
    "TSCC houses a 640-core supercomputer located at UCSD as part of a resource sharing system for researchers to carry out memory-intensive computational analyses. In this course, we will be using TSCC to store and process our single-cell datasets. \n",
    "\n",
    "*NOTE - these accounts will be cleared at the conclusion of the course. If you would like some help getting your account configured on a supercomputer that you can access outside of this course, feel free to ask us for help outside of class.*"
   ]
  },
  {
   "cell_type": "markdown",
   "metadata": {},
   "source": [
    "### 1) Generate a public/private key pair"
   ]
  },
  {
   "cell_type": "markdown",
   "metadata": {},
   "source": [
    "Follow the instructions in the 0_notebooks located in the setup_instructions folder to generate a public/private key pair depending on your operating system (mac/windows). Once you have generated the pair, email the public key to Brian Yee (brian.alan.yee@gmail.com) and he will respond with your username to login to the supercomputer. "
   ]
  },
  {
   "cell_type": "markdown",
   "metadata": {},
   "source": [
    "### 2) Login to TSCC:\n",
    "\n",
    "```ssh YOUR_TSCC_USERNAME@tscc-login2.sdsc.edu```\n",
    "\n",
    "TSCC has two login nodes, login1 and login2 for load-balancing (i.e. so if you just log on to tscc.sdsc.edu, it’ll choose whichever login node is less occupied). To keep track of multiple things that are running after we login, we always want to login to the same node. It doesn't matter which one you choose, but be consistent throughout the course. This is logging specifically on to login2. You can do login1 if you like, as well, to balance it out :)"
   ]
  },
  {
   "cell_type": "markdown",
   "metadata": {},
   "source": [
    "### 3) Download and install anaconda:\n",
    "\n",
    "Check out the Anaconda Python/R package manager from their [webpage](https://www.anaconda.com/download/#macos). We will copy the link from the linux download, python 2.7 version of Anaconda and use the command wget (web-get) to download this file onto our accounts.\n",
    "\n",
    "*NOTE - If you want to work directly on your desktop for small-scale analyses, you can follow this same workflow depending on your operating system and download anaconda locally.*\n",
    "\n",
    "(Anaconda2 for python 2.7): ```wget https://repo.anaconda.com/archive/Anaconda2-5.2.0-Linux-x86_64.sh```\n",
    "\n",
    "*Note: You may also see references to \"Anaconda3\", which uses Python3 by default. We'll be using Anaconda2, which provides Python2, however we can still leverage conda to create environments with Python3. In other words, even though we'll be using Anaconda2, we will still be able to use both Python2 and Python3.*\n",
    "\n",
    "Did the download complete in your home directory? You can check if the file is there with the command **ls** which will list all the files in the current working directory.\n",
    "\n",
    "```ls ```\n",
    "\n",
    "To install Anaconda2, run the shell script with bash (this will take some time). It will ask you a bunch of questions, but we'll be okay using the defaults for all (just press enter):\n",
    "\n",
    "```bash Anaconda2-5.2.0-Linux-x86_64.sh```\n",
    "\n",
    "To activate Anaconda2, source your .bashrc:\n",
    "\n",
    "```source ~/.bashrc```\n",
    "\n",
    "Make sure your Python is pointed to the Anaconda python with:\n",
    "\n",
    "```which python```\n",
    "\n",
    "The output should look something like:\n",
    "\n",
    "```~/anaconda2/bin/python```"
   ]
  },
  {
   "cell_type": "markdown",
   "metadata": {},
   "source": [
    "### 4) A note on PATH and bashrc\n",
    "\n",
    "**~/.bashrc** is a hidden file in your home directory that controls the configuration and setup of your working environment. You can see all the hidden files that exist in your home with the following command. Remember ```~``` is a shortcut for your home directory. \n",
    "\n",
    "```ls -la ~/```\n",
    "\n",
    "Look at the file with ```cat``` and see what is in there. \n",
    "\n",
    "```cat ~/.bashrc```\n",
    "\n",
    "You will see a line that says the anaconda installer has added a folder to your path variable. It looks something like this: \n",
    "\n",
    "```# added by Anaconda2 2.4.1 installer\n",
    "export PATH=\"/home/ecwheele/anaconda2/bin:$PATH\"```\n",
    "\n",
    "This folder is where the executables for all of the programs that you install with conda will be located. And since that folder exists in your PATH, you can call the program name without having to specify the folder where the executable is located. \n",
    "\n",
    "```**bash\n",
    "$PATH```\n",
    "\n",
    "Variables in bash are called with the ```$``` character. The PATH is a special variable that tells your computer where to search for things. Take a look at what your path currently looks like by printing the value of that variable. To print in bash, use the command ```echo```\n",
    "\n",
    "```echo $PATH```\n",
    "\n",
    "You should get something that looks like this: \n",
    "\n",
    "```\n",
    "/home/ecwheele/software/:/opt/singularity/bin/:\n",
    "/home/ecwheele/anaconda2/bin:/opt/maui/bin:\n",
    "/opt/torque/bin:/opt/torque/sbin:```\n",
    "\n",
    "These are a bunch of folders (separated by a colon) where the terminal will search when you type a command. If that command doesn't exist in any of the folders, you will get the error ```command not found```. If you download and install something outside of these folders, you can put that location in your path. "
   ]
  }
 ],
 "metadata": {
  "kernelspec": {
   "display_name": "python2-base",
   "language": "python",
   "name": "python2"
  },
  "language_info": {
   "codemirror_mode": {
    "name": "ipython",
    "version": 2
   },
   "file_extension": ".py",
   "mimetype": "text/x-python",
   "name": "python",
   "nbconvert_exporter": "python",
   "pygments_lexer": "ipython2",
   "version": "2.7.12"
  }
 },
 "nbformat": 4,
 "nbformat_minor": 2
}
