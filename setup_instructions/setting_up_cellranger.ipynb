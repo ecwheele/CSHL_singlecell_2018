{
 "cells": [
  {
   "cell_type": "markdown",
   "metadata": {},
   "source": [
    "# Instructions for downloading and installing cellranger 2.1.1"
   ]
  },
  {
   "cell_type": "markdown",
   "metadata": {},
   "source": [
    "## Step 1 – Download and unpack the Cell Ranger file in any location. In this example we use ~~/opt~~ ~/bin.\n",
    "\n",
    "This unpacks Cell Ranger, its dependencies, and the cellranger script into a new directory called cellranger-2.1.1.\n",
    "\n",
    "#### Link to [downloads page](https://support.10xgenomics.com/single-cell-gene-expression/software/downloads/latest)\n",
    "\n",
    "```bash\n",
    "mkdir ~/bin\n",
    "cd ~/bin\n",
    "[ download file from downloads page ]\n",
    "tar -xzvf cellranger-2.1.1.tar.gz\n",
    "```\n",
    "\n",
    "#### Notes:\n",
    "Technically, <b>/opt</b> can be used for add-on application software packages (such as cellranger), however depending on your compute setup, you may not have the ability to write into this folder. Instead, let's create a directory  in our home (<b>~/bin</b>), and download there.\n",
    "\n",
    "The \"```-xzvf```\" options stand for: e(x)tract, g(z)ip, (v)erbose, (f)ile. In other words, we are extracting, unzipping, and printing the status of a tarred file. \n",
    "\n",
    "The ```~``` points to your home. "
   ]
  },
  {
   "cell_type": "markdown",
   "metadata": {},
   "source": [
    "## Step 2 - Download and unpack any of the reference data files in a convenient location:\n",
    "\n",
    "This creates a new directory called refdata-cellranger-GRCh38-1.2.0 that contains a single reference (in this case, GRCh38). Each reference contains a set of pre-generated indices and other data required by Cell Ranger.\n",
    "\n",
    "#### Link to [downloads page](https://support.10xgenomics.com/single-cell-gene-expression/software/downloads/latest)\n",
    "\n",
    "```bash\n",
    "mkdir ~/bin\n",
    "cd ~/bin\n",
    "[ download file from downloads page ]\n",
    "tar -xzvf refdata-cellranger-GRCh38-1.2.0.tar.gz\n",
    "```\n",
    "\n",
    "#### Notes:"
   ]
  },
  {
   "cell_type": "markdown",
   "metadata": {},
   "source": [
    "## Step 3 – Prepend the Cell Ranger directory to your $PATH. This will allow you to invoke the cellranger command.\n",
    "\n",
    "If you unpacked both Cell Ranger and the reference data into ~~/opt~~ ~/bin, then you would run the following command:\n",
    "\n",
    "```bash\n",
    "export PATH=~/bin/cellranger-2.1.1:$PATH\n",
    "```\n",
    "\n",
    "#### Notes:"
   ]
  },
  {
   "cell_type": "markdown",
   "metadata": {},
   "source": [
    "## Step 4 (Optional) - site check script and verify installation\n",
    "\n",
    "If you followed these instructions, you should now be able to run the cellranger software. To help them out, 10X genomics collects data about users' computing environment (such as what operation system, what Java version being used, etc.)\n",
    "\n",
    "```bash\n",
    "cellranger sitecheck > sitecheck.txt\n",
    "cellranger upload your@email.edu sitecheck.txt\n",
    "```\n",
    "\n",
    "Cellranger also comes pre-packaged with a demo dataset that can be used to verify installation. \n",
    "\n",
    "```bash\n",
    "cellranger testrun --id=tiny\n",
    "```\n",
    "\n",
    "#### Notes:"
   ]
  },
  {
   "cell_type": "code",
   "execution_count": null,
   "metadata": {},
   "outputs": [],
   "source": []
  }
 ],
 "metadata": {
  "kernelspec": {
   "display_name": "Python 2",
   "language": "python",
   "name": "python2"
  },
  "language_info": {
   "codemirror_mode": {
    "name": "ipython",
    "version": 2
   },
   "file_extension": ".py",
   "mimetype": "text/x-python",
   "name": "python",
   "nbconvert_exporter": "python",
   "pygments_lexer": "ipython2",
   "version": "2.7.14"
  }
 },
 "nbformat": 4,
 "nbformat_minor": 2
}
