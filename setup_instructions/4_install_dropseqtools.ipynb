{
 "cells": [
  {
   "cell_type": "markdown",
   "metadata": {},
   "source": [
    "# Instructions for downloading and installing dropseqtools 0.13\n",
    "- This notebook contains a set of instructions for installing dropseqtools 0.13. These are tools from James Namesh (McCarroll lab) that are going to be used to process raw data into gene expression values. \n",
    "\n",
    "- ucsd-train users: replace the **ucsd-trainXY** with your login (ie. ucsd-train01)"
   ]
  },
  {
   "cell_type": "markdown",
   "metadata": {},
   "source": [
    "### Step 1 - Install prerequisites\n",
    "\n",
    "The McCarroll lab provides some very useful tools for processing data. Some of these tools require/rely on other software listed below:\n",
    "\n",
    "- Java \n",
    "- STAR\n",
    "- Picard tools \n",
    "\n",
    "The easiest way to install these packages is through conda. For good practice, let's keep all the packages that are required for dropseqtools in an isolated environment called dropseqtools. \n",
    "\n",
    "```bash\n",
    "conda create -y -n dropseqtools\n",
    "\n",
    "source activate dropseqtools\n",
    "\n",
    "conda install -y -c bioconda picard=2.18.7 STAR=2.6 java-jdk=8.0 samtools\n",
    "```\n",
    "\n",
    "You can check to make sure these programs are installed in the correct location using ```which```:\n",
    "    \n",
    "```bash\n",
    "which java;\n",
    "which STAR;\n",
    "which picard;\n",
    "```"
   ]
  },
  {
   "cell_type": "markdown",
   "metadata": {},
   "source": [
    "### Step 2 - Download the Dropseqtools zip file\n",
    "\n",
    "**Option1 - Shortcut**\n",
    "\n",
    "Copy the .zip file directly from our shared folder. We have already downloaded the zip file from their website and put it in our shared folder. See the instructions below for more information on how this was done. \n",
    "\n",
    "```bash\n",
    "cp /oasis/tscc/scratch/cshl_2018/software_downloads/Drop-seq_tools-1.13.zip ~/software/```\n",
    "\n",
    "Now skip ahead to step 3!\n",
    "\n",
    "**Option 2 - Manual install:**\n",
    "\n",
    "Go to: http://mccarrolllab.com/dropseq/ and scroll down to **Software** and click on the zip file with the program downloads. This will start downloading directly to your computer. We will have to move it onto TSCC with scp (secure copy). \n",
    "\n",
    "**MAC**\n",
    "\n",
    "Using the terminal on your home computer (not logged onto TSCC), navigate to where the download has completed .\n",
    "\n",
    "```bash\n",
    "cd ~/Downloads/\n",
    "```\n",
    "\n",
    "Check that the folder is in there with ```ls -ltr``` (this will print all the files you have in there in the reverse order in which they were created).\n",
    "\n",
    "Move the folder to TSCC. Remember to change XY in the command below to your specific username:\n",
    "\n",
    "```bash\n",
    "scp Drop-seq_tools-1.13-3.zip ucsd-trainXY@tscc-login.sdsc.edu:~/software/```\n",
    "\n",
    "This will upload the zip file into a directory in your home folder called software. If this folder doesn't exist yet, login to TSCC and make it. But make sure you run the scp command from a terminal window that IS NOT logged onto TSCC.\n",
    "\n",
    "**WINDOWS**"
   ]
  },
  {
   "cell_type": "markdown",
   "metadata": {},
   "source": [
    "### Step 3 - on TSCC, unzip and add executable files to your $PATH\n",
    "\n",
    "Unzip the file that you transferred into ```~/software/``` \n",
    "\n",
    "(This should create a \"Drop-seq_tools-1.13-3\" folder inside ~/software):\n",
    "\n",
    "```bash\n",
    "cd ~/software/;\n",
    "unzip Drop-seq_tools-1.13.zip;\n",
    "```\n",
    "\n",
    "Now, add this directory to your $PATH so that TSCC knows where to find these executables:\n",
    "\n",
    "```\n",
    "vi ~/.bashrc\n",
    "i\n",
    "export PATH=\"/home/ucsd-trainXY/software/Drop-seq_tools-1.13:$PATH\"\n",
    "esc\n",
    ":wq\n",
    "```\n",
    "\n",
    "And update that "
   ]
  },
  {
   "cell_type": "code",
   "execution_count": null,
   "metadata": {},
   "outputs": [],
   "source": []
  }
 ],
 "metadata": {
  "kernelspec": {
   "display_name": "python2-base",
   "language": "python",
   "name": "python2"
  },
  "language_info": {
   "codemirror_mode": {
    "name": "ipython",
    "version": 2
   },
   "file_extension": ".py",
   "mimetype": "text/x-python",
   "name": "python",
   "nbconvert_exporter": "python",
   "pygments_lexer": "ipython2",
   "version": "2.7.12"
  }
 },
 "nbformat": 4,
 "nbformat_minor": 2
}
