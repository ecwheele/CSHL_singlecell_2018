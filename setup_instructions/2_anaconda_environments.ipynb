{
 "cells": [
  {
   "cell_type": "markdown",
   "metadata": {},
   "source": [
    "# Create a virtual environment on TSCC\n",
    "\n",
    "Virtual environments are isolated programming environments that allow users to install packages specific to individual projects, without worrying about compatability among dependency issues. For example, if you were working on **Project A** which requires Package **V1.0**, but also working on **Project B** which requires Package **V2.0**, you could create two environments and work on both without worrying about any version conflicts. We are going to be working mostly in python3 for this course, but sometimes we still need python2. So we are going to create two different envrionments which will allow you to work in either version as needed.\n",
    "\n",
    "## 1) Make python2 virtual environment\n",
    "\n",
    "There are a few ways to create virtual environments, but the easiest way for us to just use conda:\n",
    "\n",
    "```conda create --name py2_env python=2.7 numpy pandas scipy scikit-learn matplotlib seaborn jupyter```\n",
    "\n",
    "which creates a conda environment called py2_env, and with the following packages installed:\n",
    "- **python** (version 2.7)\n",
    "- **numpy, pandas, scipy, scikit-learn, matplotlib, seaborn, jupyter** (any versions that are compatible with each other). These are the most common packages you will use, but you can add more later. \n",
    "\n",
    "Check if it worked! You can list all environments that you have created with the following command: \n",
    "\n",
    "```conda env list```\n",
    "\n",
    "Go into that environment with:\n",
    "\n",
    "```source activate py2_env```\n",
    "\n",
    "Notice that you now have a parenthesis on the command line before your username that tells you what environment you are working in. \n",
    "\n",
    "\n",
    "While we are in here, we are going to add this environment as a kernel in jupyter (more explanation later). Do that with the following command:\n",
    "\n",
    "```python -m ipykernel install --user --display-name \"py2_env\"```\n",
    "\n",
    "Once that has finished get out of the environment with:\n",
    "\n",
    "```source deactivate```\n",
    "\n",
    "And refresh your normal settings by sourcing your bashrc file: \n",
    "\n",
    "```source ~/.bashrc```"
   ]
  },
  {
   "cell_type": "markdown",
   "metadata": {},
   "source": [
    "## 2) Make python3 virtual environment\n",
    "\n",
    "For this course, we will be primarily working in Python3 because the clustering algorithm that we want to use is written in python3. We are going to make another environment for python3 and install all the programs we will need inside of it.  \n",
    "\n",
    "```conda create --yes -n py3_cshl python=3 scipy numpy jupyter scikit-learn numpy matplotlib seaborn pandas statsmodels seaborn ipykernel```\n",
    "\n",
    "Move into that environment with source activate:\n",
    "\n",
    "```source activate py3_cshl```\n",
    "\n",
    "Install [phenograph](https://github.com/jacoblevine/PhenoGraph) with pip:\n",
    "\n",
    "```pip install git+https://github.com/jacoblevine/phenograph.git```\n",
    "\n",
    "Add this environment as a kernel in jupyter:\n",
    "\n",
    "```python -m ipykernel install --user --display-name \"py3_cshl\"```\n",
    "\n",
    "Get out of the environment and source your .bashrc file:\n",
    "\n",
    "```source deactivate```\n",
    "\n",
    "```source ~/.bashrc```"
   ]
  },
  {
   "cell_type": "code",
   "execution_count": null,
   "metadata": {},
   "outputs": [],
   "source": []
  }
 ],
 "metadata": {
  "kernelspec": {
   "display_name": "Python 2",
   "language": "python",
   "name": "python2"
  },
  "language_info": {
   "codemirror_mode": {
    "name": "ipython",
    "version": 2
   },
   "file_extension": ".py",
   "mimetype": "text/x-python",
   "name": "python",
   "nbconvert_exporter": "python",
   "pygments_lexer": "ipython2",
   "version": "2.7.15"
  }
 },
 "nbformat": 4,
 "nbformat_minor": 2
}
