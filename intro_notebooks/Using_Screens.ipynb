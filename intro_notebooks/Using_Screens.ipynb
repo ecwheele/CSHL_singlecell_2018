{
 "cells": [
  {
   "cell_type": "markdown",
   "metadata": {},
   "source": [
    "# Using screens on TSCC"
   ]
  },
  {
   "cell_type": "markdown",
   "metadata": {},
   "source": [
    "Screens are a very versatile tool when working on a Unix-like command-line interphase. Screens allow you to have multiple, independent windows within the same login session (similar to tabs in a web browser). They are also capable of running continuously, even when you log off of TSCC. This is especially useful if you are running a command and happen to lose connection to the cluster or your computer crashes; as long as you are running in an active screen session, you should be able to resume without any issues!  "
   ]
  },
  {
   "cell_type": "markdown",
   "metadata": {},
   "source": [
    "### Setting up .screenrc ###"
   ]
  },
  {
   "cell_type": "markdown",
   "metadata": {},
   "source": [
    "The default screen option on TSCC is sufficient to begin playing around, but is very minimal in design. There is very little represented in the dispay, and it hard to tell which \"tab\" you are in (or if you are even in a screen at all). To get around this, we will add this .screenrc file to make sure our screen more easy to interpret:\n",
    "\n",
    "    cd ~\n",
    "    wget https://raw.githubusercontent.com/olgabot/rcfiles/master/.screenrc\n",
    "    \n",
    "This .screenrc will add nice status bar at the bottom of your screen that displays the windows that you have open in your screen, as well as your login node in the lefthand corner and the time and date in the righthand corner."
   ]
  },
  {
   "cell_type": "markdown",
   "metadata": {},
   "source": [
    "### Starting a screen ###"
   ]
  },
  {
   "cell_type": "markdown",
   "metadata": {},
   "source": [
    "Let's start a screen session by entering:\n",
    "\n",
    "    screen -S [screen name]\n",
    "    \n",
    "The screen command will initiate a new screen session from the login node. The -S flag is to ascribe a meaningful name to each of your screens, as you can create multiple screens per login session. We call this string \"attached,\" because we are operating within it currently. To detach from a screen (without closing it), we use:\n",
    "\n",
    "    Ctrl-j d\n",
    "    \n",
    "This will take you back to your login node. To reattach to your screen, use:\n",
    "\n",
    "    screen -r [screen name]\n",
    "\n",
    "or \n",
    "\n",
    "    screen -x [screen name]\n",
    "    \n",
    "If you merely use -r without a name attached, it will ask you to choose from any of the active screens that you have. At this point, you can choose and open a specific screen using screen -r.\n",
    "\n",
    "***Be careful that you pay attention to which login node that you are using to make the screen.*** When you log out of TSCC and log back into TSCC using a separate login node (1 or 2), you will not be able to reattach to the screen you started."
   ]
  },
  {
   "cell_type": "markdown",
   "metadata": {},
   "source": [
    "### Maneuvering within a screen ###"
   ]
  },
  {
   "cell_type": "markdown",
   "metadata": {},
   "source": [
    "\n",
    "#### General ####\n",
    "\n",
    "Screens work a little like tabs, although rely on typing with commands rather than pointing and clicking. The majority of commands within our screen will be issued with:\n",
    "\n",
    "    Ctrl-j [command]\n",
    "\n",
    "Where [command] is the specific command you wish to perform. In default screens (without our .screenrc), commands would normally be issued with:\n",
    "\n",
    "    Ctrl-a [command]\n",
    "    \n",
    "Keep this in mind if you are operating screens not related to this particular screen modifications."
   ]
  },
  {
   "cell_type": "markdown",
   "metadata": {},
   "source": [
    "#### Making new windows ####\n",
    "\n",
    "To make a new window, simply do:\n",
    "\n",
    "    Ctrl-j c\n",
    "    \n",
    "This will open a new window that is labeled with a new number beginning with 0. To move back and forth between windows, type in:\n",
    "\n",
    "    Ctrl-j #\n",
    "    \n",
    "where # is the number of the particular window. This allows you to toggle back and forth realtively easily. \n",
    "\n",
    "\n"
   ]
  },
  {
   "cell_type": "markdown",
   "metadata": {},
   "source": [
    "#### Deleting windows ####\n",
    "\n",
    "\n",
    "You can also kill windows that you are currently sitting in by typing:\n",
    "\n",
    "    Ctrl-j k\n",
    "    \n",
    "or, simply:\n",
    "\n",
    "    exit\n",
    "    "
   ]
  },
  {
   "cell_type": "markdown",
   "metadata": {},
   "source": [
    "#### Renaming Windows ####\n",
    "\n",
    "To ascribe meaningful names to windows, type:\n",
    "\n",
    "    Ctrl-j A\n",
    "    \n",
    "This will highlight the name of the current window you are sitting in, which should generically be called bash. You can delete the text using the delete key, type in a new name, and save by pressing Enter. You will still use the number to toggle between windows, but this helps you keep track of which window you are operating things through (e.g. jupter notebooks, alignment job, etc.)."
   ]
  },
  {
   "cell_type": "markdown",
   "metadata": {},
   "source": [
    "#### What else can I do with screens? ####\n",
    "\n",
    "A lot of things! Most of which I will not cover here. To get a full repository of useful commands you can use with screens, type:\n",
    "\n",
    "    Ctrl-j ?\n",
    "    \n",
    "This will serve as your \"help\" screen, and will provide you with a key of all screen commands available. Try a few, play around, and get comfortable using screens. They are an amazing tool, both for organization and productivity, and will be used often throughout this session."
   ]
  },
  {
   "cell_type": "markdown",
   "metadata": {},
   "source": [
    "### Interactive Jobs within Screens ###"
   ]
  },
  {
   "cell_type": "markdown",
   "metadata": {},
   "source": [
    "It is a good habit of working within a screen to prevent losing work after signing out of TSCC. This doubles for interactive jobs, which are normally only active so long as you are logged into TSCC. However, screens will allow you to run an interactive job once you sign off of TSCC if you detach from the screen beforehand. This way, you can run a job that might take several hours without worrying about disconnecting from the cluster. \n",
    "\n",
    "Keep in mind that an interactive job or an environment will only be linked to the window in which it was initiated. This allows you to have multiple environments (or multiple jobs running) simultaneously from only one login session!\n",
    "\n",
    "\n",
    "To terminate an interactive job, you can either wait until you reach the end of your alloted walltime, or quit using either:\n",
    "\n",
    "    exit\n",
    "\n",
    "or \n",
    "\n",
    "    qdel [job session ID]\n",
    "\n",
    "Again, you can find your session ID by typing:\n",
    "\n",
    "    \n",
    "    qstat -u ucsd-trainXY\n",
    "\n",
    "where XY is your train account number. The job ID is the number before .tscc-mgr.local.\n"
   ]
  },
  {
   "cell_type": "markdown",
   "metadata": {},
   "source": [
    "### Text Wrapping Issues ###"
   ]
  },
  {
   "cell_type": "markdown",
   "metadata": {},
   "source": [
    "During your time using an interactive job within a screen, you may encounter some text issues in which the end of your line does not wrap around to the next line properly, but seemingly overwrites the beginning of you line. If this happens, this can be cleaned up by typing:\n",
    "\n",
    "    eval $(resize)"
   ]
  },
  {
   "cell_type": "code",
   "execution_count": null,
   "metadata": {
    "collapsed": true
   },
   "outputs": [],
   "source": []
  }
 ],
 "metadata": {
  "kernelspec": {
   "display_name": "Python [Root]",
   "language": "python",
   "name": "Python [Root]"
  },
  "language_info": {
   "codemirror_mode": {
    "name": "ipython",
    "version": 2
   },
   "file_extension": ".py",
   "mimetype": "text/x-python",
   "name": "python",
   "nbconvert_exporter": "python",
   "pygments_lexer": "ipython2",
   "version": "2.7.12"
  }
 },
 "nbformat": 4,
 "nbformat_minor": 2
}
