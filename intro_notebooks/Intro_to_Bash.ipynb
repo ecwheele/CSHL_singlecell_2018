{
 "cells": [
  {
   "cell_type": "markdown",
   "metadata": {},
   "source": [
    "# Introduction to Unix and Bash"
   ]
  },
  {
   "cell_type": "markdown",
   "metadata": {
    "collapsed": true
   },
   "source": [
    "  ## What is Unix?"
   ]
  },
  {
   "cell_type": "markdown",
   "metadata": {},
   "source": [
    "Unix is a widely used multiuser operating system. It was invented in the late 1960s, and preceded what we know as a “graphical user interphase.” We know this typing and command issuing environment as a “command-line interphase,” which allows for easy point-and-click, icon-based interactions with our computers. We will use an interpreter/language called Bash to operate Unix.\n",
    "\n",
    "There are many variations of Unix, that we collectively call Unix-based operating systems (macOS, Linux), though the basic functions are similar. "
   ]
  },
  {
   "cell_type": "markdown",
   "metadata": {},
   "source": [
    "## The Terminal"
   ]
  },
  {
   "cell_type": "markdown",
   "metadata": {},
   "source": [
    "The terminal is a text-only environment on your computer that allows you to type \"input\" using your keyboard and read the resulting \"outputs\".\n",
    "\n"
   ]
  },
  {
   "cell_type": "markdown",
   "metadata": {},
   "source": [
    "Log into TSCC using the TSCC login tutorial\n",
    "\n",
    "\n",
    "You should have something like this on the left-hand side:\n",
    "\n",
    "    [ucsd-train01@tscc-login1 ~]$\n",
    "   "
   ]
  },
  {
   "cell_type": "markdown",
   "metadata": {},
   "source": [
    "If all looks good, we can now move on to executing some commands (!)"
   ]
  },
  {
   "cell_type": "markdown",
   "metadata": {},
   "source": [
    " "
   ]
  },
  {
   "cell_type": "markdown",
   "metadata": {},
   "source": [
    "**Where are you currently?**\n",
    "\n",
    "When using a terminal you will always be inside a folder, or directory. But, at any given time, you may lose track of what directory you are currently in. To do so, we must use \"print working directory\", or pwd:\n",
    "\n",
    "    pwd\n",
    "    \n",
    "What does your output look like? Mine's something like:\n",
    "\n",
    "    /home/ucsd-train01\n",
    " \n",
    "\n",
    "This is my current, or working, directory. It also happens to be my home directory, or starting point when I open the terminal. Luckily, we have a shortcut to get back to this point, which is marked by a tilde (~). So, if we ever wanted to get back to this directory from any point on the computer, we would simply type:\n",
    "\n",
    "    cd ~\n",
    "    pwd\n",
    "\n",
    "    /Users/ucsd-train01\n",
    "\n",
    "**This is what we call our *absolute path,* or your absolute location on your computer.**\n"
   ]
  },
  {
   "cell_type": "markdown",
   "metadata": {},
   "source": [
    "# Basic Commands   "
   ]
  },
  {
   "cell_type": "markdown",
   "metadata": {},
   "source": [
    "**Where can we go?**\n",
    "\n",
    "Now that we know where we are, we should try and see what folders are in my working directory:\n",
    "\n",
    "    ls\n",
    " \n",
    "These are all of the subdirectories that are in my present directory. Do yours look familiar? These are the folders on your computer that you can normally navigate to by clicking.\n",
    "\n",
    "If you have any folders in your working directory, they will appear on the terminal at this point. If you are operating in an empty directory (which may be the case now), there will be nothing to display\n"
   ]
  },
  {
   "cell_type": "markdown",
   "metadata": {},
   "source": [
    "**Making a new directory**\n",
    "\n",
    "Now that we know how to move around between directories, let's make a new directory on our Desktop called \"bootcamp\" using mkdir:\n",
    "\n",
    "    mkdir test_dir\n",
    "\n",
    "You have now created a new directory, or folder, in your home directory. Try navigating to it on the command line using cd, followed by the directory name:\n",
    "\n",
    "    cd test_dir\n",
    "\n",
    "\n",
    "When naming a new directory, it is always a good idea to separate words by an underscore ( _ ) to prevent unsual notation. For instance:\n",
    "    \n",
    "    mkdir test_directory\n",
    "    \n",
    "As opposed to:\n",
    "    \n",
    "    mkdir test directory\n",
    "    \n",
    "We can make multiple directories within one another in order to create different levels. These multiple directories can be done simultaneously using what we call a \"flag,\" which allows you a means to control your command in a specific way. The flag \"-p\" with the command mkdir will allow you to make muliple subdirectories simultaneusly:\n",
    "\n",
    "    mkdir -p ~/test_directory/test2/test3/\n",
    "    \n",
    "We can now move to these new directories using cd:\n",
    "    \n",
    "    cd ~/test_directory/test2/test3/"
   ]
  },
  {
   "cell_type": "markdown",
   "metadata": {
    "collapsed": true
   },
   "source": [
    "To move back up a level in your directory hierarchy, you will use two periods \"..\" to do so:\n",
    "    \n",
    "    cd ..\n",
    "\n",
    "This will move you up one level. To move up two levels simply use \"..\" separated by a \"/\" \n",
    "\n",
    "    cd ../..\n",
    "    \n",
    "\n",
    "This will allow us to change our *relative path,* or location relative to where we are now. Compare this to out absolute path, where the entire path is defined in identifying our absolute location. We can also change location to any other directory (in the following example, the directory \"test3\" from our current location (say our home directory ~ ), so long as we provide an absolute path.\n",
    "\n",
    "    cd ~\n",
    "    cd ~/test_directory/test2/test3/\n",
    "    pwd\n",
    " \n",
    "    /home/ucsd-train01/test_directory/test2/test3/\n",
    "\n",
    "\n",
    "You can move \"backwards\" using \"..\" until you reach the level \"/\", which is known as the root directory."
   ]
  },
  {
   "cell_type": "markdown",
   "metadata": {},
   "source": [
    "  "
   ]
  },
  {
   "cell_type": "markdown",
   "metadata": {},
   "source": [
    "**Making a new file/editing a file**\n",
    "\n",
    "\n",
    "***Making a new file***\n",
    "\n",
    "Now that we're in our new directory, let's make a blank text file here. To do so, we will use vi, one of many text editor applications. Others include Emacs and nano (mentioned in the Unix tutorial), and each have their own unique feels. For this module, however, we will stick with using vi.\n",
    "\n",
    "\n",
    "    vi test_file.txt\n",
    "    \n",
    "    \n",
    "This will open a blank screen with several ~ on the left-hand side:\n",
    "\n",
    "\n",
    "    ~                                                                                                                  \n",
    "    ~                                                                                                                  \n",
    "    ~                                                                                                                  \n",
    "    ~                                                                                                                  \n",
    "    ~                                                                                                                  \n",
    "    ~                                                                                                                  \n",
    "    ~                                                                                                                  \n",
    "    ~                                                                                                                  \n",
    "    ~                                                                                                                  \n",
    "    ~                                                                                                                  \n",
    "    ~                                                                                                                  \n",
    "    ~                                                                                                                  \n",
    "    \"test_file.txt\" [New File]                                                                  0,0-1         All\n",
    "\n",
    "\n",
    "\n",
    "This is the text file (test_file.txt) that you just created. The filename will be displayed in the bottom left hand corner with a [New File] label. You can use the arrow keys to move the cursor around the file. You can edit the contents of your document by entering Insert mode by pressing \"i\", followed by typing in whatver you would like. To leave, we can press esc, followed by :wq to save and quit(w to save, q to quit). Let's try:\n",
    "\n",
    "    i\n",
    "    I am writing a brand new text file\n",
    "    esc\n",
    "    :wq\n",
    "\n",
    "This will take you back to your bootcamp directory. Did it work? Let's check by looking at the contents of our directory using: \n",
    "    \n",
    "    ls\n",
    "\n",
    "Mine says:\n",
    "    \n",
    "    test_file.txt\n",
    "    \n",
    "Let's take a look at the contents of our text file:\n",
    "\n",
    "    cat test_file.txt\n",
    "    \n",
    "It should look something like:\n",
    "\n",
    "    I am writing a brand new text file\n",
    "\n",
    "\n",
    "***Editing a pre-existing file***\n",
    "\n",
    "Let's go back and edit that text file we just made \n",
    "    \n",
    "    vi test_file.txt\n",
    "    i\n",
    "    \n",
    "Use your arrow keys to go to the end of the prompt, delete what we wrote previously with backspace, and write:\n",
    "\n",
    "    I am editing an existing text file\n",
    "    esc\n",
    "    :wq\n",
    "    \n",
    "\n",
    "Let's look at our file now:\n",
    "\n",
    "    cat test_file.txt\n",
    "    \n",
    "\n",
    "\n",
    "You can see that we overwrote our original contents. This shows us that vi is a means to not only make new files, but to edit pre-existing ones too. \n",
    "\n",
    "\n",
    "\n",
    "OR, if after making corrections you decide to quit insert mode without saving changes, you can press esc, then follow with :q! (q to quit, ! to force):\n",
    "    \n",
    "    vi test_file.txt\n",
    "    i\n",
    "    <make changes to file>\n",
    "    esc\n",
    "    :q!"
   ]
  },
  {
   "cell_type": "markdown",
   "metadata": {},
   "source": [
    "   "
   ]
  },
  {
   "cell_type": "markdown",
   "metadata": {},
   "source": [
    "**Viewing a file**\n",
    "\n",
    "There are a couple different ways to view a file. So far we have used \"cat\", which displays the entire contents of the file onto your screen. \"Less\" is alternative way to look at a file, as it will display the contents in a separate screen that can then be scrolled through with Enter if the file cannot be viewed all at once on the same screen. To quit and return to the terminal, simply press \"q\" to quit:\n",
    "\n",
    "    less interesting_file_name.txt\n",
    "    q\n",
    "    \n",
    "Sometimes, you will only want to look at a few lines to make sure that your file is what you think it is without having to look at the whole thing. \"Head\" and \"tail\" are useful ways to look at the first few lines or last few lines, respectfully:\n",
    "\n",
    "    head interesting_file_name.txt\n",
    "    \n",
    "    tail interesting_file_name.txt\n",
    "\n",
    "\n",
    "There are a lot of ways to customize how you use these commands using a variety of options called flags. A flag is a - (or --) followed by a letter or word that affects how your command is run.\n",
    "\n",
    "\n",
    "Flags are specific to a commmand, and so need to be looked up in order to be used to their full potential. To find out more about a specific program's flags, use the man function in front of the command name. For instance:\n",
    "\n",
    "\n",
    "    man head\n",
    "    \n",
    "*Question: How would I display the top 21 lines of interesting_file.txt*"
   ]
  },
  {
   "cell_type": "markdown",
   "metadata": {},
   "source": [
    "**Use tabs to complete**\n",
    "\n",
    "Many mistakes can be introduced due to typos. This is especially notable when receiving error messages that are a direct result providing the wrong location for input files. Thus, we try to rely on tabs to fill in what is already known by the computer. This will be essential when filling out *absolute paths*, or the series of directories that must be followed to get to a particular file. As an example, let's go from our home directory to our newly created file:\n",
    "\n",
    "    cd ~\n",
    "\n",
    "Next we want to navigate to our Desktop. If we begin typing \"Desktop\", but press tab part-way through, our computer can fill out the rest if the word is unique:\n",
    "\n",
    "    cd tes<tab>\n",
    "    cd test_directory\n",
    "     \n",
    "We can keep going and our tab-complete method will continue to fill out the rest of the words until we are at out target file:\n",
    "\n",
    "    less ~/tes<tab>\n",
    "    less ~/test_directory\n",
    "    less ~/test_directory/tes<tab>\n",
    "    less ~/test_directory/test_file.txt\n",
    "\n",
    "This is a very useful way to adavnce without making any careless typos. We call also use tabs to list the contents of a directory we are interested in looking into next:\n",
    "\n",
    "    cd ~/test_directory/<tab><tab>\n",
    "    \n",
    "    \n",
    "***I promise that tab completion will make your work (and thus your life) much, much easier!***"
   ]
  },
  {
   "cell_type": "markdown",
   "metadata": {},
   "source": [
    " "
   ]
  },
  {
   "cell_type": "markdown",
   "metadata": {},
   "source": [
    "**Copying a file**\n",
    "\n",
    "Let's make a copy of our text file that we can call test_file_2.txt. We can do this using the following syntax:\n",
    "\n",
    "    cp test_file.txt test_file_2.txt\n",
    "   \n",
    "We should now have two identical copies of the same file in the same directory. Copying will follow the general structure of:\n",
    "\n",
    "    cp source_file_name destination_file_name\n",
    "\n"
   ]
  },
  {
   "cell_type": "markdown",
   "metadata": {},
   "source": [
    " "
   ]
  },
  {
   "cell_type": "markdown",
   "metadata": {},
   "source": [
    "**Move/renaming a file/directory**\n",
    "\n",
    "If we want to move a file, we can do so using the mv command:\n",
    "\n",
    "    mv old_file.txt new_destination/\n",
    "    \n",
    "We can exemplify this with one of our text files:\n",
    "\n",
    "    mkdir move_file\n",
    "    mv test_file.txt move_dir/\n",
    "    cd move_dir/\n",
    "    ls\n",
    "\n",
    "The \"mv\" command also works for renaming files. For instance, if we wanted to rename test_file.txt to really_interesting_file.txt, we would just enter:\n",
    "\n",
    "    \n",
    "    mv test_file.txt really_interesting_file.txt\n",
    "    \n",
    "    \n",
    "The contents of the file will be exactly he same, but its name will now be different. These principles also apply for moving and renaming directories."
   ]
  },
  {
   "cell_type": "markdown",
   "metadata": {},
   "source": [
    " "
   ]
  },
  {
   "cell_type": "markdown",
   "metadata": {},
   "source": [
    "**Deleting a file**\n",
    "\n",
    "To remove a file, we use a command known as rm. Simply make sure that you are in the directory that houses the file that you wish to delete, and perform the following:\n",
    "\n",
    "\n",
    "    rm interesting_file.txt\n",
    "    \n",
    "\n",
    "To remove a directory, you may still use rm, though you will need to provide the -r flag to remove recursively:\n",
    "\n",
    "    cd ~/\n",
    "    rm -r test_directory/\n",
    "\n",
    "\n",
    "Alternatively, if the directory if completely empty, you may use rmdir:\n",
    "\n",
    "    cd ~/\n",
    "    rmdir test_directory/\n",
    "    \n",
    "    \n",
    "Be absolutely sure that you are prepared to lose this file or directory in question as it will be impossible to recover after deletion.\n"
   ]
  },
  {
   "cell_type": "markdown",
   "metadata": {},
   "source": [
    " "
   ]
  },
  {
   "cell_type": "markdown",
   "metadata": {},
   "source": [
    "This section only scratches the surface of what we can do with Unix/bash. For some more helpful hints, try looking [here](https://learncodethehardway.org/unix/bash_cheat_sheet.pdf) for some useful tricks. To get a better sense of other Unix-based things you can do that we were unable to cover completely in class, check out UC Davis' Command-line Bootcamp page [here](http://korflab.ucdavis.edu/bootcamp.html). "
   ]
  },
  {
   "cell_type": "markdown",
   "metadata": {
    "collapsed": true
   },
   "source": [
    "*** Windows Users: If any of these commands are not found in Cygwin, simply try running the setup step (setup.exe) again. At the \"Cygwin Setup\" page of the install, search and include any package that was originally missing from the Default installs. After finishing, these packages should now be available through Cygwin.***"
   ]
  },
  {
   "cell_type": "code",
   "execution_count": null,
   "metadata": {
    "collapsed": true
   },
   "outputs": [],
   "source": []
  }
 ],
 "metadata": {
  "kernelspec": {
   "display_name": "Python [Root]",
   "language": "python",
   "name": "Python [Root]"
  },
  "language_info": {
   "codemirror_mode": {
    "name": "ipython",
    "version": 2
   },
   "file_extension": ".py",
   "mimetype": "text/x-python",
   "name": "python",
   "nbconvert_exporter": "python",
   "pygments_lexer": "ipython2",
   "version": "2.7.12"
  }
 },
 "nbformat": 4,
 "nbformat_minor": 1
}
