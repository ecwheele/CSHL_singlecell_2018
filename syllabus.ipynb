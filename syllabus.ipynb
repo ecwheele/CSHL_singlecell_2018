{
 "cells": [
  {
   "cell_type": "markdown",
   "metadata": {},
   "source": [
    "# Bioinformatics CSHL Single Cell 2018\n",
    "\n",
    "\n",
    "### Contact us:\n",
    "[Emily Wheeler](mailto:ecwheele@ucsd.edu) (ecwheele@ucsd.edu) \n",
    "\n",
    "[Alex Chaim](mailto:iachaim@ucsd.edu) (iachaim@ucsd.edu)\n",
    "\n",
    "[Brian Yee](mailto:brian.alan.yee@gmail.com) (brian.alan.yee@gmail.com)\n",
    "\n",
    "[Ryan Marina](mailto:rmarina@ucsd.edu) (rmarina@ucsd.edu)  \n",
    "\n"
   ]
  },
  {
   "cell_type": "markdown",
   "metadata": {},
   "source": [
    "## Schedule\n",
    "\n",
    "| **Date** | **Time** | **Topic** |\n",
    "| ---- | ---- | ----- |\n",
    "| 6/29 | 2:30pm - 4:30pm | Overview TSCC, setup, course expectations |\n",
    "| 7/1 | 8:30pm - 10:00pm | Submitting jobs, dropseqtools |\n",
    "| 7/2 | 1:00pm - 3:30pm | Dropseqtools continued |\n",
    "| 7/2 | 8:30pm - 10:00pm | **Office Hours** |\n",
    "| 7/3 | 9:00am - 11:30am | CellRanger and Pipelines |\n",
    "| 7/3 | 1:00pm - 5:30pm | Analysis of dropseqtools results |\n",
    "| 7/3 | 8:30pm - 10:00pm | **Office Hours** |\n",
    "| 7/4 | 10:00am - 12:00pm or 1:00pm - 3:00pm | Something |\n",
    "| 7/9 | 10:00am - 11:30am or 1:00pm - 2:30pm | Soemthing |\n",
    "| 7/10 | 2:00pm - 3:30pm or 3:30pm - 5:00pm | Something |\n",
    "| 7/11 | 9:00am - 11:30pm | Something |\n",
    "| 7/11 | 8:30pm - 10:00pm | **Office Hours** |\n",
    "| 7/12 | 9:00am - 11:30am | McConnell Lab Analysis | \n",
    "| 7/12 | 2:00pm - 5:00pm | Something | \n",
    "| 7/12 | 8:30pm - 10:00pm | **Office Hours** | \n",
    "| 7/13 | 9:00am - 11:30am | Something |"
   ]
  },
  {
   "cell_type": "code",
   "execution_count": null,
   "metadata": {},
   "outputs": [],
   "source": []
  }
 ],
 "metadata": {
  "kernelspec": {
   "display_name": "python2-base",
   "language": "python",
   "name": "python2"
  },
  "language_info": {
   "codemirror_mode": {
    "name": "ipython",
    "version": 2
   },
   "file_extension": ".py",
   "mimetype": "text/x-python",
   "name": "python",
   "nbconvert_exporter": "python",
   "pygments_lexer": "ipython2",
   "version": "2.7.12"
  }
 },
 "nbformat": 4,
 "nbformat_minor": 1
}
